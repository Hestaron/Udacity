{
 "cells": [
  {
   "cell_type": "code",
   "execution_count": null,
   "id": "af08768b",
   "metadata": {},
   "outputs": [],
   "source": [
    "\"data/DisasterResponse.db\""
   ]
  },
  {
   "cell_type": "code",
   "execution_count": 15,
   "id": "8635b17c",
   "metadata": {},
   "outputs": [
    {
     "data": {
      "text/html": [
       "<div>\n",
       "<style scoped>\n",
       "    .dataframe tbody tr th:only-of-type {\n",
       "        vertical-align: middle;\n",
       "    }\n",
       "\n",
       "    .dataframe tbody tr th {\n",
       "        vertical-align: top;\n",
       "    }\n",
       "\n",
       "    .dataframe thead th {\n",
       "        text-align: right;\n",
       "    }\n",
       "</style>\n",
       "<table border=\"1\" class=\"dataframe\">\n",
       "  <thead>\n",
       "    <tr style=\"text-align: right;\">\n",
       "      <th></th>\n",
       "      <th>type</th>\n",
       "      <th>name</th>\n",
       "      <th>tbl_name</th>\n",
       "      <th>rootpage</th>\n",
       "      <th>sql</th>\n",
       "    </tr>\n",
       "  </thead>\n",
       "  <tbody>\n",
       "    <tr>\n",
       "      <th>0</th>\n",
       "      <td>table</td>\n",
       "      <td>data/DisasterResponse.db</td>\n",
       "      <td>data/DisasterResponse.db</td>\n",
       "      <td>2</td>\n",
       "      <td>CREATE TABLE \"data/DisasterResponse.db\" (\\n\\tm...</td>\n",
       "    </tr>\n",
       "    <tr>\n",
       "      <th>1</th>\n",
       "      <td>table</td>\n",
       "      <td>DisasterResponse</td>\n",
       "      <td>DisasterResponse</td>\n",
       "      <td>1787</td>\n",
       "      <td>CREATE TABLE \"DisasterResponse\" (\\n\\tmessage T...</td>\n",
       "    </tr>\n",
       "  </tbody>\n",
       "</table>\n",
       "</div>"
      ],
      "text/plain": [
       "    type                      name                  tbl_name  rootpage  \\\n",
       "0  table  data/DisasterResponse.db  data/DisasterResponse.db         2   \n",
       "1  table          DisasterResponse          DisasterResponse      1787   \n",
       "\n",
       "                                                 sql  \n",
       "0  CREATE TABLE \"data/DisasterResponse.db\" (\\n\\tm...  \n",
       "1  CREATE TABLE \"DisasterResponse\" (\\n\\tmessage T...  "
      ]
     },
     "execution_count": 15,
     "metadata": {},
     "output_type": "execute_result"
    }
   ],
   "source": [
    "from sqlalchemy import create_engine\n",
    "import pandas as pd\n",
    "\n",
    "engine = create_engine('sqlite:///../data/DisasterResponse.db')\n",
    "sql_query = \"SELECT * FROM sqlite_master\"\n",
    "# sql_query = \"SELECT * FROM sqlite_master where type='table'\"\n",
    "df = pd.read_sql(sql_query, engine)\n",
    "df.head()"
   ]
  },
  {
   "cell_type": "code",
   "execution_count": null,
   "id": "f1028710",
   "metadata": {},
   "outputs": [],
   "source": []
  }
 ],
 "metadata": {
  "kernelspec": {
   "display_name": "Python 3",
   "language": "python",
   "name": "python3"
  },
  "language_info": {
   "codemirror_mode": {
    "name": "ipython",
    "version": 3
   },
   "file_extension": ".py",
   "mimetype": "text/x-python",
   "name": "python",
   "nbconvert_exporter": "python",
   "pygments_lexer": "ipython3",
   "version": "3.9.4"
  }
 },
 "nbformat": 4,
 "nbformat_minor": 5
}
