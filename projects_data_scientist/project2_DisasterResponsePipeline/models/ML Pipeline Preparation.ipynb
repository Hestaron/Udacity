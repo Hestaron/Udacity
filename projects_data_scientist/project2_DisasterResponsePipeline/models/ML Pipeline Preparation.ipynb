{
 "cells": [
  {
   "cell_type": "markdown",
   "metadata": {},
   "source": [
    "# ML Pipeline Preparation\n",
    "Follow the instructions below to help you create your ML pipeline.\n",
    "### 1. Import libraries and load data from database.\n",
    "- Import Python libraries\n",
    "- Load dataset from database with [`read_sql_table`](https://pandas.pydata.org/pandas-docs/stable/generated/pandas.read_sql_table.html)\n",
    "- Define feature and target variables X and Y"
   ]
  },
  {
   "cell_type": "code",
   "execution_count": 18,
   "metadata": {},
   "outputs": [
    {
     "name": "stderr",
     "output_type": "stream",
     "text": [
      "[nltk_data] Downloading package punkt to\n",
      "[nltk_data]     C:\\Users\\ylc.mariman.MVGM\\AppData\\Roaming\\nltk_data...\n",
      "[nltk_data]   Package punkt is already up-to-date!\n",
      "[nltk_data] Downloading package wordnet to\n",
      "[nltk_data]     C:\\Users\\ylc.mariman.MVGM\\AppData\\Roaming\\nltk_data...\n",
      "[nltk_data]   Package wordnet is already up-to-date!\n",
      "[nltk_data] Downloading package averaged_perceptron_tagger to\n",
      "[nltk_data]     C:\\Users\\ylc.mariman.MVGM\\AppData\\Roaming\\nltk_data...\n",
      "[nltk_data]   Package averaged_perceptron_tagger is already up-to-\n",
      "[nltk_data]       date!\n",
      "[nltk_data] Downloading package tagsets to\n",
      "[nltk_data]     C:\\Users\\ylc.mariman.MVGM\\AppData\\Roaming\\nltk_data...\n",
      "[nltk_data]   Package tagsets is already up-to-date!\n"
     ]
    }
   ],
   "source": [
    "# import libraries\n",
    "import nltk\n",
    "nltk.download(['punkt', 'wordnet', 'averaged_perceptron_tagger', 'tagsets'])\n",
    "\n",
    "import re\n",
    "import numpy as np\n",
    "import pandas as pd\n",
    "from nltk.tokenize import word_tokenize\n",
    "from nltk.stem import WordNetLemmatizer\n",
    "from nltk.corpus import stopwords\n",
    "from nltk.corpus import wordnet\n",
    "\n",
    "from sklearn.metrics import confusion_matrix, classification_report\n",
    "from sklearn.model_selection import GridSearchCV\n",
    "from sklearn.ensemble import RandomForestClassifier\n",
    "from sklearn.model_selection import train_test_split\n",
    "from sklearn.pipeline import Pipeline, FeatureUnion\n",
    "from sklearn.base import BaseEstimator, TransformerMixin\n",
    "from sklearn.feature_extraction.text import CountVectorizer, TfidfTransformer\n",
    "from sqlalchemy import create_engine\n",
    "from sklearn.multioutput import MultiOutputClassifier"
   ]
  },
  {
   "cell_type": "code",
   "execution_count": 2,
   "metadata": {},
   "outputs": [],
   "source": [
    "# load data from database\n",
    "def load_data():\n",
    "    engine = create_engine('sqlite:///../data/DisasterResponse.db')\n",
    "    sql_query = \"SELECT * FROM DisasterTweets\"\n",
    "    df = pd.read_sql(sql_query, engine)\n",
    "    X = df.message\n",
    "    y = df[['related', 'request', 'offer',\n",
    "           'aid_related', 'medical_help', 'medical_products', 'search_and_rescue',\n",
    "           'security', 'military', 'child_alone', 'water', 'food', 'shelter',\n",
    "           'clothing', 'money', 'missing_people', 'refugees', 'death', 'other_aid',\n",
    "           'infrastructure_related', 'transport', 'buildings', 'electricity',\n",
    "           'tools', 'hospitals', 'shops', 'aid_centers', 'other_infrastructure',\n",
    "           'weather_related', 'floods', 'storm', 'fire', 'earthquake', 'cold',\n",
    "           'other_weather', 'direct_report']]\n",
    "    return X, y"
   ]
  },
  {
   "cell_type": "markdown",
   "metadata": {},
   "source": [
    "### 2. Write a tokenization function to process your text data"
   ]
  },
  {
   "cell_type": "code",
   "execution_count": 3,
   "metadata": {},
   "outputs": [],
   "source": [
    "#wordnet pos_tags can be found here: nltk.help.upenn_tagset()\n",
    "def tokenize(text):\n",
    "    \"\"\" \"\"\" \n",
    "    url_regex = 'http[s]?://(?:[a-zA-Z]|[0-9]|[$-_@.&+]|[!*\\(\\),]|(?:%[0-9a-fA-F][0-9a-fA-F]))+'\n",
    "    text = re.sub(url_regex, 'urlplaceholder', text)\n",
    "\n",
    "    # tokenize\n",
    "    text = re.sub(r\"[^A-Za-z]\", \" \", text.lower())\n",
    "    tokens = text.split(\" \")\n",
    "    \n",
    "    # nltk stopwords + urlplaceholder\n",
    "    stopwords_new = stopwords.words('english')\n",
    "    tokens = [word for word in tokens if word not in stopwords.words('english')+ ['urlplaceholder']]\n",
    "    \n",
    "    tokens_tagged = nltk.pos_tag(tokens)\n",
    "    words = [word for word, tag in tokens_tagged if tag in [\"JJ\", \"JJR\", \"JJS\", # Adjectives\n",
    "                                                            \"VB\", \"VBD\", \"VBG\", \"VBN\", \"VBP\", \"VBZ\", # Verbs\n",
    "                                                            \"NN\", \"NNP\", \"NNPS\", \"NNS\", #  Nouns\n",
    "                                                            \"RB\", \"RBR\", \"RBS\", # Adverbs\n",
    "                                                            ]]\n",
    "    \n",
    "    clean_tokens = [WordNetLemmatizer().lemmatize(w, pos=\"v\") for w in words] # v for verbs\n",
    "    return clean_tokens\n",
    "\n",
    "# X, y = load_data()\n",
    "# test = X[0]\n",
    "# print(test, tokenize(test))"
   ]
  },
  {
   "cell_type": "markdown",
   "metadata": {
    "tags": []
   },
   "source": [
    "### 3. Build a machine learning pipeline\n",
    "This machine pipeline should take in the `message` column as input and output classification results on the other 36 categories in the dataset. You may find the [MultiOutputClassifier](http://scikit-learn.org/stable/modules/generated/sklearn.multioutput.MultiOutputClassifier.html) helpful for predicting multiple target variables."
   ]
  },
  {
   "cell_type": "code",
   "execution_count": 56,
   "metadata": {
    "tags": []
   },
   "outputs": [],
   "source": [
    "def build_model():\n",
    "    pipeline = Pipeline([\n",
    "        ('vect', CountVectorizer(tokenizer=tokenize)),\n",
    "        ('tfidf', TfidfTransformer()),\n",
    "        ('clf', MultiOutputClassifier(RandomForestClassifier()))\n",
    "    ])\n",
    "\n",
    "    return pipeline"
   ]
  },
  {
   "cell_type": "markdown",
   "metadata": {},
   "source": [
    "### 4. Train pipeline\n",
    "- Split data into train and test sets\n",
    "- Train pipeline"
   ]
  },
  {
   "cell_type": "code",
   "execution_count": 6,
   "metadata": {},
   "outputs": [],
   "source": [
    "X, y = load_data()\n",
    "X_train, X_test, y_train, y_test = train_test_split(X.values, y)\n",
    "pipeline = build_model()\n",
    "pipeline.fit(X_train, y_train)\n",
    "\n",
    "y_pred = pipeline.predict(X_test)"
   ]
  },
  {
   "cell_type": "markdown",
   "metadata": {},
   "source": [
    "### 5. Test your model\n",
    "Report the f1 score, precision and recall for each output category of the dataset. You can do this by iterating through the columns and calling sklearn's `classification_report` on each."
   ]
  },
  {
   "cell_type": "code",
   "execution_count": 51,
   "metadata": {},
   "outputs": [],
   "source": [
    "def show_results(y_test, y_pred):\n",
    "    report = pd.DataFrame(data=[], index=['precision','recall','f1'], columns=y_test.columns)    \n",
    "\n",
    "    for col in y_test.columns:\n",
    "        test_col = y_test[col].reset_index(drop=True).rename(\"test\")\n",
    "        pred_col = pd.DataFrame(y_pred, columns=y_test.columns)[col].rename(\"predict\")\n",
    "        df_scores = pd.DataFrame([pd.to_numeric(test_col), pd.to_numeric(pred_col)]).T\n",
    "        tp = np.where((df_scores.test==1) & (df_scores.predict==1), 1, 0).sum()\n",
    "        fp = np.where((df_scores.test==0) & (df_scores.predict==1), 1, 0).sum()\n",
    "        fn = np.where((df_scores.test==1) & (df_scores.predict==0), 1, 0).sum()\n",
    "        \n",
    "        if tp==0:\n",
    "            precision=0\n",
    "            recall=0\n",
    "            f1=0\n",
    "        else:\n",
    "            precision = tp / ( tp + fp)\n",
    "            recall = tp / (tp + fn)\n",
    "            f1 = 2 * (precision*recall) / (precision + recall)\n",
    "\n",
    "        report.loc['precision'][col] = precision\n",
    "        report.loc['recall'][col] = recall\n",
    "        report.loc['f1'][col] = f1\n",
    "    display(report)\n",
    "    return report"
   ]
  },
  {
   "cell_type": "code",
   "execution_count": 55,
   "metadata": {},
   "outputs": [
    {
     "data": {
      "text/html": [
       "<div>\n",
       "<style scoped>\n",
       "    .dataframe tbody tr th:only-of-type {\n",
       "        vertical-align: middle;\n",
       "    }\n",
       "\n",
       "    .dataframe tbody tr th {\n",
       "        vertical-align: top;\n",
       "    }\n",
       "\n",
       "    .dataframe thead th {\n",
       "        text-align: right;\n",
       "    }\n",
       "</style>\n",
       "<table border=\"1\" class=\"dataframe\">\n",
       "  <thead>\n",
       "    <tr style=\"text-align: right;\">\n",
       "      <th></th>\n",
       "      <th>related</th>\n",
       "      <th>request</th>\n",
       "      <th>offer</th>\n",
       "      <th>aid_related</th>\n",
       "      <th>medical_help</th>\n",
       "      <th>medical_products</th>\n",
       "      <th>search_and_rescue</th>\n",
       "      <th>security</th>\n",
       "      <th>military</th>\n",
       "      <th>child_alone</th>\n",
       "      <th>...</th>\n",
       "      <th>aid_centers</th>\n",
       "      <th>other_infrastructure</th>\n",
       "      <th>weather_related</th>\n",
       "      <th>floods</th>\n",
       "      <th>storm</th>\n",
       "      <th>fire</th>\n",
       "      <th>earthquake</th>\n",
       "      <th>cold</th>\n",
       "      <th>other_weather</th>\n",
       "      <th>direct_report</th>\n",
       "    </tr>\n",
       "  </thead>\n",
       "  <tbody>\n",
       "    <tr>\n",
       "      <th>precision</th>\n",
       "      <td>0.830417</td>\n",
       "      <td>0.802038</td>\n",
       "      <td>0</td>\n",
       "      <td>0.759619</td>\n",
       "      <td>0.650794</td>\n",
       "      <td>0.62069</td>\n",
       "      <td>0.6</td>\n",
       "      <td>0</td>\n",
       "      <td>0.736842</td>\n",
       "      <td>0</td>\n",
       "      <td>...</td>\n",
       "      <td>0</td>\n",
       "      <td>0</td>\n",
       "      <td>0.840696</td>\n",
       "      <td>0.9</td>\n",
       "      <td>0.780423</td>\n",
       "      <td>0</td>\n",
       "      <td>0.869485</td>\n",
       "      <td>0.8125</td>\n",
       "      <td>0.5</td>\n",
       "      <td>0.759516</td>\n",
       "    </tr>\n",
       "    <tr>\n",
       "      <th>recall</th>\n",
       "      <td>0.957232</td>\n",
       "      <td>0.500909</td>\n",
       "      <td>0</td>\n",
       "      <td>0.681009</td>\n",
       "      <td>0.078244</td>\n",
       "      <td>0.056604</td>\n",
       "      <td>0.03352</td>\n",
       "      <td>0</td>\n",
       "      <td>0.060345</td>\n",
       "      <td>0</td>\n",
       "      <td>...</td>\n",
       "      <td>0</td>\n",
       "      <td>0</td>\n",
       "      <td>0.697003</td>\n",
       "      <td>0.48423</td>\n",
       "      <td>0.506873</td>\n",
       "      <td>0</td>\n",
       "      <td>0.783113</td>\n",
       "      <td>0.089041</td>\n",
       "      <td>0.023599</td>\n",
       "      <td>0.346761</td>\n",
       "    </tr>\n",
       "    <tr>\n",
       "      <th>f1</th>\n",
       "      <td>0.889326</td>\n",
       "      <td>0.616676</td>\n",
       "      <td>0</td>\n",
       "      <td>0.718169</td>\n",
       "      <td>0.139693</td>\n",
       "      <td>0.103746</td>\n",
       "      <td>0.063492</td>\n",
       "      <td>0</td>\n",
       "      <td>0.111554</td>\n",
       "      <td>0</td>\n",
       "      <td>...</td>\n",
       "      <td>0</td>\n",
       "      <td>0</td>\n",
       "      <td>0.762136</td>\n",
       "      <td>0.629674</td>\n",
       "      <td>0.614583</td>\n",
       "      <td>0</td>\n",
       "      <td>0.824042</td>\n",
       "      <td>0.160494</td>\n",
       "      <td>0.04507</td>\n",
       "      <td>0.476139</td>\n",
       "    </tr>\n",
       "  </tbody>\n",
       "</table>\n",
       "<p>3 rows × 36 columns</p>\n",
       "</div>"
      ],
      "text/plain": [
       "            related   request offer aid_related medical_help medical_products  \\\n",
       "precision  0.830417  0.802038     0    0.759619     0.650794          0.62069   \n",
       "recall     0.957232  0.500909     0    0.681009     0.078244         0.056604   \n",
       "f1         0.889326  0.616676     0    0.718169     0.139693         0.103746   \n",
       "\n",
       "          search_and_rescue security  military child_alone  ... aid_centers  \\\n",
       "precision               0.6        0  0.736842           0  ...           0   \n",
       "recall              0.03352        0  0.060345           0  ...           0   \n",
       "f1                 0.063492        0  0.111554           0  ...           0   \n",
       "\n",
       "          other_infrastructure weather_related    floods     storm fire  \\\n",
       "precision                    0        0.840696       0.9  0.780423    0   \n",
       "recall                       0        0.697003   0.48423  0.506873    0   \n",
       "f1                           0        0.762136  0.629674  0.614583    0   \n",
       "\n",
       "          earthquake      cold other_weather direct_report  \n",
       "precision   0.869485    0.8125           0.5      0.759516  \n",
       "recall      0.783113  0.089041      0.023599      0.346761  \n",
       "f1          0.824042  0.160494       0.04507      0.476139  \n",
       "\n",
       "[3 rows x 36 columns]"
      ]
     },
     "metadata": {},
     "output_type": "display_data"
    }
   ],
   "source": [
    "show_results(y_test=y_test, y_pred=y_pred);"
   ]
  },
  {
   "cell_type": "markdown",
   "metadata": {},
   "source": [
    "### 6. Improve your model\n",
    "Use grid search to find better parameters. "
   ]
  },
  {
   "cell_type": "code",
   "execution_count": 79,
   "metadata": {},
   "outputs": [],
   "source": [
    "pipeline = build_model()\n",
    "\n",
    "parameters = {\n",
    "    'vect__max_df': [0.5, 1.0, 1.5]\n",
    "#     'estimator__vect__max_df': [0.5, 1.0, 1.5],\n",
    "#     'features__text_pipeline__vect__max_df': (0.5, 0.75, 1.0),\n",
    "#     'features__text_pipeline__vect__max_features': (None, 5000, 10000),\n",
    "#     'features__text_pipeline__tfidf__use_idf': (True, False),\n",
    "#     'clf__n_estimators': [50, 100, 200],\n",
    "    # 'clf__min_samples_split': [2, 3, 4],\n",
    "    # 'features__transformer_weights': (\n",
    "    #     {'text_pipeline': 1, 'starting_verb': 0.5},\n",
    "    #     {'text_pipeline': 0.5, 'starting_verb': 1},\n",
    "    #     {'text_pipeline': 0.8, 'starting_verb': 1},\n",
    "    # )\n",
    "}\n",
    "\n",
    "cv = GridSearchCV(pipeline, param_grid=parameters)"
   ]
  },
  {
   "cell_type": "markdown",
   "metadata": {},
   "source": [
    "### 7. Test your model\n",
    "Show the accuracy, precision, and recall of the tuned model.  \n",
    "\n",
    "Since this project focuses on code quality, process, and  pipelines, there is no minimum performance metric needed to pass. However, make sure to fine tune your models for accuracy, precision and recall to make your project stand out - especially for your portfolio!"
   ]
  },
  {
   "cell_type": "code",
   "execution_count": 82,
   "metadata": {},
   "outputs": [],
   "source": [
    "# pipeline.get_params()"
   ]
  },
  {
   "cell_type": "code",
   "execution_count": 81,
   "metadata": {},
   "outputs": [
    {
     "name": "stderr",
     "output_type": "stream",
     "text": [
      "C:\\Users\\ylc.mariman.MVGM\\Miniconda3\\envs\\udacity\\lib\\site-packages\\sklearn\\model_selection\\_validation.py:372: FitFailedWarning: \n",
      "5 fits failed out of a total of 15.\n",
      "The score on these train-test partitions for these parameters will be set to nan.\n",
      "If these failures are not expected, you can try to debug them by setting error_score='raise'.\n",
      "\n",
      "Below are more details about the failures:\n",
      "--------------------------------------------------------------------------------\n",
      "5 fits failed with the following error:\n",
      "Traceback (most recent call last):\n",
      "  File \"C:\\Users\\ylc.mariman.MVGM\\Miniconda3\\envs\\udacity\\lib\\site-packages\\sklearn\\model_selection\\_validation.py\", line 681, in _fit_and_score\n",
      "    estimator.fit(X_train, y_train, **fit_params)\n",
      "  File \"C:\\Users\\ylc.mariman.MVGM\\Miniconda3\\envs\\udacity\\lib\\site-packages\\sklearn\\pipeline.py\", line 390, in fit\n",
      "    Xt = self._fit(X, y, **fit_params_steps)\n",
      "  File \"C:\\Users\\ylc.mariman.MVGM\\Miniconda3\\envs\\udacity\\lib\\site-packages\\sklearn\\pipeline.py\", line 348, in _fit\n",
      "    X, fitted_transformer = fit_transform_one_cached(\n",
      "  File \"C:\\Users\\ylc.mariman.MVGM\\Miniconda3\\envs\\udacity\\lib\\site-packages\\joblib\\memory.py\", line 349, in __call__\n",
      "    return self.func(*args, **kwargs)\n",
      "  File \"C:\\Users\\ylc.mariman.MVGM\\Miniconda3\\envs\\udacity\\lib\\site-packages\\sklearn\\pipeline.py\", line 893, in _fit_transform_one\n",
      "    res = transformer.fit_transform(X, y, **fit_params)\n",
      "  File \"C:\\Users\\ylc.mariman.MVGM\\Miniconda3\\envs\\udacity\\lib\\site-packages\\sklearn\\feature_extraction\\text.py\", line 1313, in fit_transform\n",
      "    self._validate_params()\n",
      "  File \"C:\\Users\\ylc.mariman.MVGM\\Miniconda3\\envs\\udacity\\lib\\site-packages\\sklearn\\feature_extraction\\text.py\", line 1264, in _validate_params\n",
      "    check_scalar(self.max_df, \"max_df\", numbers.Real, min_val=0.0, max_val=1.0)\n",
      "  File \"C:\\Users\\ylc.mariman.MVGM\\Miniconda3\\envs\\udacity\\lib\\site-packages\\sklearn\\utils\\validation.py\", line 1316, in check_scalar\n",
      "    raise ValueError(\n",
      "ValueError: max_df == 1.5, must be <= 1.0.\n",
      "\n",
      "  warnings.warn(some_fits_failed_message, FitFailedWarning)\n",
      "C:\\Users\\ylc.mariman.MVGM\\Miniconda3\\envs\\udacity\\lib\\site-packages\\sklearn\\model_selection\\_search.py:969: UserWarning: One or more of the test scores are non-finite: [0.27119672 0.2617873         nan]\n",
      "  warnings.warn(\n"
     ]
    }
   ],
   "source": [
    "cv.fit(X_train, y_train)\n",
    "\n",
    "y_pred = cv.predict(X_test)"
   ]
  },
  {
   "cell_type": "markdown",
   "metadata": {},
   "source": [
    "### 8. Try improving your model further. Here are a few ideas:\n",
    "* try other machine learning algorithms\n",
    "* add other features besides the TF-IDF"
   ]
  },
  {
   "cell_type": "code",
   "execution_count": null,
   "metadata": {},
   "outputs": [],
   "source": []
  },
  {
   "cell_type": "markdown",
   "metadata": {},
   "source": [
    "### 9. Export your model as a pickle file"
   ]
  },
  {
   "cell_type": "code",
   "execution_count": null,
   "metadata": {},
   "outputs": [],
   "source": [
    "import pickle\n",
    "\n",
    "with open('filename.pickle', 'wb') as handle:\n",
    "    pickle.dump(cv, handle, protocol=pickle.HIGHEST_PROTOCOL)\n",
    "\n",
    "with open('filename.pickle', 'rb') as handle:\n",
    "    cv = pickle.load(handle)"
   ]
  },
  {
   "cell_type": "markdown",
   "metadata": {},
   "source": [
    "### 10. Use this notebook to complete `train.py`\n",
    "Use the template file attached in the Resources folder to write a script that runs the steps above to create a database and export a model based on a new dataset specified by the user."
   ]
  },
  {
   "cell_type": "code",
   "execution_count": null,
   "metadata": {},
   "outputs": [],
   "source": []
  }
 ],
 "metadata": {
  "kernelspec": {
   "display_name": "Python 3",
   "language": "python",
   "name": "python3"
  },
  "language_info": {
   "codemirror_mode": {
    "name": "ipython",
    "version": 3
   },
   "file_extension": ".py",
   "mimetype": "text/x-python",
   "name": "python",
   "nbconvert_exporter": "python",
   "pygments_lexer": "ipython3",
   "version": "3.9.4"
  }
 },
 "nbformat": 4,
 "nbformat_minor": 4
}
