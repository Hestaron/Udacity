{
 "cells": [
  {
   "cell_type": "markdown",
   "metadata": {
    "tags": []
   },
   "source": [
    "# Starbucks Capstone Challenge\n",
    "\n",
    "### Introduction\n",
    "\n",
    "This data set contains simulated data that mimics customer behavior on the Starbucks rewards mobile app. Once every few days, Starbucks sends out an offer to users of the mobile app. An offer can be merely an advertisement for a drink or an actual offer such as a discount or BOGO (buy one get one free). Some users might not receive any offer during certain weeks. \n",
    "\n",
    "Not all users receive the same offer, and that is the challenge to solve with this data set.\n",
    "\n",
    "Your task is to combine transaction, demographic and offer data to determine which demographic groups respond best to which offer type. This data set is a simplified version of the real Starbucks app because the underlying simulator only has one product whereas Starbucks actually sells dozens of products.\n",
    "\n",
    "Every offer has a validity period before the offer expires. As an example, a BOGO offer might be valid for only 5 days. You'll see in the data set that informational offers have a validity period even though these ads are merely providing information about a product; for example, if an informational offer has 7 days of validity, you can assume the customer is feeling the influence of the offer for 7 days after receiving the advertisement.\n",
    "\n",
    "You'll be given transactional data showing user purchases made on the app including the timestamp of purchase and the amount of money spent on a purchase. This transactional data also has a record for each offer that a user receives as well as a record for when a user actually views the offer. There are also records for when a user completes an offer. \n",
    "\n",
    "Keep in mind as well that someone using the app might make a purchase through the app without having received an offer or seen an offer.\n",
    "\n",
    "### Example\n",
    "\n",
    "To give an example, a user could receive a discount offer buy 10 dollars get 2 off on Monday. The offer is valid for 10 days from receipt. If the customer accumulates at least 10 dollars in purchases during the validity period, the customer completes the offer.\n",
    "\n",
    "However, there are a few things to watch out for in this data set. Customers do not opt into the offers that they receive; in other words, a user can receive an offer, never actually view the offer, and still complete the offer. For example, a user might receive the \"buy 10 dollars get 2 dollars off offer\", but the user never opens the offer during the 10 day validity period. The customer spends 15 dollars during those ten days. There will be an offer completion record in the data set; however, the customer was not influenced by the offer because the customer never viewed the offer.\n",
    "\n",
    "### Cleaning\n",
    "\n",
    "This makes data cleaning especially important and tricky.\n",
    "\n",
    "You'll also want to take into account that some demographic groups will make purchases even if they don't receive an offer. From a business perspective, if a customer is going to make a 10 dollar purchase without an offer anyway, you wouldn't want to send a buy 10 dollars get 2 dollars off offer. You'll want to try to assess what a certain demographic group will buy when not receiving any offers.\n",
    "\n",
    "### Final Advice\n",
    "\n",
    "Because this is a capstone project, you are free to analyze the data any way you see fit. For example, you could build a machine learning model that predicts how much someone will spend based on demographics and offer type. Or you could build a model that predicts whether or not someone will respond to an offer. Or, you don't need to build a machine learning model at all. You could develop a set of heuristics that determine what offer you should send to each customer (i.e., 75 percent of women customers who were 35 years old responded to offer A vs 40 percent from the same demographic to offer B, so send offer A)."
   ]
  },
  {
   "cell_type": "code",
   "execution_count": 99,
   "metadata": {},
   "outputs": [],
   "source": [
    "import pandas as pd\n",
    "import numpy as np\n",
    "import math\n",
    "import json\n",
    "import matplotlib as plt\n",
    "import seaborn as sns\n",
    "from pprint import pprint\n",
    "from functions import save_pickle\n",
    "\n",
    "from sklearn.impute import SimpleImputer\n",
    "from sklearn.preprocessing import OneHotEncoder\n",
    "from sklearn.model_selection import train_test_split, RandomizedSearchCV\n",
    "from sklearn.ensemble import RandomForestClassifier\n",
    "from sklearn.metrics import accuracy_score, recall_score, f1_score, confusion_matrix, precision_score"
   ]
  },
  {
   "cell_type": "code",
   "execution_count": 100,
   "metadata": {},
   "outputs": [],
   "source": [
    "# read in the json files\n",
    "portfolio_raw = pd.read_json('data/portfolio.json', orient='records', lines=True)\n",
    "profile_raw = pd.read_json('data/profile.json', orient='records', lines=True)\n",
    "transcript_raw = pd.read_json('data/transcript.json', orient='records', lines=True)"
   ]
  },
  {
   "cell_type": "code",
   "execution_count": 101,
   "metadata": {},
   "outputs": [],
   "source": [
    "test_size = 0.15\n",
    "seed = 42"
   ]
  },
  {
   "cell_type": "markdown",
   "metadata": {},
   "source": [
    "## Define the problem"
   ]
  },
  {
   "cell_type": "markdown",
   "metadata": {},
   "source": [
    "## Preprocessing"
   ]
  },
  {
   "cell_type": "markdown",
   "metadata": {
    "tags": []
   },
   "source": [
    "### Data Sets\n",
    "\n",
    "The data is contained in three files:\n",
    "\n",
    "* portfolio.json - containing offer ids and meta data about each offer (duration, type, etc.)\n",
    "* profile.json - demographic data for each customer\n",
    "* transcript.json - records for transactions, offers received, offers viewed, and offers completed"
   ]
  },
  {
   "cell_type": "markdown",
   "metadata": {},
   "source": [
    "#### Portfolio data\n",
    "* id (string) - offer id\n",
    "* offer_type (string) - type of offer ie BOGO, discount, informational\n",
    "* difficulty (int) - minimum required spend to complete an offer\n",
    "* reward (int) - reward given for completing an offer\n",
    "* duration (int) - time for offer to be open, in days\n",
    "* channels (list of strings)"
   ]
  },
  {
   "cell_type": "code",
   "execution_count": 102,
   "metadata": {},
   "outputs": [
    {
     "data": {
      "text/html": [
       "<div>\n",
       "<style scoped>\n",
       "    .dataframe tbody tr th:only-of-type {\n",
       "        vertical-align: middle;\n",
       "    }\n",
       "\n",
       "    .dataframe tbody tr th {\n",
       "        vertical-align: top;\n",
       "    }\n",
       "\n",
       "    .dataframe thead th {\n",
       "        text-align: right;\n",
       "    }\n",
       "</style>\n",
       "<table border=\"1\" class=\"dataframe\">\n",
       "  <thead>\n",
       "    <tr style=\"text-align: right;\">\n",
       "      <th></th>\n",
       "      <th>reward</th>\n",
       "      <th>channels</th>\n",
       "      <th>difficulty</th>\n",
       "      <th>duration</th>\n",
       "      <th>offer_type</th>\n",
       "      <th>id</th>\n",
       "    </tr>\n",
       "  </thead>\n",
       "  <tbody>\n",
       "    <tr>\n",
       "      <th>0</th>\n",
       "      <td>10</td>\n",
       "      <td>[email, mobile, social]</td>\n",
       "      <td>10</td>\n",
       "      <td>7</td>\n",
       "      <td>bogo</td>\n",
       "      <td>ae264e3637204a6fb9bb56bc8210ddfd</td>\n",
       "    </tr>\n",
       "    <tr>\n",
       "      <th>1</th>\n",
       "      <td>10</td>\n",
       "      <td>[web, email, mobile, social]</td>\n",
       "      <td>10</td>\n",
       "      <td>5</td>\n",
       "      <td>bogo</td>\n",
       "      <td>4d5c57ea9a6940dd891ad53e9dbe8da0</td>\n",
       "    </tr>\n",
       "    <tr>\n",
       "      <th>2</th>\n",
       "      <td>0</td>\n",
       "      <td>[web, email, mobile]</td>\n",
       "      <td>0</td>\n",
       "      <td>4</td>\n",
       "      <td>informational</td>\n",
       "      <td>3f207df678b143eea3cee63160fa8bed</td>\n",
       "    </tr>\n",
       "    <tr>\n",
       "      <th>3</th>\n",
       "      <td>5</td>\n",
       "      <td>[web, email, mobile]</td>\n",
       "      <td>5</td>\n",
       "      <td>7</td>\n",
       "      <td>bogo</td>\n",
       "      <td>9b98b8c7a33c4b65b9aebfe6a799e6d9</td>\n",
       "    </tr>\n",
       "    <tr>\n",
       "      <th>4</th>\n",
       "      <td>5</td>\n",
       "      <td>[web, email]</td>\n",
       "      <td>20</td>\n",
       "      <td>10</td>\n",
       "      <td>discount</td>\n",
       "      <td>0b1e1539f2cc45b7b9fa7c272da2e1d7</td>\n",
       "    </tr>\n",
       "    <tr>\n",
       "      <th>5</th>\n",
       "      <td>3</td>\n",
       "      <td>[web, email, mobile, social]</td>\n",
       "      <td>7</td>\n",
       "      <td>7</td>\n",
       "      <td>discount</td>\n",
       "      <td>2298d6c36e964ae4a3e7e9706d1fb8c2</td>\n",
       "    </tr>\n",
       "    <tr>\n",
       "      <th>6</th>\n",
       "      <td>2</td>\n",
       "      <td>[web, email, mobile, social]</td>\n",
       "      <td>10</td>\n",
       "      <td>10</td>\n",
       "      <td>discount</td>\n",
       "      <td>fafdcd668e3743c1bb461111dcafc2a4</td>\n",
       "    </tr>\n",
       "    <tr>\n",
       "      <th>7</th>\n",
       "      <td>0</td>\n",
       "      <td>[email, mobile, social]</td>\n",
       "      <td>0</td>\n",
       "      <td>3</td>\n",
       "      <td>informational</td>\n",
       "      <td>5a8bc65990b245e5a138643cd4eb9837</td>\n",
       "    </tr>\n",
       "    <tr>\n",
       "      <th>8</th>\n",
       "      <td>5</td>\n",
       "      <td>[web, email, mobile, social]</td>\n",
       "      <td>5</td>\n",
       "      <td>5</td>\n",
       "      <td>bogo</td>\n",
       "      <td>f19421c1d4aa40978ebb69ca19b0e20d</td>\n",
       "    </tr>\n",
       "    <tr>\n",
       "      <th>9</th>\n",
       "      <td>2</td>\n",
       "      <td>[web, email, mobile]</td>\n",
       "      <td>10</td>\n",
       "      <td>7</td>\n",
       "      <td>discount</td>\n",
       "      <td>2906b810c7d4411798c6938adc9daaa5</td>\n",
       "    </tr>\n",
       "  </tbody>\n",
       "</table>\n",
       "</div>"
      ],
      "text/plain": [
       "   reward                      channels  difficulty  duration     offer_type  \\\n",
       "0      10       [email, mobile, social]          10         7           bogo   \n",
       "1      10  [web, email, mobile, social]          10         5           bogo   \n",
       "2       0          [web, email, mobile]           0         4  informational   \n",
       "3       5          [web, email, mobile]           5         7           bogo   \n",
       "4       5                  [web, email]          20        10       discount   \n",
       "5       3  [web, email, mobile, social]           7         7       discount   \n",
       "6       2  [web, email, mobile, social]          10        10       discount   \n",
       "7       0       [email, mobile, social]           0         3  informational   \n",
       "8       5  [web, email, mobile, social]           5         5           bogo   \n",
       "9       2          [web, email, mobile]          10         7       discount   \n",
       "\n",
       "                                 id  \n",
       "0  ae264e3637204a6fb9bb56bc8210ddfd  \n",
       "1  4d5c57ea9a6940dd891ad53e9dbe8da0  \n",
       "2  3f207df678b143eea3cee63160fa8bed  \n",
       "3  9b98b8c7a33c4b65b9aebfe6a799e6d9  \n",
       "4  0b1e1539f2cc45b7b9fa7c272da2e1d7  \n",
       "5  2298d6c36e964ae4a3e7e9706d1fb8c2  \n",
       "6  fafdcd668e3743c1bb461111dcafc2a4  \n",
       "7  5a8bc65990b245e5a138643cd4eb9837  \n",
       "8  f19421c1d4aa40978ebb69ca19b0e20d  \n",
       "9  2906b810c7d4411798c6938adc9daaa5  "
      ]
     },
     "execution_count": 102,
     "metadata": {},
     "output_type": "execute_result"
    }
   ],
   "source": [
    "portfolio_raw"
   ]
  },
  {
   "cell_type": "code",
   "execution_count": 103,
   "metadata": {},
   "outputs": [],
   "source": [
    "portfolio = portfolio_raw.join(portfolio_raw.pop(\"channels\").str.join(\"|\").str.get_dummies())"
   ]
  },
  {
   "cell_type": "code",
   "execution_count": 104,
   "metadata": {},
   "outputs": [
    {
     "data": {
      "text/html": [
       "<div>\n",
       "<style scoped>\n",
       "    .dataframe tbody tr th:only-of-type {\n",
       "        vertical-align: middle;\n",
       "    }\n",
       "\n",
       "    .dataframe tbody tr th {\n",
       "        vertical-align: top;\n",
       "    }\n",
       "\n",
       "    .dataframe thead th {\n",
       "        text-align: right;\n",
       "    }\n",
       "</style>\n",
       "<table border=\"1\" class=\"dataframe\">\n",
       "  <thead>\n",
       "    <tr style=\"text-align: right;\">\n",
       "      <th></th>\n",
       "      <th>reward</th>\n",
       "      <th>difficulty</th>\n",
       "      <th>duration</th>\n",
       "      <th>offer_type</th>\n",
       "      <th>id</th>\n",
       "      <th>email</th>\n",
       "      <th>mobile</th>\n",
       "      <th>social</th>\n",
       "      <th>web</th>\n",
       "    </tr>\n",
       "  </thead>\n",
       "  <tbody>\n",
       "    <tr>\n",
       "      <th>0</th>\n",
       "      <td>10</td>\n",
       "      <td>10</td>\n",
       "      <td>7</td>\n",
       "      <td>bogo</td>\n",
       "      <td>ae264e3637204a6fb9bb56bc8210ddfd</td>\n",
       "      <td>1</td>\n",
       "      <td>1</td>\n",
       "      <td>1</td>\n",
       "      <td>0</td>\n",
       "    </tr>\n",
       "    <tr>\n",
       "      <th>1</th>\n",
       "      <td>10</td>\n",
       "      <td>10</td>\n",
       "      <td>5</td>\n",
       "      <td>bogo</td>\n",
       "      <td>4d5c57ea9a6940dd891ad53e9dbe8da0</td>\n",
       "      <td>1</td>\n",
       "      <td>1</td>\n",
       "      <td>1</td>\n",
       "      <td>1</td>\n",
       "    </tr>\n",
       "    <tr>\n",
       "      <th>2</th>\n",
       "      <td>0</td>\n",
       "      <td>0</td>\n",
       "      <td>4</td>\n",
       "      <td>informational</td>\n",
       "      <td>3f207df678b143eea3cee63160fa8bed</td>\n",
       "      <td>1</td>\n",
       "      <td>1</td>\n",
       "      <td>0</td>\n",
       "      <td>1</td>\n",
       "    </tr>\n",
       "    <tr>\n",
       "      <th>3</th>\n",
       "      <td>5</td>\n",
       "      <td>5</td>\n",
       "      <td>7</td>\n",
       "      <td>bogo</td>\n",
       "      <td>9b98b8c7a33c4b65b9aebfe6a799e6d9</td>\n",
       "      <td>1</td>\n",
       "      <td>1</td>\n",
       "      <td>0</td>\n",
       "      <td>1</td>\n",
       "    </tr>\n",
       "    <tr>\n",
       "      <th>4</th>\n",
       "      <td>5</td>\n",
       "      <td>20</td>\n",
       "      <td>10</td>\n",
       "      <td>discount</td>\n",
       "      <td>0b1e1539f2cc45b7b9fa7c272da2e1d7</td>\n",
       "      <td>1</td>\n",
       "      <td>0</td>\n",
       "      <td>0</td>\n",
       "      <td>1</td>\n",
       "    </tr>\n",
       "    <tr>\n",
       "      <th>5</th>\n",
       "      <td>3</td>\n",
       "      <td>7</td>\n",
       "      <td>7</td>\n",
       "      <td>discount</td>\n",
       "      <td>2298d6c36e964ae4a3e7e9706d1fb8c2</td>\n",
       "      <td>1</td>\n",
       "      <td>1</td>\n",
       "      <td>1</td>\n",
       "      <td>1</td>\n",
       "    </tr>\n",
       "    <tr>\n",
       "      <th>6</th>\n",
       "      <td>2</td>\n",
       "      <td>10</td>\n",
       "      <td>10</td>\n",
       "      <td>discount</td>\n",
       "      <td>fafdcd668e3743c1bb461111dcafc2a4</td>\n",
       "      <td>1</td>\n",
       "      <td>1</td>\n",
       "      <td>1</td>\n",
       "      <td>1</td>\n",
       "    </tr>\n",
       "    <tr>\n",
       "      <th>7</th>\n",
       "      <td>0</td>\n",
       "      <td>0</td>\n",
       "      <td>3</td>\n",
       "      <td>informational</td>\n",
       "      <td>5a8bc65990b245e5a138643cd4eb9837</td>\n",
       "      <td>1</td>\n",
       "      <td>1</td>\n",
       "      <td>1</td>\n",
       "      <td>0</td>\n",
       "    </tr>\n",
       "    <tr>\n",
       "      <th>8</th>\n",
       "      <td>5</td>\n",
       "      <td>5</td>\n",
       "      <td>5</td>\n",
       "      <td>bogo</td>\n",
       "      <td>f19421c1d4aa40978ebb69ca19b0e20d</td>\n",
       "      <td>1</td>\n",
       "      <td>1</td>\n",
       "      <td>1</td>\n",
       "      <td>1</td>\n",
       "    </tr>\n",
       "    <tr>\n",
       "      <th>9</th>\n",
       "      <td>2</td>\n",
       "      <td>10</td>\n",
       "      <td>7</td>\n",
       "      <td>discount</td>\n",
       "      <td>2906b810c7d4411798c6938adc9daaa5</td>\n",
       "      <td>1</td>\n",
       "      <td>1</td>\n",
       "      <td>0</td>\n",
       "      <td>1</td>\n",
       "    </tr>\n",
       "  </tbody>\n",
       "</table>\n",
       "</div>"
      ],
      "text/plain": [
       "   reward  difficulty  duration     offer_type  \\\n",
       "0      10          10         7           bogo   \n",
       "1      10          10         5           bogo   \n",
       "2       0           0         4  informational   \n",
       "3       5           5         7           bogo   \n",
       "4       5          20        10       discount   \n",
       "5       3           7         7       discount   \n",
       "6       2          10        10       discount   \n",
       "7       0           0         3  informational   \n",
       "8       5           5         5           bogo   \n",
       "9       2          10         7       discount   \n",
       "\n",
       "                                 id  email  mobile  social  web  \n",
       "0  ae264e3637204a6fb9bb56bc8210ddfd      1       1       1    0  \n",
       "1  4d5c57ea9a6940dd891ad53e9dbe8da0      1       1       1    1  \n",
       "2  3f207df678b143eea3cee63160fa8bed      1       1       0    1  \n",
       "3  9b98b8c7a33c4b65b9aebfe6a799e6d9      1       1       0    1  \n",
       "4  0b1e1539f2cc45b7b9fa7c272da2e1d7      1       0       0    1  \n",
       "5  2298d6c36e964ae4a3e7e9706d1fb8c2      1       1       1    1  \n",
       "6  fafdcd668e3743c1bb461111dcafc2a4      1       1       1    1  \n",
       "7  5a8bc65990b245e5a138643cd4eb9837      1       1       1    0  \n",
       "8  f19421c1d4aa40978ebb69ca19b0e20d      1       1       1    1  \n",
       "9  2906b810c7d4411798c6938adc9daaa5      1       1       0    1  "
      ]
     },
     "execution_count": 104,
     "metadata": {},
     "output_type": "execute_result"
    }
   ],
   "source": [
    "portfolio"
   ]
  },
  {
   "cell_type": "markdown",
   "metadata": {
    "tags": []
   },
   "source": [
    "#### Profile data\n",
    "\n",
    "* age (int) - age of the customer \n",
    "* became_member_on (int) - date when customer created an app account\n",
    "* gender (str) - gender of the customer (note some entries contain 'O' for other rather than M or F)\n",
    "* id (str) - customer id\n",
    "* income (float) - customer's income"
   ]
  },
  {
   "cell_type": "code",
   "execution_count": 105,
   "metadata": {},
   "outputs": [
    {
     "data": {
      "text/html": [
       "<div>\n",
       "<style scoped>\n",
       "    .dataframe tbody tr th:only-of-type {\n",
       "        vertical-align: middle;\n",
       "    }\n",
       "\n",
       "    .dataframe tbody tr th {\n",
       "        vertical-align: top;\n",
       "    }\n",
       "\n",
       "    .dataframe thead th {\n",
       "        text-align: right;\n",
       "    }\n",
       "</style>\n",
       "<table border=\"1\" class=\"dataframe\">\n",
       "  <thead>\n",
       "    <tr style=\"text-align: right;\">\n",
       "      <th></th>\n",
       "      <th>gender</th>\n",
       "      <th>age</th>\n",
       "      <th>id</th>\n",
       "      <th>became_member_on</th>\n",
       "      <th>income</th>\n",
       "    </tr>\n",
       "  </thead>\n",
       "  <tbody>\n",
       "    <tr>\n",
       "      <th>0</th>\n",
       "      <td>None</td>\n",
       "      <td>118</td>\n",
       "      <td>68be06ca386d4c31939f3a4f0e3dd783</td>\n",
       "      <td>20170212</td>\n",
       "      <td>NaN</td>\n",
       "    </tr>\n",
       "    <tr>\n",
       "      <th>1</th>\n",
       "      <td>F</td>\n",
       "      <td>55</td>\n",
       "      <td>0610b486422d4921ae7d2bf64640c50b</td>\n",
       "      <td>20170715</td>\n",
       "      <td>112000.0</td>\n",
       "    </tr>\n",
       "    <tr>\n",
       "      <th>2</th>\n",
       "      <td>None</td>\n",
       "      <td>118</td>\n",
       "      <td>38fe809add3b4fcf9315a9694bb96ff5</td>\n",
       "      <td>20180712</td>\n",
       "      <td>NaN</td>\n",
       "    </tr>\n",
       "    <tr>\n",
       "      <th>3</th>\n",
       "      <td>F</td>\n",
       "      <td>75</td>\n",
       "      <td>78afa995795e4d85b5d9ceeca43f5fef</td>\n",
       "      <td>20170509</td>\n",
       "      <td>100000.0</td>\n",
       "    </tr>\n",
       "    <tr>\n",
       "      <th>4</th>\n",
       "      <td>None</td>\n",
       "      <td>118</td>\n",
       "      <td>a03223e636434f42ac4c3df47e8bac43</td>\n",
       "      <td>20170804</td>\n",
       "      <td>NaN</td>\n",
       "    </tr>\n",
       "    <tr>\n",
       "      <th>5</th>\n",
       "      <td>M</td>\n",
       "      <td>68</td>\n",
       "      <td>e2127556f4f64592b11af22de27a7932</td>\n",
       "      <td>20180426</td>\n",
       "      <td>70000.0</td>\n",
       "    </tr>\n",
       "    <tr>\n",
       "      <th>6</th>\n",
       "      <td>None</td>\n",
       "      <td>118</td>\n",
       "      <td>8ec6ce2a7e7949b1bf142def7d0e0586</td>\n",
       "      <td>20170925</td>\n",
       "      <td>NaN</td>\n",
       "    </tr>\n",
       "  </tbody>\n",
       "</table>\n",
       "</div>"
      ],
      "text/plain": [
       "  gender  age                                id  became_member_on    income\n",
       "0   None  118  68be06ca386d4c31939f3a4f0e3dd783          20170212       NaN\n",
       "1      F   55  0610b486422d4921ae7d2bf64640c50b          20170715  112000.0\n",
       "2   None  118  38fe809add3b4fcf9315a9694bb96ff5          20180712       NaN\n",
       "3      F   75  78afa995795e4d85b5d9ceeca43f5fef          20170509  100000.0\n",
       "4   None  118  a03223e636434f42ac4c3df47e8bac43          20170804       NaN\n",
       "5      M   68  e2127556f4f64592b11af22de27a7932          20180426   70000.0\n",
       "6   None  118  8ec6ce2a7e7949b1bf142def7d0e0586          20170925       NaN"
      ]
     },
     "execution_count": 105,
     "metadata": {},
     "output_type": "execute_result"
    }
   ],
   "source": [
    "profile_raw.head(7)"
   ]
  },
  {
   "cell_type": "code",
   "execution_count": 106,
   "metadata": {},
   "outputs": [
    {
     "data": {
      "text/plain": [
       "(17000, 5)"
      ]
     },
     "execution_count": 106,
     "metadata": {},
     "output_type": "execute_result"
    }
   ],
   "source": [
    "profile_raw.shape"
   ]
  },
  {
   "cell_type": "code",
   "execution_count": 107,
   "metadata": {},
   "outputs": [
    {
     "data": {
      "text/plain": [
       "M      8484\n",
       "F      6129\n",
       "NaN    2175\n",
       "O       212\n",
       "Name: gender, dtype: int64"
      ]
     },
     "execution_count": 107,
     "metadata": {},
     "output_type": "execute_result"
    }
   ],
   "source": [
    "profile_raw.gender.value_counts(dropna=False)"
   ]
  },
  {
   "cell_type": "code",
   "execution_count": 108,
   "metadata": {},
   "outputs": [
    {
     "data": {
      "text/plain": [
       "gender              2175\n",
       "age                    0\n",
       "id                     0\n",
       "became_member_on       0\n",
       "income              2175\n",
       "dtype: int64"
      ]
     },
     "execution_count": 108,
     "metadata": {},
     "output_type": "execute_result"
    }
   ],
   "source": [
    "profile_raw.isna().sum()"
   ]
  },
  {
   "cell_type": "code",
   "execution_count": 109,
   "metadata": {
    "tags": []
   },
   "outputs": [
    {
     "data": {
      "text/plain": [
       "gender              2175\n",
       "age                    0\n",
       "id                     0\n",
       "became_member_on       0\n",
       "income              2175\n",
       "dtype: int64"
      ]
     },
     "execution_count": 109,
     "metadata": {},
     "output_type": "execute_result"
    }
   ],
   "source": [
    "profile_raw[profile_raw.gender.isna()].isna().sum()"
   ]
  },
  {
   "cell_type": "markdown",
   "metadata": {},
   "source": [
    "The code above shows that everyone that did not fill in gender, did also not fill in income."
   ]
  },
  {
   "cell_type": "code",
   "execution_count": 110,
   "metadata": {},
   "outputs": [
    {
     "data": {
      "image/png": "[encoded data removed]",
      "text/plain": [
       "<Figure size 576x396 with 1 Axes>"
      ]
     },
     "metadata": {},
     "output_type": "display_data"
    }
   ],
   "source": [
    "income_dist = sns.histplot(profile_raw, x='income', hue='gender');\n",
    "income_dist.set(xlabel=\"Income ($)\", title=\"The income distributions for different genders\");"
   ]
  },
  {
   "cell_type": "markdown",
   "metadata": {
    "tags": []
   },
   "source": [
    "#### Transcript\n",
    "\n",
    "**transcript.json**\n",
    "* event (str) - record description (ie transaction, offer received, offer viewed, etc.)\n",
    "* person (str) - customer id\n",
    "* time (int) - time in hours since start of test. The data begins at time t=0\n",
    "* value - (dict of strings) - either an offer id or transaction amount depending on the record"
   ]
  },
  {
   "cell_type": "code",
   "execution_count": 111,
   "metadata": {},
   "outputs": [
    {
     "data": {
      "text/plain": [
       "(306534, 4)"
      ]
     },
     "execution_count": 111,
     "metadata": {},
     "output_type": "execute_result"
    }
   ],
   "source": [
    "transcript_raw.shape"
   ]
  },
  {
   "cell_type": "code",
   "execution_count": 112,
   "metadata": {},
   "outputs": [
    {
     "data": {
      "text/html": [
       "<div>\n",
       "<style scoped>\n",
       "    .dataframe tbody tr th:only-of-type {\n",
       "        vertical-align: middle;\n",
       "    }\n",
       "\n",
       "    .dataframe tbody tr th {\n",
       "        vertical-align: top;\n",
       "    }\n",
       "\n",
       "    .dataframe thead th {\n",
       "        text-align: right;\n",
       "    }\n",
       "</style>\n",
       "<table border=\"1\" class=\"dataframe\">\n",
       "  <thead>\n",
       "    <tr style=\"text-align: right;\">\n",
       "      <th></th>\n",
       "      <th>person</th>\n",
       "      <th>event</th>\n",
       "      <th>value</th>\n",
       "      <th>time</th>\n",
       "    </tr>\n",
       "  </thead>\n",
       "  <tbody>\n",
       "    <tr>\n",
       "      <th>0</th>\n",
       "      <td>78afa995795e4d85b5d9ceeca43f5fef</td>\n",
       "      <td>offer received</td>\n",
       "      <td>{'offer id': '9b98b8c7a33c4b65b9aebfe6a799e6d9'}</td>\n",
       "      <td>0</td>\n",
       "    </tr>\n",
       "    <tr>\n",
       "      <th>1</th>\n",
       "      <td>a03223e636434f42ac4c3df47e8bac43</td>\n",
       "      <td>offer received</td>\n",
       "      <td>{'offer id': '0b1e1539f2cc45b7b9fa7c272da2e1d7'}</td>\n",
       "      <td>0</td>\n",
       "    </tr>\n",
       "    <tr>\n",
       "      <th>2</th>\n",
       "      <td>e2127556f4f64592b11af22de27a7932</td>\n",
       "      <td>offer received</td>\n",
       "      <td>{'offer id': '2906b810c7d4411798c6938adc9daaa5'}</td>\n",
       "      <td>0</td>\n",
       "    </tr>\n",
       "    <tr>\n",
       "      <th>3</th>\n",
       "      <td>8ec6ce2a7e7949b1bf142def7d0e0586</td>\n",
       "      <td>offer received</td>\n",
       "      <td>{'offer id': 'fafdcd668e3743c1bb461111dcafc2a4'}</td>\n",
       "      <td>0</td>\n",
       "    </tr>\n",
       "    <tr>\n",
       "      <th>4</th>\n",
       "      <td>68617ca6246f4fbc85e91a2a49552598</td>\n",
       "      <td>offer received</td>\n",
       "      <td>{'offer id': '4d5c57ea9a6940dd891ad53e9dbe8da0'}</td>\n",
       "      <td>0</td>\n",
       "    </tr>\n",
       "    <tr>\n",
       "      <th>5</th>\n",
       "      <td>389bc3fa690240e798340f5a15918d5c</td>\n",
       "      <td>offer received</td>\n",
       "      <td>{'offer id': 'f19421c1d4aa40978ebb69ca19b0e20d'}</td>\n",
       "      <td>0</td>\n",
       "    </tr>\n",
       "    <tr>\n",
       "      <th>6</th>\n",
       "      <td>c4863c7985cf408faee930f111475da3</td>\n",
       "      <td>offer received</td>\n",
       "      <td>{'offer id': '2298d6c36e964ae4a3e7e9706d1fb8c2'}</td>\n",
       "      <td>0</td>\n",
       "    </tr>\n",
       "    <tr>\n",
       "      <th>7</th>\n",
       "      <td>2eeac8d8feae4a8cad5a6af0499a211d</td>\n",
       "      <td>offer received</td>\n",
       "      <td>{'offer id': '3f207df678b143eea3cee63160fa8bed'}</td>\n",
       "      <td>0</td>\n",
       "    </tr>\n",
       "    <tr>\n",
       "      <th>8</th>\n",
       "      <td>aa4862eba776480b8bb9c68455b8c2e1</td>\n",
       "      <td>offer received</td>\n",
       "      <td>{'offer id': '0b1e1539f2cc45b7b9fa7c272da2e1d7'}</td>\n",
       "      <td>0</td>\n",
       "    </tr>\n",
       "    <tr>\n",
       "      <th>9</th>\n",
       "      <td>31dda685af34476cad5bc968bdb01c53</td>\n",
       "      <td>offer received</td>\n",
       "      <td>{'offer id': '0b1e1539f2cc45b7b9fa7c272da2e1d7'}</td>\n",
       "      <td>0</td>\n",
       "    </tr>\n",
       "  </tbody>\n",
       "</table>\n",
       "</div>"
      ],
      "text/plain": [
       "                             person           event  \\\n",
       "0  78afa995795e4d85b5d9ceeca43f5fef  offer received   \n",
       "1  a03223e636434f42ac4c3df47e8bac43  offer received   \n",
       "2  e2127556f4f64592b11af22de27a7932  offer received   \n",
       "3  8ec6ce2a7e7949b1bf142def7d0e0586  offer received   \n",
       "4  68617ca6246f4fbc85e91a2a49552598  offer received   \n",
       "5  389bc3fa690240e798340f5a15918d5c  offer received   \n",
       "6  c4863c7985cf408faee930f111475da3  offer received   \n",
       "7  2eeac8d8feae4a8cad5a6af0499a211d  offer received   \n",
       "8  aa4862eba776480b8bb9c68455b8c2e1  offer received   \n",
       "9  31dda685af34476cad5bc968bdb01c53  offer received   \n",
       "\n",
       "                                              value  time  \n",
       "0  {'offer id': '9b98b8c7a33c4b65b9aebfe6a799e6d9'}     0  \n",
       "1  {'offer id': '0b1e1539f2cc45b7b9fa7c272da2e1d7'}     0  \n",
       "2  {'offer id': '2906b810c7d4411798c6938adc9daaa5'}     0  \n",
       "3  {'offer id': 'fafdcd668e3743c1bb461111dcafc2a4'}     0  \n",
       "4  {'offer id': '4d5c57ea9a6940dd891ad53e9dbe8da0'}     0  \n",
       "5  {'offer id': 'f19421c1d4aa40978ebb69ca19b0e20d'}     0  \n",
       "6  {'offer id': '2298d6c36e964ae4a3e7e9706d1fb8c2'}     0  \n",
       "7  {'offer id': '3f207df678b143eea3cee63160fa8bed'}     0  \n",
       "8  {'offer id': '0b1e1539f2cc45b7b9fa7c272da2e1d7'}     0  \n",
       "9  {'offer id': '0b1e1539f2cc45b7b9fa7c272da2e1d7'}     0  "
      ]
     },
     "execution_count": 112,
     "metadata": {},
     "output_type": "execute_result"
    }
   ],
   "source": [
    "transcript_raw.head(10)"
   ]
  },
  {
   "cell_type": "code",
   "execution_count": 113,
   "metadata": {},
   "outputs": [
    {
     "data": {
      "text/html": [
       "<div>\n",
       "<style scoped>\n",
       "    .dataframe tbody tr th:only-of-type {\n",
       "        vertical-align: middle;\n",
       "    }\n",
       "\n",
       "    .dataframe tbody tr th {\n",
       "        vertical-align: top;\n",
       "    }\n",
       "\n",
       "    .dataframe thead th {\n",
       "        text-align: right;\n",
       "    }\n",
       "</style>\n",
       "<table border=\"1\" class=\"dataframe\">\n",
       "  <thead>\n",
       "    <tr style=\"text-align: right;\">\n",
       "      <th></th>\n",
       "      <th>person</th>\n",
       "      <th>event</th>\n",
       "      <th>value</th>\n",
       "      <th>time</th>\n",
       "    </tr>\n",
       "  </thead>\n",
       "  <tbody>\n",
       "    <tr>\n",
       "      <th>0</th>\n",
       "      <td>78afa995795e4d85b5d9ceeca43f5fef</td>\n",
       "      <td>offer received</td>\n",
       "      <td>{'offer id': '9b98b8c7a33c4b65b9aebfe6a799e6d9'}</td>\n",
       "      <td>0</td>\n",
       "    </tr>\n",
       "    <tr>\n",
       "      <th>15561</th>\n",
       "      <td>78afa995795e4d85b5d9ceeca43f5fef</td>\n",
       "      <td>offer viewed</td>\n",
       "      <td>{'offer id': '9b98b8c7a33c4b65b9aebfe6a799e6d9'}</td>\n",
       "      <td>6</td>\n",
       "    </tr>\n",
       "    <tr>\n",
       "      <th>47582</th>\n",
       "      <td>78afa995795e4d85b5d9ceeca43f5fef</td>\n",
       "      <td>transaction</td>\n",
       "      <td>{'amount': 19.89}</td>\n",
       "      <td>132</td>\n",
       "    </tr>\n",
       "    <tr>\n",
       "      <th>47583</th>\n",
       "      <td>78afa995795e4d85b5d9ceeca43f5fef</td>\n",
       "      <td>offer completed</td>\n",
       "      <td>{'offer_id': '9b98b8c7a33c4b65b9aebfe6a799e6d9...</td>\n",
       "      <td>132</td>\n",
       "    </tr>\n",
       "    <tr>\n",
       "      <th>49502</th>\n",
       "      <td>78afa995795e4d85b5d9ceeca43f5fef</td>\n",
       "      <td>transaction</td>\n",
       "      <td>{'amount': 17.78}</td>\n",
       "      <td>144</td>\n",
       "    </tr>\n",
       "    <tr>\n",
       "      <th>53176</th>\n",
       "      <td>78afa995795e4d85b5d9ceeca43f5fef</td>\n",
       "      <td>offer received</td>\n",
       "      <td>{'offer id': '5a8bc65990b245e5a138643cd4eb9837'}</td>\n",
       "      <td>168</td>\n",
       "    </tr>\n",
       "    <tr>\n",
       "      <th>85291</th>\n",
       "      <td>78afa995795e4d85b5d9ceeca43f5fef</td>\n",
       "      <td>offer viewed</td>\n",
       "      <td>{'offer id': '5a8bc65990b245e5a138643cd4eb9837'}</td>\n",
       "      <td>216</td>\n",
       "    </tr>\n",
       "    <tr>\n",
       "      <th>87134</th>\n",
       "      <td>78afa995795e4d85b5d9ceeca43f5fef</td>\n",
       "      <td>transaction</td>\n",
       "      <td>{'amount': 19.67}</td>\n",
       "      <td>222</td>\n",
       "    </tr>\n",
       "    <tr>\n",
       "      <th>92104</th>\n",
       "      <td>78afa995795e4d85b5d9ceeca43f5fef</td>\n",
       "      <td>transaction</td>\n",
       "      <td>{'amount': 29.72}</td>\n",
       "      <td>240</td>\n",
       "    </tr>\n",
       "    <tr>\n",
       "      <th>141566</th>\n",
       "      <td>78afa995795e4d85b5d9ceeca43f5fef</td>\n",
       "      <td>transaction</td>\n",
       "      <td>{'amount': 23.93}</td>\n",
       "      <td>378</td>\n",
       "    </tr>\n",
       "    <tr>\n",
       "      <th>150598</th>\n",
       "      <td>78afa995795e4d85b5d9ceeca43f5fef</td>\n",
       "      <td>offer received</td>\n",
       "      <td>{'offer id': 'ae264e3637204a6fb9bb56bc8210ddfd'}</td>\n",
       "      <td>408</td>\n",
       "    </tr>\n",
       "    <tr>\n",
       "      <th>163375</th>\n",
       "      <td>78afa995795e4d85b5d9ceeca43f5fef</td>\n",
       "      <td>offer viewed</td>\n",
       "      <td>{'offer id': 'ae264e3637204a6fb9bb56bc8210ddfd'}</td>\n",
       "      <td>408</td>\n",
       "    </tr>\n",
       "    <tr>\n",
       "      <th>201572</th>\n",
       "      <td>78afa995795e4d85b5d9ceeca43f5fef</td>\n",
       "      <td>offer received</td>\n",
       "      <td>{'offer id': 'f19421c1d4aa40978ebb69ca19b0e20d'}</td>\n",
       "      <td>504</td>\n",
       "    </tr>\n",
       "    <tr>\n",
       "      <th>218393</th>\n",
       "      <td>78afa995795e4d85b5d9ceeca43f5fef</td>\n",
       "      <td>transaction</td>\n",
       "      <td>{'amount': 21.72}</td>\n",
       "      <td>510</td>\n",
       "    </tr>\n",
       "    <tr>\n",
       "      <th>218394</th>\n",
       "      <td>78afa995795e4d85b5d9ceeca43f5fef</td>\n",
       "      <td>offer completed</td>\n",
       "      <td>{'offer_id': 'ae264e3637204a6fb9bb56bc8210ddfd...</td>\n",
       "      <td>510</td>\n",
       "    </tr>\n",
       "    <tr>\n",
       "      <th>218395</th>\n",
       "      <td>78afa995795e4d85b5d9ceeca43f5fef</td>\n",
       "      <td>offer completed</td>\n",
       "      <td>{'offer_id': 'f19421c1d4aa40978ebb69ca19b0e20d...</td>\n",
       "      <td>510</td>\n",
       "    </tr>\n",
       "    <tr>\n",
       "      <th>230412</th>\n",
       "      <td>78afa995795e4d85b5d9ceeca43f5fef</td>\n",
       "      <td>transaction</td>\n",
       "      <td>{'amount': 26.56}</td>\n",
       "      <td>534</td>\n",
       "    </tr>\n",
       "    <tr>\n",
       "      <th>262138</th>\n",
       "      <td>78afa995795e4d85b5d9ceeca43f5fef</td>\n",
       "      <td>offer viewed</td>\n",
       "      <td>{'offer id': 'f19421c1d4aa40978ebb69ca19b0e20d'}</td>\n",
       "      <td>582</td>\n",
       "    </tr>\n",
       "  </tbody>\n",
       "</table>\n",
       "</div>"
      ],
      "text/plain": [
       "                                  person            event  \\\n",
       "0       78afa995795e4d85b5d9ceeca43f5fef   offer received   \n",
       "15561   78afa995795e4d85b5d9ceeca43f5fef     offer viewed   \n",
       "47582   78afa995795e4d85b5d9ceeca43f5fef      transaction   \n",
       "47583   78afa995795e4d85b5d9ceeca43f5fef  offer completed   \n",
       "49502   78afa995795e4d85b5d9ceeca43f5fef      transaction   \n",
       "53176   78afa995795e4d85b5d9ceeca43f5fef   offer received   \n",
       "85291   78afa995795e4d85b5d9ceeca43f5fef     offer viewed   \n",
       "87134   78afa995795e4d85b5d9ceeca43f5fef      transaction   \n",
       "92104   78afa995795e4d85b5d9ceeca43f5fef      transaction   \n",
       "141566  78afa995795e4d85b5d9ceeca43f5fef      transaction   \n",
       "150598  78afa995795e4d85b5d9ceeca43f5fef   offer received   \n",
       "163375  78afa995795e4d85b5d9ceeca43f5fef     offer viewed   \n",
       "201572  78afa995795e4d85b5d9ceeca43f5fef   offer received   \n",
       "218393  78afa995795e4d85b5d9ceeca43f5fef      transaction   \n",
       "218394  78afa995795e4d85b5d9ceeca43f5fef  offer completed   \n",
       "218395  78afa995795e4d85b5d9ceeca43f5fef  offer completed   \n",
       "230412  78afa995795e4d85b5d9ceeca43f5fef      transaction   \n",
       "262138  78afa995795e4d85b5d9ceeca43f5fef     offer viewed   \n",
       "\n",
       "                                                    value  time  \n",
       "0        {'offer id': '9b98b8c7a33c4b65b9aebfe6a799e6d9'}     0  \n",
       "15561    {'offer id': '9b98b8c7a33c4b65b9aebfe6a799e6d9'}     6  \n",
       "47582                                   {'amount': 19.89}   132  \n",
       "47583   {'offer_id': '9b98b8c7a33c4b65b9aebfe6a799e6d9...   132  \n",
       "49502                                   {'amount': 17.78}   144  \n",
       "53176    {'offer id': '5a8bc65990b245e5a138643cd4eb9837'}   168  \n",
       "85291    {'offer id': '5a8bc65990b245e5a138643cd4eb9837'}   216  \n",
       "87134                                   {'amount': 19.67}   222  \n",
       "92104                                   {'amount': 29.72}   240  \n",
       "141566                                  {'amount': 23.93}   378  \n",
       "150598   {'offer id': 'ae264e3637204a6fb9bb56bc8210ddfd'}   408  \n",
       "163375   {'offer id': 'ae264e3637204a6fb9bb56bc8210ddfd'}   408  \n",
       "201572   {'offer id': 'f19421c1d4aa40978ebb69ca19b0e20d'}   504  \n",
       "218393                                  {'amount': 21.72}   510  \n",
       "218394  {'offer_id': 'ae264e3637204a6fb9bb56bc8210ddfd...   510  \n",
       "218395  {'offer_id': 'f19421c1d4aa40978ebb69ca19b0e20d...   510  \n",
       "230412                                  {'amount': 26.56}   534  \n",
       "262138   {'offer id': 'f19421c1d4aa40978ebb69ca19b0e20d'}   582  "
      ]
     },
     "execution_count": 113,
     "metadata": {},
     "output_type": "execute_result"
    }
   ],
   "source": [
    "transcript_raw[transcript_raw.person=='78afa995795e4d85b5d9ceeca43f5fef']"
   ]
  },
  {
   "cell_type": "code",
   "execution_count": 114,
   "metadata": {},
   "outputs": [
    {
     "data": {
      "text/plain": [
       "transaction        138953\n",
       "offer received      76277\n",
       "offer viewed        57725\n",
       "offer completed     33579\n",
       "Name: event, dtype: int64"
      ]
     },
     "execution_count": 114,
     "metadata": {},
     "output_type": "execute_result"
    }
   ],
   "source": [
    "transcript_raw.event.value_counts(dropna=False)"
   ]
  },
  {
   "cell_type": "code",
   "execution_count": 115,
   "metadata": {},
   "outputs": [],
   "source": [
    "# Split the json-like value column\n",
    "transcript = transcript_raw.join(transcript_raw.value.apply(pd.Series))#.drop('value')"
   ]
  },
  {
   "cell_type": "code",
   "execution_count": 116,
   "metadata": {},
   "outputs": [
    {
     "data": {
      "image/png": "[encoded data removed]",
      "text/plain": [
       "<Figure size 576x396 with 1 Axes>"
      ]
     },
     "metadata": {},
     "output_type": "display_data"
    }
   ],
   "source": [
    "transcript_plot = transcript[~transcript[\"offer id\"].isnull()].copy(deep=True)\n",
    "transcript_plot = transcript_plot.merge(portfolio[\"id\"].reset_index(), left_on=\"offer id\", right_on=\"id\")\n",
    "\n",
    "diff_orders = sns.countplot(data=transcript_plot,x=\"index\")\n",
    "diff_orders.set(xlabel=\"Different order id's\", title=\"Distribution of different offers\");"
   ]
  },
  {
   "cell_type": "code",
   "execution_count": 117,
   "metadata": {},
   "outputs": [],
   "source": [
    "# Merge the transcripts with the persons\n",
    "transcript_persons = transcript.merge(profile_raw, left_on=\"person\", right_on=\"id\", how=\"outer\")"
   ]
  },
  {
   "cell_type": "code",
   "execution_count": 118,
   "metadata": {},
   "outputs": [],
   "source": [
    "# Combine the offer_id and the 'offer id' columns\n",
    "transcript_persons[\"offer_id\"] = transcript_persons[\"offer_id\"].where(~transcript_persons[\"offer_id\"].isna(), transcript_persons[\"offer id\"])"
   ]
  },
  {
   "cell_type": "code",
   "execution_count": 119,
   "metadata": {},
   "outputs": [],
   "source": [
    "# Only select the relevant columns\n",
    "df = transcript_persons[['event', 'time', 'offer_id', 'amount', 'gender', 'age', 'became_member_on', 'income', 'person']]"
   ]
  },
  {
   "cell_type": "code",
   "execution_count": 120,
   "metadata": {},
   "outputs": [],
   "source": [
    "# merge the transcripts, persons and portfolio\n",
    "df_total = df.merge(portfolio, right_on=\"id\", left_on=\"offer_id\", how=\"outer\")[['event', 'time', 'amount', 'gender', 'age', 'became_member_on', 'income', 'reward', 'difficulty', 'duration', 'offer_type', 'email', 'mobile', 'social', 'web', 'person', 'id']]"
   ]
  },
  {
   "cell_type": "code",
   "execution_count": 121,
   "metadata": {},
   "outputs": [],
   "source": [
    "# rename id's for clarity\n",
    "df_total.rename(columns={\"id\":\"transaction_id\", \"person\":\"person_id\"}, inplace=True)"
   ]
  },
  {
   "cell_type": "code",
   "execution_count": 122,
   "metadata": {},
   "outputs": [],
   "source": [
    "# Duration in hours\n",
    "df_total.duration = df_total.duration * 24"
   ]
  },
  {
   "cell_type": "code",
   "execution_count": 123,
   "metadata": {},
   "outputs": [],
   "source": [
    "# Select the offers received, viewed and completed\n",
    "offer_received = df_total[df_total.event==\"offer received\"]\n",
    "offer_viewed = df_total[df_total.event==\"offer viewed\"][['person_id', 'transaction_id', 'time']]\n",
    "offer_completed = df_total[df_total.event==\"offer completed\"][['person_id', 'transaction_id', 'time']]\n",
    "\n",
    "# Add offers viewed to offers received\n",
    "df_offer = offer_received.merge(offer_viewed, left_on=[\"person_id\", \"transaction_id\"], right_on=[\"person_id\", \"transaction_id\"], how=\"outer\")\n",
    "df_offer = df_offer.rename(columns={\"time_x\":\"time_offer_received\", \"time_y\":\"time_offer_viewed\"})\n",
    "df_offer[\"time_offer_ended\"] = df_offer.time_offer_received + df_offer.duration\n",
    "\n",
    "# The offer is either seen within the period of receiving and ending OR the offer is not seen at all (null value)\n",
    "df_offer = df_offer[((df_offer.time_offer_received <= df_offer.time_offer_viewed) & (df_offer.time_offer_viewed <= df_offer.time_offer_ended)) | (df_offer.time_offer_viewed.isna())]"
   ]
  },
  {
   "cell_type": "code",
   "execution_count": 124,
   "metadata": {},
   "outputs": [],
   "source": [
    "# Merging the offer_completed\n",
    "df_offer = df_offer.merge(offer_completed, left_on=[\"person_id\", \"transaction_id\"], right_on=[\"person_id\", \"transaction_id\"], how=\"outer\")\n",
    "df_offer.rename(columns={\"time\":\"time_completed\"}, inplace=True)\n",
    "data = df_offer[((df_offer.time_offer_viewed <= df_offer.time_completed) & (df_offer.time_completed <= df_offer.time_offer_ended)) | (df_offer.time_completed.isna())]"
   ]
  },
  {
   "cell_type": "code",
   "execution_count": 125,
   "metadata": {},
   "outputs": [],
   "source": [
    "# The age 118 is unlikely for so many people. We assume that it is a default value of some sorts.\n",
    "data.age.where(data.age!=118, inplace=True)"
   ]
  },
  {
   "cell_type": "markdown",
   "metadata": {
    "tags": []
   },
   "source": [
    "## Analysis & Modelling\n",
    "\n",
    "The purpose is to see what impacts offer completions."
   ]
  },
  {
   "cell_type": "markdown",
   "metadata": {},
   "source": [
    "### Feature engineering\n",
    "\n",
    "<ul>\n",
    "    <li>time_offer_viewed: Can not change influence this. Will be deleted. </li>\n",
    "    <li>event, person_id, transaction_id, amount: deleted</li>\n",
    "    <li>gender: nans will be filled with \"unknown\"</li>\n",
    "    <li>time_completed: a target column willl be created. 0 if time_completed is nan, 1 else</li>\n",
    "    <li>became_member_on: change to datetime and transform to amount of days member until the most recent date.</li>\n",
    "</ul>\n",
    "\n",
    "Rows with no income and age can be dropped to see if models perform better after."
   ]
  },
  {
   "cell_type": "code",
   "execution_count": 126,
   "metadata": {},
   "outputs": [
    {
     "data": {
      "text/plain": [
       "Index(['event', 'time_offer_received', 'amount', 'gender', 'age',\n",
       "       'became_member_on', 'income', 'reward', 'difficulty', 'duration',\n",
       "       'offer_type', 'email', 'mobile', 'social', 'web', 'person_id',\n",
       "       'transaction_id', 'time_offer_viewed', 'time_offer_ended',\n",
       "       'time_completed'],\n",
       "      dtype='object')"
      ]
     },
     "execution_count": 126,
     "metadata": {},
     "output_type": "execute_result"
    }
   ],
   "source": [
    "data.columns"
   ]
  },
  {
   "cell_type": "code",
   "execution_count": 127,
   "metadata": {},
   "outputs": [
    {
     "data": {
      "text/html": [
       "<div>\n",
       "<style scoped>\n",
       "    .dataframe tbody tr th:only-of-type {\n",
       "        vertical-align: middle;\n",
       "    }\n",
       "\n",
       "    .dataframe tbody tr th {\n",
       "        vertical-align: top;\n",
       "    }\n",
       "\n",
       "    .dataframe thead th {\n",
       "        text-align: right;\n",
       "    }\n",
       "</style>\n",
       "<table border=\"1\" class=\"dataframe\">\n",
       "  <thead>\n",
       "    <tr style=\"text-align: right;\">\n",
       "      <th></th>\n",
       "      <th>event</th>\n",
       "      <th>time_offer_received</th>\n",
       "      <th>amount</th>\n",
       "      <th>gender</th>\n",
       "      <th>age</th>\n",
       "      <th>became_member_on</th>\n",
       "      <th>income</th>\n",
       "      <th>reward</th>\n",
       "      <th>difficulty</th>\n",
       "      <th>duration</th>\n",
       "      <th>offer_type</th>\n",
       "      <th>email</th>\n",
       "      <th>mobile</th>\n",
       "      <th>social</th>\n",
       "      <th>web</th>\n",
       "      <th>person_id</th>\n",
       "      <th>transaction_id</th>\n",
       "      <th>time_offer_viewed</th>\n",
       "      <th>time_offer_ended</th>\n",
       "      <th>time_completed</th>\n",
       "    </tr>\n",
       "  </thead>\n",
       "  <tbody>\n",
       "    <tr>\n",
       "      <th>0</th>\n",
       "      <td>offer received</td>\n",
       "      <td>0.0</td>\n",
       "      <td>NaN</td>\n",
       "      <td>F</td>\n",
       "      <td>75.0</td>\n",
       "      <td>20170509.0</td>\n",
       "      <td>100000.0</td>\n",
       "      <td>5.0</td>\n",
       "      <td>5.0</td>\n",
       "      <td>168.0</td>\n",
       "      <td>bogo</td>\n",
       "      <td>1.0</td>\n",
       "      <td>1.0</td>\n",
       "      <td>0.0</td>\n",
       "      <td>1.0</td>\n",
       "      <td>78afa995795e4d85b5d9ceeca43f5fef</td>\n",
       "      <td>9b98b8c7a33c4b65b9aebfe6a799e6d9</td>\n",
       "      <td>6.0</td>\n",
       "      <td>168.0</td>\n",
       "      <td>132.0</td>\n",
       "    </tr>\n",
       "    <tr>\n",
       "      <th>1</th>\n",
       "      <td>offer received</td>\n",
       "      <td>408.0</td>\n",
       "      <td>NaN</td>\n",
       "      <td>M</td>\n",
       "      <td>68.0</td>\n",
       "      <td>20180426.0</td>\n",
       "      <td>70000.0</td>\n",
       "      <td>5.0</td>\n",
       "      <td>5.0</td>\n",
       "      <td>168.0</td>\n",
       "      <td>bogo</td>\n",
       "      <td>1.0</td>\n",
       "      <td>1.0</td>\n",
       "      <td>0.0</td>\n",
       "      <td>1.0</td>\n",
       "      <td>e2127556f4f64592b11af22de27a7932</td>\n",
       "      <td>9b98b8c7a33c4b65b9aebfe6a799e6d9</td>\n",
       "      <td>420.0</td>\n",
       "      <td>576.0</td>\n",
       "      <td>522.0</td>\n",
       "    </tr>\n",
       "    <tr>\n",
       "      <th>2</th>\n",
       "      <td>offer received</td>\n",
       "      <td>504.0</td>\n",
       "      <td>NaN</td>\n",
       "      <td>None</td>\n",
       "      <td>NaN</td>\n",
       "      <td>20171002.0</td>\n",
       "      <td>NaN</td>\n",
       "      <td>5.0</td>\n",
       "      <td>5.0</td>\n",
       "      <td>168.0</td>\n",
       "      <td>bogo</td>\n",
       "      <td>1.0</td>\n",
       "      <td>1.0</td>\n",
       "      <td>0.0</td>\n",
       "      <td>1.0</td>\n",
       "      <td>68617ca6246f4fbc85e91a2a49552598</td>\n",
       "      <td>9b98b8c7a33c4b65b9aebfe6a799e6d9</td>\n",
       "      <td>648.0</td>\n",
       "      <td>672.0</td>\n",
       "      <td>NaN</td>\n",
       "    </tr>\n",
       "    <tr>\n",
       "      <th>4</th>\n",
       "      <td>offer received</td>\n",
       "      <td>408.0</td>\n",
       "      <td>NaN</td>\n",
       "      <td>M</td>\n",
       "      <td>65.0</td>\n",
       "      <td>20180209.0</td>\n",
       "      <td>53000.0</td>\n",
       "      <td>5.0</td>\n",
       "      <td>5.0</td>\n",
       "      <td>168.0</td>\n",
       "      <td>bogo</td>\n",
       "      <td>1.0</td>\n",
       "      <td>1.0</td>\n",
       "      <td>0.0</td>\n",
       "      <td>1.0</td>\n",
       "      <td>389bc3fa690240e798340f5a15918d5c</td>\n",
       "      <td>9b98b8c7a33c4b65b9aebfe6a799e6d9</td>\n",
       "      <td>438.0</td>\n",
       "      <td>576.0</td>\n",
       "      <td>498.0</td>\n",
       "    </tr>\n",
       "    <tr>\n",
       "      <th>5</th>\n",
       "      <td>offer received</td>\n",
       "      <td>504.0</td>\n",
       "      <td>NaN</td>\n",
       "      <td>F</td>\n",
       "      <td>56.0</td>\n",
       "      <td>20180428.0</td>\n",
       "      <td>88000.0</td>\n",
       "      <td>5.0</td>\n",
       "      <td>5.0</td>\n",
       "      <td>168.0</td>\n",
       "      <td>bogo</td>\n",
       "      <td>1.0</td>\n",
       "      <td>1.0</td>\n",
       "      <td>0.0</td>\n",
       "      <td>1.0</td>\n",
       "      <td>d058f73bf8674a26a95227db098147b1</td>\n",
       "      <td>9b98b8c7a33c4b65b9aebfe6a799e6d9</td>\n",
       "      <td>522.0</td>\n",
       "      <td>672.0</td>\n",
       "      <td>NaN</td>\n",
       "    </tr>\n",
       "  </tbody>\n",
       "</table>\n",
       "</div>"
      ],
      "text/plain": [
       "            event  time_offer_received  amount gender   age  became_member_on  \\\n",
       "0  offer received                  0.0     NaN      F  75.0        20170509.0   \n",
       "1  offer received                408.0     NaN      M  68.0        20180426.0   \n",
       "2  offer received                504.0     NaN   None   NaN        20171002.0   \n",
       "4  offer received                408.0     NaN      M  65.0        20180209.0   \n",
       "5  offer received                504.0     NaN      F  56.0        20180428.0   \n",
       "\n",
       "     income  reward  difficulty  duration offer_type  email  mobile  social  \\\n",
       "0  100000.0     5.0         5.0     168.0       bogo    1.0     1.0     0.0   \n",
       "1   70000.0     5.0         5.0     168.0       bogo    1.0     1.0     0.0   \n",
       "2       NaN     5.0         5.0     168.0       bogo    1.0     1.0     0.0   \n",
       "4   53000.0     5.0         5.0     168.0       bogo    1.0     1.0     0.0   \n",
       "5   88000.0     5.0         5.0     168.0       bogo    1.0     1.0     0.0   \n",
       "\n",
       "   web                         person_id                    transaction_id  \\\n",
       "0  1.0  78afa995795e4d85b5d9ceeca43f5fef  9b98b8c7a33c4b65b9aebfe6a799e6d9   \n",
       "1  1.0  e2127556f4f64592b11af22de27a7932  9b98b8c7a33c4b65b9aebfe6a799e6d9   \n",
       "2  1.0  68617ca6246f4fbc85e91a2a49552598  9b98b8c7a33c4b65b9aebfe6a799e6d9   \n",
       "4  1.0  389bc3fa690240e798340f5a15918d5c  9b98b8c7a33c4b65b9aebfe6a799e6d9   \n",
       "5  1.0  d058f73bf8674a26a95227db098147b1  9b98b8c7a33c4b65b9aebfe6a799e6d9   \n",
       "\n",
       "   time_offer_viewed  time_offer_ended  time_completed  \n",
       "0                6.0             168.0           132.0  \n",
       "1              420.0             576.0           522.0  \n",
       "2              648.0             672.0             NaN  \n",
       "4              438.0             576.0           498.0  \n",
       "5              522.0             672.0             NaN  "
      ]
     },
     "execution_count": 127,
     "metadata": {},
     "output_type": "execute_result"
    }
   ],
   "source": [
    "data.head()"
   ]
  },
  {
   "cell_type": "code",
   "execution_count": 128,
   "metadata": {},
   "outputs": [
    {
     "data": {
      "text/plain": [
       "(64623, 20)"
      ]
     },
     "execution_count": 128,
     "metadata": {},
     "output_type": "execute_result"
    }
   ],
   "source": [
    "data.shape"
   ]
  },
  {
   "cell_type": "markdown",
   "metadata": {},
   "source": [
    "#### Delete unnecessary columns"
   ]
  },
  {
   "cell_type": "code",
   "execution_count": 129,
   "metadata": {},
   "outputs": [],
   "source": [
    "# Delete columns\n",
    "data = data.drop(columns=[\"time_offer_viewed\", \"event\", \"amount\", \"person_id\", \"transaction_id\"])"
   ]
  },
  {
   "cell_type": "markdown",
   "metadata": {},
   "source": [
    "#### Fill gender with unknown"
   ]
  },
  {
   "cell_type": "code",
   "execution_count": 130,
   "metadata": {},
   "outputs": [],
   "source": [
    "# Fill gender\n",
    "data.gender.fillna(\"Unknown\", inplace=True)"
   ]
  },
  {
   "cell_type": "markdown",
   "metadata": {},
   "source": [
    "#### Age Analysis"
   ]
  },
  {
   "cell_type": "code",
   "execution_count": 131,
   "metadata": {},
   "outputs": [
    {
     "data": {
      "image/png": "[encoded data removed]",
      "text/plain": [
       "<Figure size 576x396 with 1 Axes>"
      ]
     },
     "metadata": {},
     "output_type": "display_data"
    }
   ],
   "source": [
    "# Group ages\n",
    "sns.histplot(data, x=\"age\", bins=83); # 83 for every age 18 to 101"
   ]
  },
  {
   "cell_type": "code",
   "execution_count": 132,
   "metadata": {},
   "outputs": [],
   "source": [
    "bins = [0, 18, 25, 35, 45, 55, 65, 70, 74, 80, 85, 90, 110]\n",
    "age_bins = pd.cut(data.age, bins)\n",
    "age_bins = age_bins.cat.add_categories(\"Unknown\")\n",
    "age_bins.fillna(\"Unknown\", inplace=True)\n",
    "\n",
    "# df_age = pd.get_dummies(age_bins).add_prefix(\"age_\")\n",
    "# data.pop(\"age\")\n",
    "# data = data.join(df_age)"
   ]
  },
  {
   "cell_type": "code",
   "execution_count": 133,
   "metadata": {},
   "outputs": [
    {
     "data": {
      "image/png": "[encoded data removed]",
      "text/plain": [
       "<Figure size 720x288 with 1 Axes>"
      ]
     },
     "metadata": {},
     "output_type": "display_data"
    }
   ],
   "source": [
    "sns.set(rc={\"figure.figsize\":(10, 4)})\n",
    "countplot = sns.countplot(age_bins, x='age');\n",
    "countplot.set(xlabel=\"Age caterogies\", title=\"Age distributions per age group\");"
   ]
  },
  {
   "cell_type": "markdown",
   "metadata": {},
   "source": [
    "#### Change became_member_on to year and month columns"
   ]
  },
  {
   "cell_type": "markdown",
   "metadata": {},
   "source": [
    "I went for option 3 below, because that made the most sense to me. It felt like seasonality or years would provide less information than the amount of days somebody was a member. This of course could be researched in further modelling."
   ]
  },
  {
   "cell_type": "code",
   "execution_count": 134,
   "metadata": {},
   "outputs": [
    {
     "data": {
      "text/plain": [
       "20180726.0"
      ]
     },
     "execution_count": 134,
     "metadata": {},
     "output_type": "execute_result"
    }
   ],
   "source": [
    "data.became_member_on.max()"
   ]
  },
  {
   "cell_type": "code",
   "execution_count": 135,
   "metadata": {},
   "outputs": [],
   "source": [
    "# became_member_on\n",
    "data.became_member_on = pd.to_datetime(data.became_member_on.astype(int), format=\"%Y%m%d\")\n",
    "\n",
    "\n",
    "# # Option 1: Became_member_on: to quarters\n",
    "# df_member = pd.get_dummies(data.became_member_on.dt.to_period(\"Q\")).add_prefix(\"member_\")data.became_member_on = pd.to_datetime(data.became_member_on.astype(int), format=\"%Y%m%d\").dt.to_period(\"Q\")\n",
    "# data.pop(\"became_member_on\")\n",
    "# data = data.join(df_member)\n",
    "\n",
    "# Option 2: extract year and month\n",
    "# data[\"became_member_year\"] = data.became_member_on.dt.year\n",
    "# data[\"became_member_month\"] = data.became_member_on.dt.month\n",
    "# data.pop(\"became_member_on\");\n",
    "\n",
    "# Option 3: amount of days already a member. Since the dataset is older we calculate the amount of days until the latest client\n",
    "data['days_member'] = (data.became_member_on.max() - data.became_member_on).dt.days\n",
    "\n",
    "data.pop(\"became_member_on\");"
   ]
  },
  {
   "cell_type": "markdown",
   "metadata": {},
   "source": [
    "#### Create Target variable"
   ]
  },
  {
   "cell_type": "code",
   "execution_count": 136,
   "metadata": {},
   "outputs": [],
   "source": [
    "data[\"target\"] = data[\"time_completed\"]>0\n",
    "data.pop(\"time_completed\");"
   ]
  },
  {
   "cell_type": "markdown",
   "metadata": {},
   "source": [
    "#### Fix column types"
   ]
  },
  {
   "cell_type": "code",
   "execution_count": 137,
   "metadata": {},
   "outputs": [
    {
     "data": {
      "text/plain": [
       "time_offer_received       int32\n",
       "gender                 category\n",
       "age                     float64\n",
       "income                  float64\n",
       "reward                    int32\n",
       "difficulty                int32\n",
       "duration                  int32\n",
       "offer_type             category\n",
       "email                     int32\n",
       "mobile                    int32\n",
       "social                    int32\n",
       "web                       int32\n",
       "time_offer_ended          int32\n",
       "days_member               int64\n",
       "target                     bool\n",
       "dtype: object"
      ]
     },
     "execution_count": 137,
     "metadata": {},
     "output_type": "execute_result"
    }
   ],
   "source": [
    "float_cols = [\"time_offer_received\", \"reward\", \"difficulty\", \"duration\", \"email\", \"mobile\", \"social\", \"web\", \"time_offer_ended\"]\n",
    "data[float_cols] = data[float_cols].astype(int)\n",
    "\n",
    "# Categoricals\n",
    "cat_cols = [\"gender\", \"offer_type\"]\n",
    "data[cat_cols] = data[cat_cols].astype(\"category\")\n",
    "data.dtypes"
   ]
  },
  {
   "cell_type": "markdown",
   "metadata": {},
   "source": [
    "#### Train test split"
   ]
  },
  {
   "cell_type": "code",
   "execution_count": 138,
   "metadata": {},
   "outputs": [],
   "source": [
    "X = data.drop(columns=\"target\")\n",
    "y = data.target\n",
    "\n",
    "X_train, X_test, y_train, y_test = train_test_split(X, y, test_size=test_size, random_state=seed)"
   ]
  },
  {
   "cell_type": "markdown",
   "metadata": {
    "tags": []
   },
   "source": [
    "### Missing values\n",
    "\n",
    "time_offer_viewed: null values, because the offers are not viewed. Not important for predictions because you can't influence this directly. You can indirectly through other means of communication.\n",
    "time_completed: null values, because the offer is not completed. If it is empty the offer is not completed. If there is a completion time the offer is completed.\n",
    "gender: fill with 'unknown' categorical value.\n",
    "income: fill with median and create extra column with income unknown"
   ]
  },
  {
   "cell_type": "markdown",
   "metadata": {},
   "source": [
    "#### Handle missing values income"
   ]
  },
  {
   "cell_type": "code",
   "execution_count": 139,
   "metadata": {
    "tags": []
   },
   "outputs": [],
   "source": [
    "# median income colum and extra column\n",
    "X_train[\"income_missing\"] = (X_train.income>0) == False\n",
    "X_test[\"income_missing\"] = (X_test.income>0) == False\n",
    "\n",
    "median = X_train.income.median()\n",
    "X_train.income.fillna(median, inplace=True)\n",
    "X_test.income.fillna(median, inplace=True)"
   ]
  },
  {
   "cell_type": "markdown",
   "metadata": {},
   "source": [
    "#### Handle missing values age"
   ]
  },
  {
   "cell_type": "code",
   "execution_count": 140,
   "metadata": {},
   "outputs": [],
   "source": [
    "# median income colum and extra column\n",
    "X_train[\"age_missing\"] = (X_train.age>0) == False\n",
    "X_test[\"age_missing\"] = (X_test.age>0) == False\n",
    "\n",
    "median = X_train.age.median()\n",
    "X_train.age.fillna(median, inplace=True)\n",
    "X_test.age.fillna(median, inplace=True)"
   ]
  },
  {
   "cell_type": "code",
   "execution_count": 141,
   "metadata": {},
   "outputs": [],
   "source": [
    "X_train.age.fillna(\"Unknown\", inplace=True)\n",
    "X_test.age.fillna(\"Unknown\", inplace=True)"
   ]
  },
  {
   "cell_type": "code",
   "execution_count": 142,
   "metadata": {},
   "outputs": [],
   "source": [
    "assert X_train.isna().sum().sum() == 0, \"There are null values in X_train\"\n",
    "assert X_test.isna().sum().sum() == 0, \"There are null values in X_test\""
   ]
  },
  {
   "cell_type": "markdown",
   "metadata": {},
   "source": [
    "#### One-Hot encoding"
   ]
  },
  {
   "cell_type": "code",
   "execution_count": 143,
   "metadata": {},
   "outputs": [
    {
     "data": {
      "text/html": [
       "<div>\n",
       "<style scoped>\n",
       "    .dataframe tbody tr th:only-of-type {\n",
       "        vertical-align: middle;\n",
       "    }\n",
       "\n",
       "    .dataframe tbody tr th {\n",
       "        vertical-align: top;\n",
       "    }\n",
       "\n",
       "    .dataframe thead th {\n",
       "        text-align: right;\n",
       "    }\n",
       "</style>\n",
       "<table border=\"1\" class=\"dataframe\">\n",
       "  <thead>\n",
       "    <tr style=\"text-align: right;\">\n",
       "      <th></th>\n",
       "      <th>time_offer_received</th>\n",
       "      <th>gender</th>\n",
       "      <th>age</th>\n",
       "      <th>income</th>\n",
       "      <th>reward</th>\n",
       "      <th>difficulty</th>\n",
       "      <th>duration</th>\n",
       "      <th>offer_type</th>\n",
       "      <th>email</th>\n",
       "      <th>mobile</th>\n",
       "      <th>social</th>\n",
       "      <th>web</th>\n",
       "      <th>time_offer_ended</th>\n",
       "      <th>days_member</th>\n",
       "      <th>income_missing</th>\n",
       "      <th>age_missing</th>\n",
       "    </tr>\n",
       "  </thead>\n",
       "  <tbody>\n",
       "    <tr>\n",
       "      <th>27120</th>\n",
       "      <td>336</td>\n",
       "      <td>M</td>\n",
       "      <td>46.0</td>\n",
       "      <td>68000.0</td>\n",
       "      <td>5</td>\n",
       "      <td>5</td>\n",
       "      <td>120</td>\n",
       "      <td>bogo</td>\n",
       "      <td>1</td>\n",
       "      <td>1</td>\n",
       "      <td>1</td>\n",
       "      <td>1</td>\n",
       "      <td>456</td>\n",
       "      <td>1650</td>\n",
       "      <td>False</td>\n",
       "      <td>False</td>\n",
       "    </tr>\n",
       "    <tr>\n",
       "      <th>66911</th>\n",
       "      <td>504</td>\n",
       "      <td>Unknown</td>\n",
       "      <td>55.0</td>\n",
       "      <td>62000.0</td>\n",
       "      <td>2</td>\n",
       "      <td>10</td>\n",
       "      <td>240</td>\n",
       "      <td>discount</td>\n",
       "      <td>1</td>\n",
       "      <td>1</td>\n",
       "      <td>1</td>\n",
       "      <td>1</td>\n",
       "      <td>744</td>\n",
       "      <td>518</td>\n",
       "      <td>True</td>\n",
       "      <td>True</td>\n",
       "    </tr>\n",
       "    <tr>\n",
       "      <th>15904</th>\n",
       "      <td>408</td>\n",
       "      <td>Unknown</td>\n",
       "      <td>55.0</td>\n",
       "      <td>62000.0</td>\n",
       "      <td>10</td>\n",
       "      <td>10</td>\n",
       "      <td>168</td>\n",
       "      <td>bogo</td>\n",
       "      <td>1</td>\n",
       "      <td>1</td>\n",
       "      <td>1</td>\n",
       "      <td>0</td>\n",
       "      <td>576</td>\n",
       "      <td>1367</td>\n",
       "      <td>True</td>\n",
       "      <td>True</td>\n",
       "    </tr>\n",
       "    <tr>\n",
       "      <th>62630</th>\n",
       "      <td>168</td>\n",
       "      <td>M</td>\n",
       "      <td>56.0</td>\n",
       "      <td>90000.0</td>\n",
       "      <td>2</td>\n",
       "      <td>10</td>\n",
       "      <td>240</td>\n",
       "      <td>discount</td>\n",
       "      <td>1</td>\n",
       "      <td>1</td>\n",
       "      <td>1</td>\n",
       "      <td>1</td>\n",
       "      <td>408</td>\n",
       "      <td>1529</td>\n",
       "      <td>False</td>\n",
       "      <td>False</td>\n",
       "    </tr>\n",
       "    <tr>\n",
       "      <th>77438</th>\n",
       "      <td>504</td>\n",
       "      <td>M</td>\n",
       "      <td>70.0</td>\n",
       "      <td>36000.0</td>\n",
       "      <td>3</td>\n",
       "      <td>7</td>\n",
       "      <td>168</td>\n",
       "      <td>discount</td>\n",
       "      <td>1</td>\n",
       "      <td>1</td>\n",
       "      <td>1</td>\n",
       "      <td>1</td>\n",
       "      <td>672</td>\n",
       "      <td>696</td>\n",
       "      <td>False</td>\n",
       "      <td>False</td>\n",
       "    </tr>\n",
       "  </tbody>\n",
       "</table>\n",
       "</div>"
      ],
      "text/plain": [
       "       time_offer_received   gender   age   income  reward  difficulty  \\\n",
       "27120                  336        M  46.0  68000.0       5           5   \n",
       "66911                  504  Unknown  55.0  62000.0       2          10   \n",
       "15904                  408  Unknown  55.0  62000.0      10          10   \n",
       "62630                  168        M  56.0  90000.0       2          10   \n",
       "77438                  504        M  70.0  36000.0       3           7   \n",
       "\n",
       "       duration offer_type  email  mobile  social  web  time_offer_ended  \\\n",
       "27120       120       bogo      1       1       1    1               456   \n",
       "66911       240   discount      1       1       1    1               744   \n",
       "15904       168       bogo      1       1       1    0               576   \n",
       "62630       240   discount      1       1       1    1               408   \n",
       "77438       168   discount      1       1       1    1               672   \n",
       "\n",
       "       days_member  income_missing  age_missing  \n",
       "27120         1650           False        False  \n",
       "66911          518            True         True  \n",
       "15904         1367            True         True  \n",
       "62630         1529           False        False  \n",
       "77438          696           False        False  "
      ]
     },
     "execution_count": 143,
     "metadata": {},
     "output_type": "execute_result"
    }
   ],
   "source": [
    "X_train.head()"
   ]
  },
  {
   "cell_type": "markdown",
   "metadata": {},
   "source": [
    "Categories are gender, offer_type,income_missing and age_missing"
   ]
  },
  {
   "cell_type": "code",
   "execution_count": 144,
   "metadata": {},
   "outputs": [],
   "source": [
    "def oh_encoding(data, bin_cols=[\"income_missing\", \"age_missing\"], cat_cols=[\"gender\", \"offer_type\"]):\n",
    "\n",
    "    data[bin_cols] = data[bin_cols].astype(int)\n",
    "\n",
    "    encoder = OneHotEncoder()\n",
    "    encoder.fit(data[cat_cols])\n",
    "\n",
    "    cols = [feature.replace(\"x0\", \"gender\").replace(\"x1\", \"offer\") for feature in encoder.get_feature_names()]\n",
    "    df = pd.DataFrame(encoder.fit_transform(data[cat_cols]).toarray(), columns=cols, index=data.index)\n",
    "    # df.set_index(data.index)\n",
    "    data.drop(columns=[\"gender\", \"offer_type\"], inplace=True)\n",
    "    data = data.join(df)\n",
    "    return data\n",
    "\n",
    "X_train = oh_encoding(X_train)\n",
    "X_test = oh_encoding(X_test)"
   ]
  },
  {
   "cell_type": "markdown",
   "metadata": {
    "tags": []
   },
   "source": [
    "## Implementation"
   ]
  },
  {
   "cell_type": "markdown",
   "metadata": {},
   "source": [
    "### Modeling"
   ]
  },
  {
   "cell_type": "code",
   "execution_count": 145,
   "metadata": {},
   "outputs": [],
   "source": [
    "# Prepare data for pycaret\n",
    "data[\"income_missing\"] = (data.income>0) == False\n",
    "data.income.fillna(median, inplace=True)\n",
    "data.age.fillna(\"Unknown\", inplace=True)"
   ]
  },
  {
   "cell_type": "code",
   "execution_count": 146,
   "metadata": {},
   "outputs": [
    {
     "data": {
      "text/html": [
       "<div>\n",
       "<style scoped>\n",
       "    .dataframe tbody tr th:only-of-type {\n",
       "        vertical-align: middle;\n",
       "    }\n",
       "\n",
       "    .dataframe tbody tr th {\n",
       "        vertical-align: top;\n",
       "    }\n",
       "\n",
       "    .dataframe thead th {\n",
       "        text-align: right;\n",
       "    }\n",
       "</style>\n",
       "<table border=\"1\" class=\"dataframe\">\n",
       "  <thead>\n",
       "    <tr style=\"text-align: right;\">\n",
       "      <th></th>\n",
       "      <th>time_offer_received</th>\n",
       "      <th>gender</th>\n",
       "      <th>age</th>\n",
       "      <th>income</th>\n",
       "      <th>reward</th>\n",
       "      <th>difficulty</th>\n",
       "      <th>duration</th>\n",
       "      <th>offer_type</th>\n",
       "      <th>email</th>\n",
       "      <th>mobile</th>\n",
       "      <th>social</th>\n",
       "      <th>web</th>\n",
       "      <th>time_offer_ended</th>\n",
       "      <th>days_member</th>\n",
       "      <th>target</th>\n",
       "      <th>income_missing</th>\n",
       "    </tr>\n",
       "  </thead>\n",
       "  <tbody>\n",
       "    <tr>\n",
       "      <th>0</th>\n",
       "      <td>0</td>\n",
       "      <td>F</td>\n",
       "      <td>75.0</td>\n",
       "      <td>100000.0</td>\n",
       "      <td>5</td>\n",
       "      <td>5</td>\n",
       "      <td>168</td>\n",
       "      <td>bogo</td>\n",
       "      <td>1</td>\n",
       "      <td>1</td>\n",
       "      <td>0</td>\n",
       "      <td>1</td>\n",
       "      <td>168</td>\n",
       "      <td>443</td>\n",
       "      <td>True</td>\n",
       "      <td>False</td>\n",
       "    </tr>\n",
       "    <tr>\n",
       "      <th>1</th>\n",
       "      <td>408</td>\n",
       "      <td>M</td>\n",
       "      <td>68.0</td>\n",
       "      <td>70000.0</td>\n",
       "      <td>5</td>\n",
       "      <td>5</td>\n",
       "      <td>168</td>\n",
       "      <td>bogo</td>\n",
       "      <td>1</td>\n",
       "      <td>1</td>\n",
       "      <td>0</td>\n",
       "      <td>1</td>\n",
       "      <td>576</td>\n",
       "      <td>91</td>\n",
       "      <td>True</td>\n",
       "      <td>False</td>\n",
       "    </tr>\n",
       "    <tr>\n",
       "      <th>2</th>\n",
       "      <td>504</td>\n",
       "      <td>Unknown</td>\n",
       "      <td>Unknown</td>\n",
       "      <td>55.0</td>\n",
       "      <td>5</td>\n",
       "      <td>5</td>\n",
       "      <td>168</td>\n",
       "      <td>bogo</td>\n",
       "      <td>1</td>\n",
       "      <td>1</td>\n",
       "      <td>0</td>\n",
       "      <td>1</td>\n",
       "      <td>672</td>\n",
       "      <td>297</td>\n",
       "      <td>False</td>\n",
       "      <td>True</td>\n",
       "    </tr>\n",
       "    <tr>\n",
       "      <th>4</th>\n",
       "      <td>408</td>\n",
       "      <td>M</td>\n",
       "      <td>65.0</td>\n",
       "      <td>53000.0</td>\n",
       "      <td>5</td>\n",
       "      <td>5</td>\n",
       "      <td>168</td>\n",
       "      <td>bogo</td>\n",
       "      <td>1</td>\n",
       "      <td>1</td>\n",
       "      <td>0</td>\n",
       "      <td>1</td>\n",
       "      <td>576</td>\n",
       "      <td>167</td>\n",
       "      <td>True</td>\n",
       "      <td>False</td>\n",
       "    </tr>\n",
       "    <tr>\n",
       "      <th>5</th>\n",
       "      <td>504</td>\n",
       "      <td>F</td>\n",
       "      <td>56.0</td>\n",
       "      <td>88000.0</td>\n",
       "      <td>5</td>\n",
       "      <td>5</td>\n",
       "      <td>168</td>\n",
       "      <td>bogo</td>\n",
       "      <td>1</td>\n",
       "      <td>1</td>\n",
       "      <td>0</td>\n",
       "      <td>1</td>\n",
       "      <td>672</td>\n",
       "      <td>89</td>\n",
       "      <td>False</td>\n",
       "      <td>False</td>\n",
       "    </tr>\n",
       "  </tbody>\n",
       "</table>\n",
       "</div>"
      ],
      "text/plain": [
       "   time_offer_received   gender      age    income  reward  difficulty  \\\n",
       "0                    0        F     75.0  100000.0       5           5   \n",
       "1                  408        M     68.0   70000.0       5           5   \n",
       "2                  504  Unknown  Unknown      55.0       5           5   \n",
       "4                  408        M     65.0   53000.0       5           5   \n",
       "5                  504        F     56.0   88000.0       5           5   \n",
       "\n",
       "   duration offer_type  email  mobile  social  web  time_offer_ended  \\\n",
       "0       168       bogo      1       1       0    1               168   \n",
       "1       168       bogo      1       1       0    1               576   \n",
       "2       168       bogo      1       1       0    1               672   \n",
       "4       168       bogo      1       1       0    1               576   \n",
       "5       168       bogo      1       1       0    1               672   \n",
       "\n",
       "   days_member  target  income_missing  \n",
       "0          443    True           False  \n",
       "1           91    True           False  \n",
       "2          297   False            True  \n",
       "4          167    True           False  \n",
       "5           89   False           False  "
      ]
     },
     "execution_count": 146,
     "metadata": {},
     "output_type": "execute_result"
    }
   ],
   "source": [
    "data.head()"
   ]
  },
  {
   "cell_type": "markdown",
   "metadata": {
    "tags": []
   },
   "source": [
    "#### Using PyCaret for exploration\n",
    "Pycaret is used for a broad exploration what kind of model would work. The code below does not work in the same environment because of dependency errors.\n",
    "\n",
    "The best model is a Random Forest with a close second place a LightGBM model. Hyper parameter tuning even yield a slightly worse model."
   ]
  },
  {
   "cell_type": "code",
   "execution_count": 51,
   "metadata": {},
   "outputs": [
    {
     "data": {
      "text/html": [
       "<style type=\"text/css\">\n",
       "#T_39e3c_row42_col1, #T_39e3c_row44_col1 {\n",
       "  background-color: lightgreen;\n",
       "}\n",
       "</style>\n",
       "<table id=\"T_39e3c_\">\n",
       "  <thead>\n",
       "    <tr>\n",
       "      <th class=\"blank level0\" >&nbsp;</th>\n",
       "      <th class=\"col_heading level0 col0\" >Description</th>\n",
       "      <th class=\"col_heading level0 col1\" >Value</th>\n",
       "    </tr>\n",
       "  </thead>\n",
       "  <tbody>\n",
       "    <tr>\n",
       "      <th id=\"T_39e3c_level0_row0\" class=\"row_heading level0 row0\" >0</th>\n",
       "      <td id=\"T_39e3c_row0_col0\" class=\"data row0 col0\" >session_id</td>\n",
       "      <td id=\"T_39e3c_row0_col1\" class=\"data row0 col1\" >42</td>\n",
       "    </tr>\n",
       "    <tr>\n",
       "      <th id=\"T_39e3c_level0_row1\" class=\"row_heading level0 row1\" >1</th>\n",
       "      <td id=\"T_39e3c_row1_col0\" class=\"data row1 col0\" >Target</td>\n",
       "      <td id=\"T_39e3c_row1_col1\" class=\"data row1 col1\" >target</td>\n",
       "    </tr>\n",
       "    <tr>\n",
       "      <th id=\"T_39e3c_level0_row2\" class=\"row_heading level0 row2\" >2</th>\n",
       "      <td id=\"T_39e3c_row2_col0\" class=\"data row2 col0\" >Target Type</td>\n",
       "      <td id=\"T_39e3c_row2_col1\" class=\"data row2 col1\" >Binary</td>\n",
       "    </tr>\n",
       "    <tr>\n",
       "      <th id=\"T_39e3c_level0_row3\" class=\"row_heading level0 row3\" >3</th>\n",
       "      <td id=\"T_39e3c_row3_col0\" class=\"data row3 col0\" >Label Encoded</td>\n",
       "      <td id=\"T_39e3c_row3_col1\" class=\"data row3 col1\" >False: 0, True: 1</td>\n",
       "    </tr>\n",
       "    <tr>\n",
       "      <th id=\"T_39e3c_level0_row4\" class=\"row_heading level0 row4\" >4</th>\n",
       "      <td id=\"T_39e3c_row4_col0\" class=\"data row4 col0\" >Original Data</td>\n",
       "      <td id=\"T_39e3c_row4_col1\" class=\"data row4 col1\" >(64623, 16)</td>\n",
       "    </tr>\n",
       "    <tr>\n",
       "      <th id=\"T_39e3c_level0_row5\" class=\"row_heading level0 row5\" >5</th>\n",
       "      <td id=\"T_39e3c_row5_col0\" class=\"data row5 col0\" >Missing Values</td>\n",
       "      <td id=\"T_39e3c_row5_col1\" class=\"data row5 col1\" >False</td>\n",
       "    </tr>\n",
       "    <tr>\n",
       "      <th id=\"T_39e3c_level0_row6\" class=\"row_heading level0 row6\" >6</th>\n",
       "      <td id=\"T_39e3c_row6_col0\" class=\"data row6 col0\" >Numeric Features</td>\n",
       "      <td id=\"T_39e3c_row6_col1\" class=\"data row6 col1\" >11</td>\n",
       "    </tr>\n",
       "    <tr>\n",
       "      <th id=\"T_39e3c_level0_row7\" class=\"row_heading level0 row7\" >7</th>\n",
       "      <td id=\"T_39e3c_row7_col0\" class=\"data row7 col0\" >Categorical Features</td>\n",
       "      <td id=\"T_39e3c_row7_col1\" class=\"data row7 col1\" >4</td>\n",
       "    </tr>\n",
       "    <tr>\n",
       "      <th id=\"T_39e3c_level0_row8\" class=\"row_heading level0 row8\" >8</th>\n",
       "      <td id=\"T_39e3c_row8_col0\" class=\"data row8 col0\" >Ordinal Features</td>\n",
       "      <td id=\"T_39e3c_row8_col1\" class=\"data row8 col1\" >False</td>\n",
       "    </tr>\n",
       "    <tr>\n",
       "      <th id=\"T_39e3c_level0_row9\" class=\"row_heading level0 row9\" >9</th>\n",
       "      <td id=\"T_39e3c_row9_col0\" class=\"data row9 col0\" >High Cardinality Features</td>\n",
       "      <td id=\"T_39e3c_row9_col1\" class=\"data row9 col1\" >False</td>\n",
       "    </tr>\n",
       "    <tr>\n",
       "      <th id=\"T_39e3c_level0_row10\" class=\"row_heading level0 row10\" >10</th>\n",
       "      <td id=\"T_39e3c_row10_col0\" class=\"data row10 col0\" >High Cardinality Method</td>\n",
       "      <td id=\"T_39e3c_row10_col1\" class=\"data row10 col1\" >None</td>\n",
       "    </tr>\n",
       "    <tr>\n",
       "      <th id=\"T_39e3c_level0_row11\" class=\"row_heading level0 row11\" >11</th>\n",
       "      <td id=\"T_39e3c_row11_col0\" class=\"data row11 col0\" >Transformed Train Set</td>\n",
       "      <td id=\"T_39e3c_row11_col1\" class=\"data row11 col1\" >(51698, 101)</td>\n",
       "    </tr>\n",
       "    <tr>\n",
       "      <th id=\"T_39e3c_level0_row12\" class=\"row_heading level0 row12\" >12</th>\n",
       "      <td id=\"T_39e3c_row12_col0\" class=\"data row12 col0\" >Transformed Test Set</td>\n",
       "      <td id=\"T_39e3c_row12_col1\" class=\"data row12 col1\" >(12925, 101)</td>\n",
       "    </tr>\n",
       "    <tr>\n",
       "      <th id=\"T_39e3c_level0_row13\" class=\"row_heading level0 row13\" >13</th>\n",
       "      <td id=\"T_39e3c_row13_col0\" class=\"data row13 col0\" >Shuffle Train-Test</td>\n",
       "      <td id=\"T_39e3c_row13_col1\" class=\"data row13 col1\" >True</td>\n",
       "    </tr>\n",
       "    <tr>\n",
       "      <th id=\"T_39e3c_level0_row14\" class=\"row_heading level0 row14\" >14</th>\n",
       "      <td id=\"T_39e3c_row14_col0\" class=\"data row14 col0\" >Stratify Train-Test</td>\n",
       "      <td id=\"T_39e3c_row14_col1\" class=\"data row14 col1\" >False</td>\n",
       "    </tr>\n",
       "    <tr>\n",
       "      <th id=\"T_39e3c_level0_row15\" class=\"row_heading level0 row15\" >15</th>\n",
       "      <td id=\"T_39e3c_row15_col0\" class=\"data row15 col0\" >Fold Generator</td>\n",
       "      <td id=\"T_39e3c_row15_col1\" class=\"data row15 col1\" >KFold</td>\n",
       "    </tr>\n",
       "    <tr>\n",
       "      <th id=\"T_39e3c_level0_row16\" class=\"row_heading level0 row16\" >16</th>\n",
       "      <td id=\"T_39e3c_row16_col0\" class=\"data row16 col0\" >Fold Number</td>\n",
       "      <td id=\"T_39e3c_row16_col1\" class=\"data row16 col1\" >10</td>\n",
       "    </tr>\n",
       "    <tr>\n",
       "      <th id=\"T_39e3c_level0_row17\" class=\"row_heading level0 row17\" >17</th>\n",
       "      <td id=\"T_39e3c_row17_col0\" class=\"data row17 col0\" >CPU Jobs</td>\n",
       "      <td id=\"T_39e3c_row17_col1\" class=\"data row17 col1\" >-1</td>\n",
       "    </tr>\n",
       "    <tr>\n",
       "      <th id=\"T_39e3c_level0_row18\" class=\"row_heading level0 row18\" >18</th>\n",
       "      <td id=\"T_39e3c_row18_col0\" class=\"data row18 col0\" >Use GPU</td>\n",
       "      <td id=\"T_39e3c_row18_col1\" class=\"data row18 col1\" >False</td>\n",
       "    </tr>\n",
       "    <tr>\n",
       "      <th id=\"T_39e3c_level0_row19\" class=\"row_heading level0 row19\" >19</th>\n",
       "      <td id=\"T_39e3c_row19_col0\" class=\"data row19 col0\" >Log Experiment</td>\n",
       "      <td id=\"T_39e3c_row19_col1\" class=\"data row19 col1\" >False</td>\n",
       "    </tr>\n",
       "    <tr>\n",
       "      <th id=\"T_39e3c_level0_row20\" class=\"row_heading level0 row20\" >20</th>\n",
       "      <td id=\"T_39e3c_row20_col0\" class=\"data row20 col0\" >Experiment Name</td>\n",
       "      <td id=\"T_39e3c_row20_col1\" class=\"data row20 col1\" >clf-default-name</td>\n",
       "    </tr>\n",
       "    <tr>\n",
       "      <th id=\"T_39e3c_level0_row21\" class=\"row_heading level0 row21\" >21</th>\n",
       "      <td id=\"T_39e3c_row21_col0\" class=\"data row21 col0\" >USI</td>\n",
       "      <td id=\"T_39e3c_row21_col1\" class=\"data row21 col1\" >9a30</td>\n",
       "    </tr>\n",
       "    <tr>\n",
       "      <th id=\"T_39e3c_level0_row22\" class=\"row_heading level0 row22\" >22</th>\n",
       "      <td id=\"T_39e3c_row22_col0\" class=\"data row22 col0\" >Imputation Type</td>\n",
       "      <td id=\"T_39e3c_row22_col1\" class=\"data row22 col1\" >simple</td>\n",
       "    </tr>\n",
       "    <tr>\n",
       "      <th id=\"T_39e3c_level0_row23\" class=\"row_heading level0 row23\" >23</th>\n",
       "      <td id=\"T_39e3c_row23_col0\" class=\"data row23 col0\" >Iterative Imputation Iteration</td>\n",
       "      <td id=\"T_39e3c_row23_col1\" class=\"data row23 col1\" >None</td>\n",
       "    </tr>\n",
       "    <tr>\n",
       "      <th id=\"T_39e3c_level0_row24\" class=\"row_heading level0 row24\" >24</th>\n",
       "      <td id=\"T_39e3c_row24_col0\" class=\"data row24 col0\" >Numeric Imputer</td>\n",
       "      <td id=\"T_39e3c_row24_col1\" class=\"data row24 col1\" >mean</td>\n",
       "    </tr>\n",
       "    <tr>\n",
       "      <th id=\"T_39e3c_level0_row25\" class=\"row_heading level0 row25\" >25</th>\n",
       "      <td id=\"T_39e3c_row25_col0\" class=\"data row25 col0\" >Iterative Imputation Numeric Model</td>\n",
       "      <td id=\"T_39e3c_row25_col1\" class=\"data row25 col1\" >None</td>\n",
       "    </tr>\n",
       "    <tr>\n",
       "      <th id=\"T_39e3c_level0_row26\" class=\"row_heading level0 row26\" >26</th>\n",
       "      <td id=\"T_39e3c_row26_col0\" class=\"data row26 col0\" >Categorical Imputer</td>\n",
       "      <td id=\"T_39e3c_row26_col1\" class=\"data row26 col1\" >constant</td>\n",
       "    </tr>\n",
       "    <tr>\n",
       "      <th id=\"T_39e3c_level0_row27\" class=\"row_heading level0 row27\" >27</th>\n",
       "      <td id=\"T_39e3c_row27_col0\" class=\"data row27 col0\" >Iterative Imputation Categorical Model</td>\n",
       "      <td id=\"T_39e3c_row27_col1\" class=\"data row27 col1\" >None</td>\n",
       "    </tr>\n",
       "    <tr>\n",
       "      <th id=\"T_39e3c_level0_row28\" class=\"row_heading level0 row28\" >28</th>\n",
       "      <td id=\"T_39e3c_row28_col0\" class=\"data row28 col0\" >Unknown Categoricals Handling</td>\n",
       "      <td id=\"T_39e3c_row28_col1\" class=\"data row28 col1\" >least_frequent</td>\n",
       "    </tr>\n",
       "    <tr>\n",
       "      <th id=\"T_39e3c_level0_row29\" class=\"row_heading level0 row29\" >29</th>\n",
       "      <td id=\"T_39e3c_row29_col0\" class=\"data row29 col0\" >Normalize</td>\n",
       "      <td id=\"T_39e3c_row29_col1\" class=\"data row29 col1\" >False</td>\n",
       "    </tr>\n",
       "    <tr>\n",
       "      <th id=\"T_39e3c_level0_row30\" class=\"row_heading level0 row30\" >30</th>\n",
       "      <td id=\"T_39e3c_row30_col0\" class=\"data row30 col0\" >Normalize Method</td>\n",
       "      <td id=\"T_39e3c_row30_col1\" class=\"data row30 col1\" >None</td>\n",
       "    </tr>\n",
       "    <tr>\n",
       "      <th id=\"T_39e3c_level0_row31\" class=\"row_heading level0 row31\" >31</th>\n",
       "      <td id=\"T_39e3c_row31_col0\" class=\"data row31 col0\" >Transformation</td>\n",
       "      <td id=\"T_39e3c_row31_col1\" class=\"data row31 col1\" >False</td>\n",
       "    </tr>\n",
       "    <tr>\n",
       "      <th id=\"T_39e3c_level0_row32\" class=\"row_heading level0 row32\" >32</th>\n",
       "      <td id=\"T_39e3c_row32_col0\" class=\"data row32 col0\" >Transformation Method</td>\n",
       "      <td id=\"T_39e3c_row32_col1\" class=\"data row32 col1\" >None</td>\n",
       "    </tr>\n",
       "    <tr>\n",
       "      <th id=\"T_39e3c_level0_row33\" class=\"row_heading level0 row33\" >33</th>\n",
       "      <td id=\"T_39e3c_row33_col0\" class=\"data row33 col0\" >PCA</td>\n",
       "      <td id=\"T_39e3c_row33_col1\" class=\"data row33 col1\" >False</td>\n",
       "    </tr>\n",
       "    <tr>\n",
       "      <th id=\"T_39e3c_level0_row34\" class=\"row_heading level0 row34\" >34</th>\n",
       "      <td id=\"T_39e3c_row34_col0\" class=\"data row34 col0\" >PCA Method</td>\n",
       "      <td id=\"T_39e3c_row34_col1\" class=\"data row34 col1\" >None</td>\n",
       "    </tr>\n",
       "    <tr>\n",
       "      <th id=\"T_39e3c_level0_row35\" class=\"row_heading level0 row35\" >35</th>\n",
       "      <td id=\"T_39e3c_row35_col0\" class=\"data row35 col0\" >PCA Components</td>\n",
       "      <td id=\"T_39e3c_row35_col1\" class=\"data row35 col1\" >None</td>\n",
       "    </tr>\n",
       "    <tr>\n",
       "      <th id=\"T_39e3c_level0_row36\" class=\"row_heading level0 row36\" >36</th>\n",
       "      <td id=\"T_39e3c_row36_col0\" class=\"data row36 col0\" >Ignore Low Variance</td>\n",
       "      <td id=\"T_39e3c_row36_col1\" class=\"data row36 col1\" >False</td>\n",
       "    </tr>\n",
       "    <tr>\n",
       "      <th id=\"T_39e3c_level0_row37\" class=\"row_heading level0 row37\" >37</th>\n",
       "      <td id=\"T_39e3c_row37_col0\" class=\"data row37 col0\" >Combine Rare Levels</td>\n",
       "      <td id=\"T_39e3c_row37_col1\" class=\"data row37 col1\" >False</td>\n",
       "    </tr>\n",
       "    <tr>\n",
       "      <th id=\"T_39e3c_level0_row38\" class=\"row_heading level0 row38\" >38</th>\n",
       "      <td id=\"T_39e3c_row38_col0\" class=\"data row38 col0\" >Rare Level Threshold</td>\n",
       "      <td id=\"T_39e3c_row38_col1\" class=\"data row38 col1\" >None</td>\n",
       "    </tr>\n",
       "    <tr>\n",
       "      <th id=\"T_39e3c_level0_row39\" class=\"row_heading level0 row39\" >39</th>\n",
       "      <td id=\"T_39e3c_row39_col0\" class=\"data row39 col0\" >Numeric Binning</td>\n",
       "      <td id=\"T_39e3c_row39_col1\" class=\"data row39 col1\" >False</td>\n",
       "    </tr>\n",
       "    <tr>\n",
       "      <th id=\"T_39e3c_level0_row40\" class=\"row_heading level0 row40\" >40</th>\n",
       "      <td id=\"T_39e3c_row40_col0\" class=\"data row40 col0\" >Remove Outliers</td>\n",
       "      <td id=\"T_39e3c_row40_col1\" class=\"data row40 col1\" >False</td>\n",
       "    </tr>\n",
       "    <tr>\n",
       "      <th id=\"T_39e3c_level0_row41\" class=\"row_heading level0 row41\" >41</th>\n",
       "      <td id=\"T_39e3c_row41_col0\" class=\"data row41 col0\" >Outliers Threshold</td>\n",
       "      <td id=\"T_39e3c_row41_col1\" class=\"data row41 col1\" >None</td>\n",
       "    </tr>\n",
       "    <tr>\n",
       "      <th id=\"T_39e3c_level0_row42\" class=\"row_heading level0 row42\" >42</th>\n",
       "      <td id=\"T_39e3c_row42_col0\" class=\"data row42 col0\" >Remove Multicollinearity</td>\n",
       "      <td id=\"T_39e3c_row42_col1\" class=\"data row42 col1\" >True</td>\n",
       "    </tr>\n",
       "    <tr>\n",
       "      <th id=\"T_39e3c_level0_row43\" class=\"row_heading level0 row43\" >43</th>\n",
       "      <td id=\"T_39e3c_row43_col0\" class=\"data row43 col0\" >Multicollinearity Threshold</td>\n",
       "      <td id=\"T_39e3c_row43_col1\" class=\"data row43 col1\" >0.900000</td>\n",
       "    </tr>\n",
       "    <tr>\n",
       "      <th id=\"T_39e3c_level0_row44\" class=\"row_heading level0 row44\" >44</th>\n",
       "      <td id=\"T_39e3c_row44_col0\" class=\"data row44 col0\" >Remove Perfect Collinearity</td>\n",
       "      <td id=\"T_39e3c_row44_col1\" class=\"data row44 col1\" >True</td>\n",
       "    </tr>\n",
       "    <tr>\n",
       "      <th id=\"T_39e3c_level0_row45\" class=\"row_heading level0 row45\" >45</th>\n",
       "      <td id=\"T_39e3c_row45_col0\" class=\"data row45 col0\" >Clustering</td>\n",
       "      <td id=\"T_39e3c_row45_col1\" class=\"data row45 col1\" >False</td>\n",
       "    </tr>\n",
       "    <tr>\n",
       "      <th id=\"T_39e3c_level0_row46\" class=\"row_heading level0 row46\" >46</th>\n",
       "      <td id=\"T_39e3c_row46_col0\" class=\"data row46 col0\" >Clustering Iteration</td>\n",
       "      <td id=\"T_39e3c_row46_col1\" class=\"data row46 col1\" >None</td>\n",
       "    </tr>\n",
       "    <tr>\n",
       "      <th id=\"T_39e3c_level0_row47\" class=\"row_heading level0 row47\" >47</th>\n",
       "      <td id=\"T_39e3c_row47_col0\" class=\"data row47 col0\" >Polynomial Features</td>\n",
       "      <td id=\"T_39e3c_row47_col1\" class=\"data row47 col1\" >False</td>\n",
       "    </tr>\n",
       "    <tr>\n",
       "      <th id=\"T_39e3c_level0_row48\" class=\"row_heading level0 row48\" >48</th>\n",
       "      <td id=\"T_39e3c_row48_col0\" class=\"data row48 col0\" >Polynomial Degree</td>\n",
       "      <td id=\"T_39e3c_row48_col1\" class=\"data row48 col1\" >None</td>\n",
       "    </tr>\n",
       "    <tr>\n",
       "      <th id=\"T_39e3c_level0_row49\" class=\"row_heading level0 row49\" >49</th>\n",
       "      <td id=\"T_39e3c_row49_col0\" class=\"data row49 col0\" >Trignometry Features</td>\n",
       "      <td id=\"T_39e3c_row49_col1\" class=\"data row49 col1\" >False</td>\n",
       "    </tr>\n",
       "    <tr>\n",
       "      <th id=\"T_39e3c_level0_row50\" class=\"row_heading level0 row50\" >50</th>\n",
       "      <td id=\"T_39e3c_row50_col0\" class=\"data row50 col0\" >Polynomial Threshold</td>\n",
       "      <td id=\"T_39e3c_row50_col1\" class=\"data row50 col1\" >None</td>\n",
       "    </tr>\n",
       "    <tr>\n",
       "      <th id=\"T_39e3c_level0_row51\" class=\"row_heading level0 row51\" >51</th>\n",
       "      <td id=\"T_39e3c_row51_col0\" class=\"data row51 col0\" >Group Features</td>\n",
       "      <td id=\"T_39e3c_row51_col1\" class=\"data row51 col1\" >False</td>\n",
       "    </tr>\n",
       "    <tr>\n",
       "      <th id=\"T_39e3c_level0_row52\" class=\"row_heading level0 row52\" >52</th>\n",
       "      <td id=\"T_39e3c_row52_col0\" class=\"data row52 col0\" >Feature Selection</td>\n",
       "      <td id=\"T_39e3c_row52_col1\" class=\"data row52 col1\" >False</td>\n",
       "    </tr>\n",
       "    <tr>\n",
       "      <th id=\"T_39e3c_level0_row53\" class=\"row_heading level0 row53\" >53</th>\n",
       "      <td id=\"T_39e3c_row53_col0\" class=\"data row53 col0\" >Feature Selection Method</td>\n",
       "      <td id=\"T_39e3c_row53_col1\" class=\"data row53 col1\" >classic</td>\n",
       "    </tr>\n",
       "    <tr>\n",
       "      <th id=\"T_39e3c_level0_row54\" class=\"row_heading level0 row54\" >54</th>\n",
       "      <td id=\"T_39e3c_row54_col0\" class=\"data row54 col0\" >Features Selection Threshold</td>\n",
       "      <td id=\"T_39e3c_row54_col1\" class=\"data row54 col1\" >None</td>\n",
       "    </tr>\n",
       "    <tr>\n",
       "      <th id=\"T_39e3c_level0_row55\" class=\"row_heading level0 row55\" >55</th>\n",
       "      <td id=\"T_39e3c_row55_col0\" class=\"data row55 col0\" >Feature Interaction</td>\n",
       "      <td id=\"T_39e3c_row55_col1\" class=\"data row55 col1\" >False</td>\n",
       "    </tr>\n",
       "    <tr>\n",
       "      <th id=\"T_39e3c_level0_row56\" class=\"row_heading level0 row56\" >56</th>\n",
       "      <td id=\"T_39e3c_row56_col0\" class=\"data row56 col0\" >Feature Ratio</td>\n",
       "      <td id=\"T_39e3c_row56_col1\" class=\"data row56 col1\" >False</td>\n",
       "    </tr>\n",
       "    <tr>\n",
       "      <th id=\"T_39e3c_level0_row57\" class=\"row_heading level0 row57\" >57</th>\n",
       "      <td id=\"T_39e3c_row57_col0\" class=\"data row57 col0\" >Interaction Threshold</td>\n",
       "      <td id=\"T_39e3c_row57_col1\" class=\"data row57 col1\" >None</td>\n",
       "    </tr>\n",
       "    <tr>\n",
       "      <th id=\"T_39e3c_level0_row58\" class=\"row_heading level0 row58\" >58</th>\n",
       "      <td id=\"T_39e3c_row58_col0\" class=\"data row58 col0\" >Fix Imbalance</td>\n",
       "      <td id=\"T_39e3c_row58_col1\" class=\"data row58 col1\" >False</td>\n",
       "    </tr>\n",
       "    <tr>\n",
       "      <th id=\"T_39e3c_level0_row59\" class=\"row_heading level0 row59\" >59</th>\n",
       "      <td id=\"T_39e3c_row59_col0\" class=\"data row59 col0\" >Fix Imbalance Method</td>\n",
       "      <td id=\"T_39e3c_row59_col1\" class=\"data row59 col1\" >SMOTE</td>\n",
       "    </tr>\n",
       "  </tbody>\n",
       "</table>\n"
      ],
      "text/plain": [
       "<pandas.io.formats.style.Styler at 0x2d1ccc094c0>"
      ]
     },
     "metadata": {},
     "output_type": "display_data"
    }
   ],
   "source": [
    "from pycaret.classification import *\n",
    "\n",
    "reg = setup(data, target='target', train_size=0.80, categorical_features=[\"gender\", \"offer_type\"],\n",
    "            normalize=False, fold_strategy=\"kfold\", fold=10, session_id=seed, log_experiment=False,\n",
    "            remove_multicollinearity = True, multicollinearity_threshold = 0.9,)"
   ]
  },
  {
   "cell_type": "code",
   "execution_count": 52,
   "metadata": {},
   "outputs": [
    {
     "data": {
      "text/html": [
       "<style type=\"text/css\">\n",
       "#T_ad54f_ th {\n",
       "  text-align: left;\n",
       "}\n",
       "#T_ad54f_row0_col0, #T_ad54f_row0_col2, #T_ad54f_row0_col3, #T_ad54f_row0_col4, #T_ad54f_row1_col0, #T_ad54f_row1_col1, #T_ad54f_row1_col3, #T_ad54f_row1_col5, #T_ad54f_row1_col6, #T_ad54f_row1_col7, #T_ad54f_row2_col0, #T_ad54f_row2_col1, #T_ad54f_row2_col2, #T_ad54f_row2_col3, #T_ad54f_row2_col4, #T_ad54f_row2_col5, #T_ad54f_row2_col6, #T_ad54f_row2_col7, #T_ad54f_row3_col0, #T_ad54f_row3_col1, #T_ad54f_row3_col2, #T_ad54f_row3_col3, #T_ad54f_row3_col4, #T_ad54f_row3_col5, #T_ad54f_row3_col6, #T_ad54f_row3_col7, #T_ad54f_row4_col0, #T_ad54f_row4_col1, #T_ad54f_row4_col2, #T_ad54f_row4_col3, #T_ad54f_row4_col4, #T_ad54f_row4_col5, #T_ad54f_row4_col6, #T_ad54f_row4_col7, #T_ad54f_row5_col0, #T_ad54f_row5_col1, #T_ad54f_row5_col2, #T_ad54f_row5_col3, #T_ad54f_row5_col4, #T_ad54f_row5_col5, #T_ad54f_row5_col6, #T_ad54f_row5_col7, #T_ad54f_row6_col0, #T_ad54f_row6_col1, #T_ad54f_row6_col2, #T_ad54f_row6_col3, #T_ad54f_row6_col4, #T_ad54f_row6_col5, #T_ad54f_row6_col6, #T_ad54f_row6_col7, #T_ad54f_row7_col0, #T_ad54f_row7_col1, #T_ad54f_row7_col2, #T_ad54f_row7_col3, #T_ad54f_row7_col4, #T_ad54f_row7_col5, #T_ad54f_row7_col6, #T_ad54f_row7_col7, #T_ad54f_row8_col0, #T_ad54f_row8_col1, #T_ad54f_row8_col2, #T_ad54f_row8_col3, #T_ad54f_row8_col4, #T_ad54f_row8_col5, #T_ad54f_row8_col6, #T_ad54f_row8_col7, #T_ad54f_row9_col0, #T_ad54f_row9_col1, #T_ad54f_row9_col2, #T_ad54f_row9_col3, #T_ad54f_row9_col4, #T_ad54f_row9_col5, #T_ad54f_row9_col6, #T_ad54f_row9_col7, #T_ad54f_row10_col0, #T_ad54f_row10_col1, #T_ad54f_row10_col2, #T_ad54f_row10_col3, #T_ad54f_row10_col4, #T_ad54f_row10_col5, #T_ad54f_row10_col6, #T_ad54f_row10_col7, #T_ad54f_row11_col0, #T_ad54f_row11_col1, #T_ad54f_row11_col2, #T_ad54f_row11_col4, #T_ad54f_row11_col5, #T_ad54f_row11_col6, #T_ad54f_row11_col7, #T_ad54f_row12_col0, #T_ad54f_row12_col1, #T_ad54f_row12_col2, #T_ad54f_row12_col3, #T_ad54f_row12_col4, #T_ad54f_row12_col5, #T_ad54f_row12_col6, #T_ad54f_row12_col7, #T_ad54f_row13_col0, #T_ad54f_row13_col1, #T_ad54f_row13_col2, #T_ad54f_row13_col3, #T_ad54f_row13_col4, #T_ad54f_row13_col5, #T_ad54f_row13_col6, #T_ad54f_row13_col7 {\n",
       "  text-align: left;\n",
       "}\n",
       "#T_ad54f_row0_col1, #T_ad54f_row0_col5, #T_ad54f_row0_col6, #T_ad54f_row0_col7, #T_ad54f_row1_col2, #T_ad54f_row1_col4, #T_ad54f_row11_col3 {\n",
       "  text-align: left;\n",
       "  background-color: yellow;\n",
       "}\n",
       "#T_ad54f_row0_col8, #T_ad54f_row1_col8, #T_ad54f_row2_col8, #T_ad54f_row3_col8, #T_ad54f_row4_col8, #T_ad54f_row5_col8, #T_ad54f_row6_col8, #T_ad54f_row7_col8, #T_ad54f_row8_col8, #T_ad54f_row9_col8, #T_ad54f_row10_col8, #T_ad54f_row11_col8, #T_ad54f_row13_col8 {\n",
       "  text-align: left;\n",
       "  background-color: lightgrey;\n",
       "}\n",
       "#T_ad54f_row12_col8 {\n",
       "  text-align: left;\n",
       "  background-color: yellow;\n",
       "  background-color: lightgrey;\n",
       "}\n",
       "</style>\n",
       "<table id=\"T_ad54f_\">\n",
       "  <thead>\n",
       "    <tr>\n",
       "      <th class=\"blank level0\" >&nbsp;</th>\n",
       "      <th class=\"col_heading level0 col0\" >Model</th>\n",
       "      <th class=\"col_heading level0 col1\" >Accuracy</th>\n",
       "      <th class=\"col_heading level0 col2\" >AUC</th>\n",
       "      <th class=\"col_heading level0 col3\" >Recall</th>\n",
       "      <th class=\"col_heading level0 col4\" >Prec.</th>\n",
       "      <th class=\"col_heading level0 col5\" >F1</th>\n",
       "      <th class=\"col_heading level0 col6\" >Kappa</th>\n",
       "      <th class=\"col_heading level0 col7\" >MCC</th>\n",
       "      <th class=\"col_heading level0 col8\" >TT (Sec)</th>\n",
       "    </tr>\n",
       "  </thead>\n",
       "  <tbody>\n",
       "    <tr>\n",
       "      <th id=\"T_ad54f_level0_row0\" class=\"row_heading level0 row0\" >rf</th>\n",
       "      <td id=\"T_ad54f_row0_col0\" class=\"data row0 col0\" >Random Forest Classifier</td>\n",
       "      <td id=\"T_ad54f_row0_col1\" class=\"data row0 col1\" >0.8184</td>\n",
       "      <td id=\"T_ad54f_row0_col2\" class=\"data row0 col2\" >0.9036</td>\n",
       "      <td id=\"T_ad54f_row0_col3\" class=\"data row0 col3\" >0.7731</td>\n",
       "      <td id=\"T_ad54f_row0_col4\" class=\"data row0 col4\" >0.7701</td>\n",
       "      <td id=\"T_ad54f_row0_col5\" class=\"data row0 col5\" >0.7716</td>\n",
       "      <td id=\"T_ad54f_row0_col6\" class=\"data row0 col6\" >0.6208</td>\n",
       "      <td id=\"T_ad54f_row0_col7\" class=\"data row0 col7\" >0.6208</td>\n",
       "      <td id=\"T_ad54f_row0_col8\" class=\"data row0 col8\" >2.0900</td>\n",
       "    </tr>\n",
       "    <tr>\n",
       "      <th id=\"T_ad54f_level0_row1\" class=\"row_heading level0 row1\" >lightgbm</th>\n",
       "      <td id=\"T_ad54f_row1_col0\" class=\"data row1 col0\" >Light Gradient Boosting Machine</td>\n",
       "      <td id=\"T_ad54f_row1_col1\" class=\"data row1 col1\" >0.8150</td>\n",
       "      <td id=\"T_ad54f_row1_col2\" class=\"data row1 col2\" >0.9046</td>\n",
       "      <td id=\"T_ad54f_row1_col3\" class=\"data row1 col3\" >0.7599</td>\n",
       "      <td id=\"T_ad54f_row1_col4\" class=\"data row1 col4\" >0.7707</td>\n",
       "      <td id=\"T_ad54f_row1_col5\" class=\"data row1 col5\" >0.7652</td>\n",
       "      <td id=\"T_ad54f_row1_col6\" class=\"data row1 col6\" >0.6125</td>\n",
       "      <td id=\"T_ad54f_row1_col7\" class=\"data row1 col7\" >0.6126</td>\n",
       "      <td id=\"T_ad54f_row1_col8\" class=\"data row1 col8\" >0.3240</td>\n",
       "    </tr>\n",
       "    <tr>\n",
       "      <th id=\"T_ad54f_level0_row2\" class=\"row_heading level0 row2\" >gbc</th>\n",
       "      <td id=\"T_ad54f_row2_col0\" class=\"data row2 col0\" >Gradient Boosting Classifier</td>\n",
       "      <td id=\"T_ad54f_row2_col1\" class=\"data row2 col1\" >0.8110</td>\n",
       "      <td id=\"T_ad54f_row2_col2\" class=\"data row2 col2\" >0.9006</td>\n",
       "      <td id=\"T_ad54f_row2_col3\" class=\"data row2 col3\" >0.7630</td>\n",
       "      <td id=\"T_ad54f_row2_col4\" class=\"data row2 col4\" >0.7613</td>\n",
       "      <td id=\"T_ad54f_row2_col5\" class=\"data row2 col5\" >0.7622</td>\n",
       "      <td id=\"T_ad54f_row2_col6\" class=\"data row2 col6\" >0.6054</td>\n",
       "      <td id=\"T_ad54f_row2_col7\" class=\"data row2 col7\" >0.6054</td>\n",
       "      <td id=\"T_ad54f_row2_col8\" class=\"data row2 col8\" >2.5880</td>\n",
       "    </tr>\n",
       "    <tr>\n",
       "      <th id=\"T_ad54f_level0_row3\" class=\"row_heading level0 row3\" >et</th>\n",
       "      <td id=\"T_ad54f_row3_col0\" class=\"data row3 col0\" >Extra Trees Classifier</td>\n",
       "      <td id=\"T_ad54f_row3_col1\" class=\"data row3 col1\" >0.8057</td>\n",
       "      <td id=\"T_ad54f_row3_col2\" class=\"data row3 col2\" >0.8894</td>\n",
       "      <td id=\"T_ad54f_row3_col3\" class=\"data row3 col3\" >0.7697</td>\n",
       "      <td id=\"T_ad54f_row3_col4\" class=\"data row3 col4\" >0.7479</td>\n",
       "      <td id=\"T_ad54f_row3_col5\" class=\"data row3 col5\" >0.7586</td>\n",
       "      <td id=\"T_ad54f_row3_col6\" class=\"data row3 col6\" >0.5960</td>\n",
       "      <td id=\"T_ad54f_row3_col7\" class=\"data row3 col7\" >0.5962</td>\n",
       "      <td id=\"T_ad54f_row3_col8\" class=\"data row3 col8\" >2.9200</td>\n",
       "    </tr>\n",
       "    <tr>\n",
       "      <th id=\"T_ad54f_level0_row4\" class=\"row_heading level0 row4\" >ada</th>\n",
       "      <td id=\"T_ad54f_row4_col0\" class=\"data row4 col0\" >Ada Boost Classifier</td>\n",
       "      <td id=\"T_ad54f_row4_col1\" class=\"data row4 col1\" >0.8036</td>\n",
       "      <td id=\"T_ad54f_row4_col2\" class=\"data row4 col2\" >0.8938</td>\n",
       "      <td id=\"T_ad54f_row4_col3\" class=\"data row4 col3\" >0.7611</td>\n",
       "      <td id=\"T_ad54f_row4_col4\" class=\"data row4 col4\" >0.7482</td>\n",
       "      <td id=\"T_ad54f_row4_col5\" class=\"data row4 col5\" >0.7546</td>\n",
       "      <td id=\"T_ad54f_row4_col6\" class=\"data row4 col6\" >0.5909</td>\n",
       "      <td id=\"T_ad54f_row4_col7\" class=\"data row4 col7\" >0.5909</td>\n",
       "      <td id=\"T_ad54f_row4_col8\" class=\"data row4 col8\" >1.2640</td>\n",
       "    </tr>\n",
       "    <tr>\n",
       "      <th id=\"T_ad54f_level0_row5\" class=\"row_heading level0 row5\" >dt</th>\n",
       "      <td id=\"T_ad54f_row5_col0\" class=\"data row5 col0\" >Decision Tree Classifier</td>\n",
       "      <td id=\"T_ad54f_row5_col1\" class=\"data row5 col1\" >0.7906</td>\n",
       "      <td id=\"T_ad54f_row5_col2\" class=\"data row5 col2\" >0.7816</td>\n",
       "      <td id=\"T_ad54f_row5_col3\" class=\"data row5 col3\" >0.7364</td>\n",
       "      <td id=\"T_ad54f_row5_col4\" class=\"data row5 col4\" >0.7361</td>\n",
       "      <td id=\"T_ad54f_row5_col5\" class=\"data row5 col5\" >0.7362</td>\n",
       "      <td id=\"T_ad54f_row5_col6\" class=\"data row5 col6\" >0.5626</td>\n",
       "      <td id=\"T_ad54f_row5_col7\" class=\"data row5 col7\" >0.5627</td>\n",
       "      <td id=\"T_ad54f_row5_col8\" class=\"data row5 col8\" >0.2700</td>\n",
       "    </tr>\n",
       "    <tr>\n",
       "      <th id=\"T_ad54f_level0_row6\" class=\"row_heading level0 row6\" >lda</th>\n",
       "      <td id=\"T_ad54f_row6_col0\" class=\"data row6 col0\" >Linear Discriminant Analysis</td>\n",
       "      <td id=\"T_ad54f_row6_col1\" class=\"data row6 col1\" >0.7783</td>\n",
       "      <td id=\"T_ad54f_row6_col2\" class=\"data row6 col2\" >0.8674</td>\n",
       "      <td id=\"T_ad54f_row6_col3\" class=\"data row6 col3\" >0.7346</td>\n",
       "      <td id=\"T_ad54f_row6_col4\" class=\"data row6 col4\" >0.7145</td>\n",
       "      <td id=\"T_ad54f_row6_col5\" class=\"data row6 col5\" >0.7244</td>\n",
       "      <td id=\"T_ad54f_row6_col6\" class=\"data row6 col6\" >0.5390</td>\n",
       "      <td id=\"T_ad54f_row6_col7\" class=\"data row6 col7\" >0.5391</td>\n",
       "      <td id=\"T_ad54f_row6_col8\" class=\"data row6 col8\" >0.3340</td>\n",
       "    </tr>\n",
       "    <tr>\n",
       "      <th id=\"T_ad54f_level0_row7\" class=\"row_heading level0 row7\" >ridge</th>\n",
       "      <td id=\"T_ad54f_row7_col0\" class=\"data row7 col0\" >Ridge Classifier</td>\n",
       "      <td id=\"T_ad54f_row7_col1\" class=\"data row7 col1\" >0.7782</td>\n",
       "      <td id=\"T_ad54f_row7_col2\" class=\"data row7 col2\" >0.0000</td>\n",
       "      <td id=\"T_ad54f_row7_col3\" class=\"data row7 col3\" >0.7313</td>\n",
       "      <td id=\"T_ad54f_row7_col4\" class=\"data row7 col4\" >0.7158</td>\n",
       "      <td id=\"T_ad54f_row7_col5\" class=\"data row7 col5\" >0.7234</td>\n",
       "      <td id=\"T_ad54f_row7_col6\" class=\"data row7 col6\" >0.5383</td>\n",
       "      <td id=\"T_ad54f_row7_col7\" class=\"data row7 col7\" >0.5384</td>\n",
       "      <td id=\"T_ad54f_row7_col8\" class=\"data row7 col8\" >0.1040</td>\n",
       "    </tr>\n",
       "    <tr>\n",
       "      <th id=\"T_ad54f_level0_row8\" class=\"row_heading level0 row8\" >nb</th>\n",
       "      <td id=\"T_ad54f_row8_col0\" class=\"data row8 col0\" >Naive Bayes</td>\n",
       "      <td id=\"T_ad54f_row8_col1\" class=\"data row8 col1\" >0.7453</td>\n",
       "      <td id=\"T_ad54f_row8_col2\" class=\"data row8 col2\" >0.8450</td>\n",
       "      <td id=\"T_ad54f_row8_col3\" class=\"data row8 col3\" >0.8096</td>\n",
       "      <td id=\"T_ad54f_row8_col4\" class=\"data row8 col4\" >0.6420</td>\n",
       "      <td id=\"T_ad54f_row8_col5\" class=\"data row8 col5\" >0.7161</td>\n",
       "      <td id=\"T_ad54f_row8_col6\" class=\"data row8 col6\" >0.4906</td>\n",
       "      <td id=\"T_ad54f_row8_col7\" class=\"data row8 col7\" >0.5015</td>\n",
       "      <td id=\"T_ad54f_row8_col8\" class=\"data row8 col8\" >0.8640</td>\n",
       "    </tr>\n",
       "    <tr>\n",
       "      <th id=\"T_ad54f_level0_row9\" class=\"row_heading level0 row9\" >knn</th>\n",
       "      <td id=\"T_ad54f_row9_col0\" class=\"data row9 col0\" >K Neighbors Classifier</td>\n",
       "      <td id=\"T_ad54f_row9_col1\" class=\"data row9 col1\" >0.7048</td>\n",
       "      <td id=\"T_ad54f_row9_col2\" class=\"data row9 col2\" >0.7551</td>\n",
       "      <td id=\"T_ad54f_row9_col3\" class=\"data row9 col3\" >0.6112</td>\n",
       "      <td id=\"T_ad54f_row9_col4\" class=\"data row9 col4\" >0.6326</td>\n",
       "      <td id=\"T_ad54f_row9_col5\" class=\"data row9 col5\" >0.6217</td>\n",
       "      <td id=\"T_ad54f_row9_col6\" class=\"data row9 col6\" >0.3798</td>\n",
       "      <td id=\"T_ad54f_row9_col7\" class=\"data row9 col7\" >0.3800</td>\n",
       "      <td id=\"T_ad54f_row9_col8\" class=\"data row9 col8\" >2.0480</td>\n",
       "    </tr>\n",
       "    <tr>\n",
       "      <th id=\"T_ad54f_level0_row10\" class=\"row_heading level0 row10\" >lr</th>\n",
       "      <td id=\"T_ad54f_row10_col0\" class=\"data row10 col0\" >Logistic Regression</td>\n",
       "      <td id=\"T_ad54f_row10_col1\" class=\"data row10 col1\" >0.6623</td>\n",
       "      <td id=\"T_ad54f_row10_col2\" class=\"data row10 col2\" >0.7120</td>\n",
       "      <td id=\"T_ad54f_row10_col3\" class=\"data row10 col3\" >0.4948</td>\n",
       "      <td id=\"T_ad54f_row10_col4\" class=\"data row10 col4\" >0.5758</td>\n",
       "      <td id=\"T_ad54f_row10_col5\" class=\"data row10 col5\" >0.5299</td>\n",
       "      <td id=\"T_ad54f_row10_col6\" class=\"data row10 col6\" >0.2719</td>\n",
       "      <td id=\"T_ad54f_row10_col7\" class=\"data row10 col7\" >0.2737</td>\n",
       "      <td id=\"T_ad54f_row10_col8\" class=\"data row10 col8\" >1.9980</td>\n",
       "    </tr>\n",
       "    <tr>\n",
       "      <th id=\"T_ad54f_level0_row11\" class=\"row_heading level0 row11\" >qda</th>\n",
       "      <td id=\"T_ad54f_row11_col0\" class=\"data row11 col0\" >Quadratic Discriminant Analysis</td>\n",
       "      <td id=\"T_ad54f_row11_col1\" class=\"data row11 col1\" >0.6258</td>\n",
       "      <td id=\"T_ad54f_row11_col2\" class=\"data row11 col2\" >0.8053</td>\n",
       "      <td id=\"T_ad54f_row11_col3\" class=\"data row11 col3\" >0.9560</td>\n",
       "      <td id=\"T_ad54f_row11_col4\" class=\"data row11 col4\" >0.5154</td>\n",
       "      <td id=\"T_ad54f_row11_col5\" class=\"data row11 col5\" >0.6697</td>\n",
       "      <td id=\"T_ad54f_row11_col6\" class=\"data row11 col6\" >0.3180</td>\n",
       "      <td id=\"T_ad54f_row11_col7\" class=\"data row11 col7\" >0.4047</td>\n",
       "      <td id=\"T_ad54f_row11_col8\" class=\"data row11 col8\" >0.3060</td>\n",
       "    </tr>\n",
       "    <tr>\n",
       "      <th id=\"T_ad54f_level0_row12\" class=\"row_heading level0 row12\" >dummy</th>\n",
       "      <td id=\"T_ad54f_row12_col0\" class=\"data row12 col0\" >Dummy Classifier</td>\n",
       "      <td id=\"T_ad54f_row12_col1\" class=\"data row12 col1\" >0.6032</td>\n",
       "      <td id=\"T_ad54f_row12_col2\" class=\"data row12 col2\" >0.5000</td>\n",
       "      <td id=\"T_ad54f_row12_col3\" class=\"data row12 col3\" >0.0000</td>\n",
       "      <td id=\"T_ad54f_row12_col4\" class=\"data row12 col4\" >0.0000</td>\n",
       "      <td id=\"T_ad54f_row12_col5\" class=\"data row12 col5\" >0.0000</td>\n",
       "      <td id=\"T_ad54f_row12_col6\" class=\"data row12 col6\" >0.0000</td>\n",
       "      <td id=\"T_ad54f_row12_col7\" class=\"data row12 col7\" >0.0000</td>\n",
       "      <td id=\"T_ad54f_row12_col8\" class=\"data row12 col8\" >0.1020</td>\n",
       "    </tr>\n",
       "    <tr>\n",
       "      <th id=\"T_ad54f_level0_row13\" class=\"row_heading level0 row13\" >svm</th>\n",
       "      <td id=\"T_ad54f_row13_col0\" class=\"data row13 col0\" >SVM - Linear Kernel</td>\n",
       "      <td id=\"T_ad54f_row13_col1\" class=\"data row13 col1\" >0.5545</td>\n",
       "      <td id=\"T_ad54f_row13_col2\" class=\"data row13 col2\" >0.0000</td>\n",
       "      <td id=\"T_ad54f_row13_col3\" class=\"data row13 col3\" >0.2029</td>\n",
       "      <td id=\"T_ad54f_row13_col4\" class=\"data row13 col4\" >0.1799</td>\n",
       "      <td id=\"T_ad54f_row13_col5\" class=\"data row13 col5\" >0.1360</td>\n",
       "      <td id=\"T_ad54f_row13_col6\" class=\"data row13 col6\" >-0.0230</td>\n",
       "      <td id=\"T_ad54f_row13_col7\" class=\"data row13 col7\" >-0.0531</td>\n",
       "      <td id=\"T_ad54f_row13_col8\" class=\"data row13 col8\" >1.7820</td>\n",
       "    </tr>\n",
       "  </tbody>\n",
       "</table>\n"
      ],
      "text/plain": [
       "<pandas.io.formats.style.Styler at 0x2d1a5b7b280>"
      ]
     },
     "metadata": {},
     "output_type": "display_data"
    }
   ],
   "source": [
    "best_model = compare_models(fold=5)"
   ]
  },
  {
   "cell_type": "code",
   "execution_count": 53,
   "metadata": {},
   "outputs": [
    {
     "data": {
      "text/html": [
       "<style type=\"text/css\">\n",
       "#T_6d415_row10_col0, #T_6d415_row10_col1, #T_6d415_row10_col2, #T_6d415_row10_col3, #T_6d415_row10_col4, #T_6d415_row10_col5, #T_6d415_row10_col6 {\n",
       "  background: yellow;\n",
       "}\n",
       "</style>\n",
       "<table id=\"T_6d415_\">\n",
       "  <thead>\n",
       "    <tr>\n",
       "      <th class=\"blank level0\" >&nbsp;</th>\n",
       "      <th class=\"col_heading level0 col0\" >Accuracy</th>\n",
       "      <th class=\"col_heading level0 col1\" >AUC</th>\n",
       "      <th class=\"col_heading level0 col2\" >Recall</th>\n",
       "      <th class=\"col_heading level0 col3\" >Prec.</th>\n",
       "      <th class=\"col_heading level0 col4\" >F1</th>\n",
       "      <th class=\"col_heading level0 col5\" >Kappa</th>\n",
       "      <th class=\"col_heading level0 col6\" >MCC</th>\n",
       "    </tr>\n",
       "  </thead>\n",
       "  <tbody>\n",
       "    <tr>\n",
       "      <th id=\"T_6d415_level0_row0\" class=\"row_heading level0 row0\" >0</th>\n",
       "      <td id=\"T_6d415_row0_col0\" class=\"data row0 col0\" >0.8186</td>\n",
       "      <td id=\"T_6d415_row0_col1\" class=\"data row0 col1\" >0.9045</td>\n",
       "      <td id=\"T_6d415_row0_col2\" class=\"data row0 col2\" >0.7673</td>\n",
       "      <td id=\"T_6d415_row0_col3\" class=\"data row0 col3\" >0.7695</td>\n",
       "      <td id=\"T_6d415_row0_col4\" class=\"data row0 col4\" >0.7684</td>\n",
       "      <td id=\"T_6d415_row0_col5\" class=\"data row0 col5\" >0.6193</td>\n",
       "      <td id=\"T_6d415_row0_col6\" class=\"data row0 col6\" >0.6193</td>\n",
       "    </tr>\n",
       "    <tr>\n",
       "      <th id=\"T_6d415_level0_row1\" class=\"row_heading level0 row1\" >1</th>\n",
       "      <td id=\"T_6d415_row1_col0\" class=\"data row1 col0\" >0.8180</td>\n",
       "      <td id=\"T_6d415_row1_col1\" class=\"data row1 col1\" >0.9033</td>\n",
       "      <td id=\"T_6d415_row1_col2\" class=\"data row1 col2\" >0.7731</td>\n",
       "      <td id=\"T_6d415_row1_col3\" class=\"data row1 col3\" >0.7567</td>\n",
       "      <td id=\"T_6d415_row1_col4\" class=\"data row1 col4\" >0.7648</td>\n",
       "      <td id=\"T_6d415_row1_col5\" class=\"data row1 col5\" >0.6164</td>\n",
       "      <td id=\"T_6d415_row1_col6\" class=\"data row1 col6\" >0.6165</td>\n",
       "    </tr>\n",
       "    <tr>\n",
       "      <th id=\"T_6d415_level0_row2\" class=\"row_heading level0 row2\" >2</th>\n",
       "      <td id=\"T_6d415_row2_col0\" class=\"data row2 col0\" >0.8141</td>\n",
       "      <td id=\"T_6d415_row2_col1\" class=\"data row2 col1\" >0.9027</td>\n",
       "      <td id=\"T_6d415_row2_col2\" class=\"data row2 col2\" >0.7558</td>\n",
       "      <td id=\"T_6d415_row2_col3\" class=\"data row2 col3\" >0.7720</td>\n",
       "      <td id=\"T_6d415_row2_col4\" class=\"data row2 col4\" >0.7638</td>\n",
       "      <td id=\"T_6d415_row2_col5\" class=\"data row2 col5\" >0.6106</td>\n",
       "      <td id=\"T_6d415_row2_col6\" class=\"data row2 col6\" >0.6107</td>\n",
       "    </tr>\n",
       "    <tr>\n",
       "      <th id=\"T_6d415_level0_row3\" class=\"row_heading level0 row3\" >3</th>\n",
       "      <td id=\"T_6d415_row3_col0\" class=\"data row3 col0\" >0.8269</td>\n",
       "      <td id=\"T_6d415_row3_col1\" class=\"data row3 col1\" >0.9100</td>\n",
       "      <td id=\"T_6d415_row3_col2\" class=\"data row3 col2\" >0.7959</td>\n",
       "      <td id=\"T_6d415_row3_col3\" class=\"data row3 col3\" >0.7760</td>\n",
       "      <td id=\"T_6d415_row3_col4\" class=\"data row3 col4\" >0.7858</td>\n",
       "      <td id=\"T_6d415_row3_col5\" class=\"data row3 col5\" >0.6406</td>\n",
       "      <td id=\"T_6d415_row3_col6\" class=\"data row3 col6\" >0.6407</td>\n",
       "    </tr>\n",
       "    <tr>\n",
       "      <th id=\"T_6d415_level0_row4\" class=\"row_heading level0 row4\" >4</th>\n",
       "      <td id=\"T_6d415_row4_col0\" class=\"data row4 col0\" >0.8226</td>\n",
       "      <td id=\"T_6d415_row4_col1\" class=\"data row4 col1\" >0.9051</td>\n",
       "      <td id=\"T_6d415_row4_col2\" class=\"data row4 col2\" >0.7789</td>\n",
       "      <td id=\"T_6d415_row4_col3\" class=\"data row4 col3\" >0.7755</td>\n",
       "      <td id=\"T_6d415_row4_col4\" class=\"data row4 col4\" >0.7772</td>\n",
       "      <td id=\"T_6d415_row4_col5\" class=\"data row4 col5\" >0.6298</td>\n",
       "      <td id=\"T_6d415_row4_col6\" class=\"data row4 col6\" >0.6299</td>\n",
       "    </tr>\n",
       "    <tr>\n",
       "      <th id=\"T_6d415_level0_row5\" class=\"row_heading level0 row5\" >5</th>\n",
       "      <td id=\"T_6d415_row5_col0\" class=\"data row5 col0\" >0.8190</td>\n",
       "      <td id=\"T_6d415_row5_col1\" class=\"data row5 col1\" >0.9025</td>\n",
       "      <td id=\"T_6d415_row5_col2\" class=\"data row5 col2\" >0.7714</td>\n",
       "      <td id=\"T_6d415_row5_col3\" class=\"data row5 col3\" >0.7810</td>\n",
       "      <td id=\"T_6d415_row5_col4\" class=\"data row5 col4\" >0.7762</td>\n",
       "      <td id=\"T_6d415_row5_col5\" class=\"data row5 col5\" >0.6242</td>\n",
       "      <td id=\"T_6d415_row5_col6\" class=\"data row5 col6\" >0.6242</td>\n",
       "    </tr>\n",
       "    <tr>\n",
       "      <th id=\"T_6d415_level0_row6\" class=\"row_heading level0 row6\" >6</th>\n",
       "      <td id=\"T_6d415_row6_col0\" class=\"data row6 col0\" >0.8273</td>\n",
       "      <td id=\"T_6d415_row6_col1\" class=\"data row6 col1\" >0.9081</td>\n",
       "      <td id=\"T_6d415_row6_col2\" class=\"data row6 col2\" >0.7860</td>\n",
       "      <td id=\"T_6d415_row6_col3\" class=\"data row6 col3\" >0.7871</td>\n",
       "      <td id=\"T_6d415_row6_col4\" class=\"data row6 col4\" >0.7865</td>\n",
       "      <td id=\"T_6d415_row6_col5\" class=\"data row6 col5\" >0.6415</td>\n",
       "      <td id=\"T_6d415_row6_col6\" class=\"data row6 col6\" >0.6415</td>\n",
       "    </tr>\n",
       "    <tr>\n",
       "      <th id=\"T_6d415_level0_row7\" class=\"row_heading level0 row7\" >7</th>\n",
       "      <td id=\"T_6d415_row7_col0\" class=\"data row7 col0\" >0.8244</td>\n",
       "      <td id=\"T_6d415_row7_col1\" class=\"data row7 col1\" >0.9105</td>\n",
       "      <td id=\"T_6d415_row7_col2\" class=\"data row7 col2\" >0.7773</td>\n",
       "      <td id=\"T_6d415_row7_col3\" class=\"data row7 col3\" >0.7773</td>\n",
       "      <td id=\"T_6d415_row7_col4\" class=\"data row7 col4\" >0.7773</td>\n",
       "      <td id=\"T_6d415_row7_col5\" class=\"data row7 col5\" >0.6323</td>\n",
       "      <td id=\"T_6d415_row7_col6\" class=\"data row7 col6\" >0.6323</td>\n",
       "    </tr>\n",
       "    <tr>\n",
       "      <th id=\"T_6d415_level0_row8\" class=\"row_heading level0 row8\" >8</th>\n",
       "      <td id=\"T_6d415_row8_col0\" class=\"data row8 col0\" >0.8151</td>\n",
       "      <td id=\"T_6d415_row8_col1\" class=\"data row8 col1\" >0.9053</td>\n",
       "      <td id=\"T_6d415_row8_col2\" class=\"data row8 col2\" >0.7630</td>\n",
       "      <td id=\"T_6d415_row8_col3\" class=\"data row8 col3\" >0.7727</td>\n",
       "      <td id=\"T_6d415_row8_col4\" class=\"data row8 col4\" >0.7678</td>\n",
       "      <td id=\"T_6d415_row8_col5\" class=\"data row8 col5\" >0.6142</td>\n",
       "      <td id=\"T_6d415_row8_col6\" class=\"data row8 col6\" >0.6142</td>\n",
       "    </tr>\n",
       "    <tr>\n",
       "      <th id=\"T_6d415_level0_row9\" class=\"row_heading level0 row9\" >9</th>\n",
       "      <td id=\"T_6d415_row9_col0\" class=\"data row9 col0\" >0.8180</td>\n",
       "      <td id=\"T_6d415_row9_col1\" class=\"data row9 col1\" >0.9016</td>\n",
       "      <td id=\"T_6d415_row9_col2\" class=\"data row9 col2\" >0.7728</td>\n",
       "      <td id=\"T_6d415_row9_col3\" class=\"data row9 col3\" >0.7656</td>\n",
       "      <td id=\"T_6d415_row9_col4\" class=\"data row9 col4\" >0.7692</td>\n",
       "      <td id=\"T_6d415_row9_col5\" class=\"data row9 col5\" >0.6189</td>\n",
       "      <td id=\"T_6d415_row9_col6\" class=\"data row9 col6\" >0.6189</td>\n",
       "    </tr>\n",
       "    <tr>\n",
       "      <th id=\"T_6d415_level0_row10\" class=\"row_heading level0 row10\" >Mean</th>\n",
       "      <td id=\"T_6d415_row10_col0\" class=\"data row10 col0\" >0.8204</td>\n",
       "      <td id=\"T_6d415_row10_col1\" class=\"data row10 col1\" >0.9054</td>\n",
       "      <td id=\"T_6d415_row10_col2\" class=\"data row10 col2\" >0.7742</td>\n",
       "      <td id=\"T_6d415_row10_col3\" class=\"data row10 col3\" >0.7733</td>\n",
       "      <td id=\"T_6d415_row10_col4\" class=\"data row10 col4\" >0.7737</td>\n",
       "      <td id=\"T_6d415_row10_col5\" class=\"data row10 col5\" >0.6248</td>\n",
       "      <td id=\"T_6d415_row10_col6\" class=\"data row10 col6\" >0.6248</td>\n",
       "    </tr>\n",
       "    <tr>\n",
       "      <th id=\"T_6d415_level0_row11\" class=\"row_heading level0 row11\" >SD</th>\n",
       "      <td id=\"T_6d415_row11_col0\" class=\"data row11 col0\" >0.0044</td>\n",
       "      <td id=\"T_6d415_row11_col1\" class=\"data row11 col1\" >0.0030</td>\n",
       "      <td id=\"T_6d415_row11_col2\" class=\"data row11 col2\" >0.0108</td>\n",
       "      <td id=\"T_6d415_row11_col3\" class=\"data row11 col3\" >0.0079</td>\n",
       "      <td id=\"T_6d415_row11_col4\" class=\"data row11 col4\" >0.0078</td>\n",
       "      <td id=\"T_6d415_row11_col5\" class=\"data row11 col5\" >0.0103</td>\n",
       "      <td id=\"T_6d415_row11_col6\" class=\"data row11 col6\" >0.0103</td>\n",
       "    </tr>\n",
       "  </tbody>\n",
       "</table>\n"
      ],
      "text/plain": [
       "<pandas.io.formats.style.Styler at 0x2d199a865e0>"
      ]
     },
     "metadata": {},
     "output_type": "display_data"
    }
   ],
   "source": [
    "rf = create_model('rf')"
   ]
  },
  {
   "cell_type": "code",
   "execution_count": 54,
   "metadata": {},
   "outputs": [
    {
     "data": {
      "text/html": [
       "<style type=\"text/css\">\n",
       "#T_7d99a_row10_col0, #T_7d99a_row10_col1, #T_7d99a_row10_col2, #T_7d99a_row10_col3, #T_7d99a_row10_col4, #T_7d99a_row10_col5, #T_7d99a_row10_col6 {\n",
       "  background: yellow;\n",
       "}\n",
       "</style>\n",
       "<table id=\"T_7d99a_\">\n",
       "  <thead>\n",
       "    <tr>\n",
       "      <th class=\"blank level0\" >&nbsp;</th>\n",
       "      <th class=\"col_heading level0 col0\" >Accuracy</th>\n",
       "      <th class=\"col_heading level0 col1\" >AUC</th>\n",
       "      <th class=\"col_heading level0 col2\" >Recall</th>\n",
       "      <th class=\"col_heading level0 col3\" >Prec.</th>\n",
       "      <th class=\"col_heading level0 col4\" >F1</th>\n",
       "      <th class=\"col_heading level0 col5\" >Kappa</th>\n",
       "      <th class=\"col_heading level0 col6\" >MCC</th>\n",
       "    </tr>\n",
       "  </thead>\n",
       "  <tbody>\n",
       "    <tr>\n",
       "      <th id=\"T_7d99a_level0_row0\" class=\"row_heading level0 row0\" >0</th>\n",
       "      <td id=\"T_7d99a_row0_col0\" class=\"data row0 col0\" >0.7944</td>\n",
       "      <td id=\"T_7d99a_row0_col1\" class=\"data row0 col1\" >0.8930</td>\n",
       "      <td id=\"T_7d99a_row0_col2\" class=\"data row0 col2\" >0.8033</td>\n",
       "      <td id=\"T_7d99a_row0_col3\" class=\"data row0 col3\" >0.7104</td>\n",
       "      <td id=\"T_7d99a_row0_col4\" class=\"data row0 col4\" >0.7540</td>\n",
       "      <td id=\"T_7d99a_row0_col5\" class=\"data row0 col5\" >0.5785</td>\n",
       "      <td id=\"T_7d99a_row0_col6\" class=\"data row0 col6\" >0.5817</td>\n",
       "    </tr>\n",
       "    <tr>\n",
       "      <th id=\"T_7d99a_level0_row1\" class=\"row_heading level0 row1\" >1</th>\n",
       "      <td id=\"T_7d99a_row1_col0\" class=\"data row1 col0\" >0.7911</td>\n",
       "      <td id=\"T_7d99a_row1_col1\" class=\"data row1 col1\" >0.8885</td>\n",
       "      <td id=\"T_7d99a_row1_col2\" class=\"data row1 col2\" >0.8014</td>\n",
       "      <td id=\"T_7d99a_row1_col3\" class=\"data row1 col3\" >0.6978</td>\n",
       "      <td id=\"T_7d99a_row1_col4\" class=\"data row1 col4\" >0.7460</td>\n",
       "      <td id=\"T_7d99a_row1_col5\" class=\"data row1 col5\" >0.5700</td>\n",
       "      <td id=\"T_7d99a_row1_col6\" class=\"data row1 col6\" >0.5740</td>\n",
       "    </tr>\n",
       "    <tr>\n",
       "      <th id=\"T_7d99a_level0_row2\" class=\"row_heading level0 row2\" >2</th>\n",
       "      <td id=\"T_7d99a_row2_col0\" class=\"data row2 col0\" >0.7890</td>\n",
       "      <td id=\"T_7d99a_row2_col1\" class=\"data row2 col1\" >0.8873</td>\n",
       "      <td id=\"T_7d99a_row2_col2\" class=\"data row2 col2\" >0.7768</td>\n",
       "      <td id=\"T_7d99a_row2_col3\" class=\"data row2 col3\" >0.7165</td>\n",
       "      <td id=\"T_7d99a_row2_col4\" class=\"data row2 col4\" >0.7454</td>\n",
       "      <td id=\"T_7d99a_row2_col5\" class=\"data row2 col5\" >0.5657</td>\n",
       "      <td id=\"T_7d99a_row2_col6\" class=\"data row2 col6\" >0.5671</td>\n",
       "    </tr>\n",
       "    <tr>\n",
       "      <th id=\"T_7d99a_level0_row3\" class=\"row_heading level0 row3\" >3</th>\n",
       "      <td id=\"T_7d99a_row3_col0\" class=\"data row3 col0\" >0.7969</td>\n",
       "      <td id=\"T_7d99a_row3_col1\" class=\"data row3 col1\" >0.8964</td>\n",
       "      <td id=\"T_7d99a_row3_col2\" class=\"data row3 col2\" >0.8173</td>\n",
       "      <td id=\"T_7d99a_row3_col3\" class=\"data row3 col3\" >0.7147</td>\n",
       "      <td id=\"T_7d99a_row3_col4\" class=\"data row3 col4\" >0.7626</td>\n",
       "      <td id=\"T_7d99a_row3_col5\" class=\"data row3 col5\" >0.5865</td>\n",
       "      <td id=\"T_7d99a_row3_col6\" class=\"data row3 col6\" >0.5905</td>\n",
       "    </tr>\n",
       "    <tr>\n",
       "      <th id=\"T_7d99a_level0_row4\" class=\"row_heading level0 row4\" >4</th>\n",
       "      <td id=\"T_7d99a_row4_col0\" class=\"data row4 col0\" >0.7996</td>\n",
       "      <td id=\"T_7d99a_row4_col1\" class=\"data row4 col1\" >0.8929</td>\n",
       "      <td id=\"T_7d99a_row4_col2\" class=\"data row4 col2\" >0.7974</td>\n",
       "      <td id=\"T_7d99a_row4_col3\" class=\"data row4 col3\" >0.7253</td>\n",
       "      <td id=\"T_7d99a_row4_col4\" class=\"data row4 col4\" >0.7596</td>\n",
       "      <td id=\"T_7d99a_row4_col5\" class=\"data row4 col5\" >0.5885</td>\n",
       "      <td id=\"T_7d99a_row4_col6\" class=\"data row4 col6\" >0.5904</td>\n",
       "    </tr>\n",
       "    <tr>\n",
       "      <th id=\"T_7d99a_level0_row5\" class=\"row_heading level0 row5\" >5</th>\n",
       "      <td id=\"T_7d99a_row5_col0\" class=\"data row5 col0\" >0.7925</td>\n",
       "      <td id=\"T_7d99a_row5_col1\" class=\"data row5 col1\" >0.8881</td>\n",
       "      <td id=\"T_7d99a_row5_col2\" class=\"data row5 col2\" >0.7975</td>\n",
       "      <td id=\"T_7d99a_row5_col3\" class=\"data row5 col3\" >0.7217</td>\n",
       "      <td id=\"T_7d99a_row5_col4\" class=\"data row5 col4\" >0.7577</td>\n",
       "      <td id=\"T_7d99a_row5_col5\" class=\"data row5 col5\" >0.5770</td>\n",
       "      <td id=\"T_7d99a_row5_col6\" class=\"data row5 col6\" >0.5792</td>\n",
       "    </tr>\n",
       "    <tr>\n",
       "      <th id=\"T_7d99a_level0_row6\" class=\"row_heading level0 row6\" >6</th>\n",
       "      <td id=\"T_7d99a_row6_col0\" class=\"data row6 col0\" >0.8056</td>\n",
       "      <td id=\"T_7d99a_row6_col1\" class=\"data row6 col1\" >0.8983</td>\n",
       "      <td id=\"T_7d99a_row6_col2\" class=\"data row6 col2\" >0.8118</td>\n",
       "      <td id=\"T_7d99a_row6_col3\" class=\"data row6 col3\" >0.7355</td>\n",
       "      <td id=\"T_7d99a_row6_col4\" class=\"data row6 col4\" >0.7717</td>\n",
       "      <td id=\"T_7d99a_row6_col5\" class=\"data row6 col5\" >0.6032</td>\n",
       "      <td id=\"T_7d99a_row6_col6\" class=\"data row6 col6\" >0.6054</td>\n",
       "    </tr>\n",
       "    <tr>\n",
       "      <th id=\"T_7d99a_level0_row7\" class=\"row_heading level0 row7\" >7</th>\n",
       "      <td id=\"T_7d99a_row7_col0\" class=\"data row7 col0\" >0.7965</td>\n",
       "      <td id=\"T_7d99a_row7_col1\" class=\"data row7 col1\" >0.8945</td>\n",
       "      <td id=\"T_7d99a_row7_col2\" class=\"data row7 col2\" >0.7970</td>\n",
       "      <td id=\"T_7d99a_row7_col3\" class=\"data row7 col3\" >0.7181</td>\n",
       "      <td id=\"T_7d99a_row7_col4\" class=\"data row7 col4\" >0.7555</td>\n",
       "      <td id=\"T_7d99a_row7_col5\" class=\"data row7 col5\" >0.5820</td>\n",
       "      <td id=\"T_7d99a_row7_col6\" class=\"data row7 col6\" >0.5844</td>\n",
       "    </tr>\n",
       "    <tr>\n",
       "      <th id=\"T_7d99a_level0_row8\" class=\"row_heading level0 row8\" >8</th>\n",
       "      <td id=\"T_7d99a_row8_col0\" class=\"data row8 col0\" >0.7959</td>\n",
       "      <td id=\"T_7d99a_row8_col1\" class=\"data row8 col1\" >0.8930</td>\n",
       "      <td id=\"T_7d99a_row8_col2\" class=\"data row8 col2\" >0.7944</td>\n",
       "      <td id=\"T_7d99a_row8_col3\" class=\"data row8 col3\" >0.7235</td>\n",
       "      <td id=\"T_7d99a_row8_col4\" class=\"data row8 col4\" >0.7573</td>\n",
       "      <td id=\"T_7d99a_row8_col5\" class=\"data row8 col5\" >0.5819</td>\n",
       "      <td id=\"T_7d99a_row8_col6\" class=\"data row8 col6\" >0.5838</td>\n",
       "    </tr>\n",
       "    <tr>\n",
       "      <th id=\"T_7d99a_level0_row9\" class=\"row_heading level0 row9\" >9</th>\n",
       "      <td id=\"T_7d99a_row9_col0\" class=\"data row9 col0\" >0.7942</td>\n",
       "      <td id=\"T_7d99a_row9_col1\" class=\"data row9 col1\" >0.8916</td>\n",
       "      <td id=\"T_7d99a_row9_col2\" class=\"data row9 col2\" >0.7979</td>\n",
       "      <td id=\"T_7d99a_row9_col3\" class=\"data row9 col3\" >0.7123</td>\n",
       "      <td id=\"T_7d99a_row9_col4\" class=\"data row9 col4\" >0.7527</td>\n",
       "      <td id=\"T_7d99a_row9_col5\" class=\"data row9 col5\" >0.5774</td>\n",
       "      <td id=\"T_7d99a_row9_col6\" class=\"data row9 col6\" >0.5801</td>\n",
       "    </tr>\n",
       "    <tr>\n",
       "      <th id=\"T_7d99a_level0_row10\" class=\"row_heading level0 row10\" >Mean</th>\n",
       "      <td id=\"T_7d99a_row10_col0\" class=\"data row10 col0\" >0.7956</td>\n",
       "      <td id=\"T_7d99a_row10_col1\" class=\"data row10 col1\" >0.8924</td>\n",
       "      <td id=\"T_7d99a_row10_col2\" class=\"data row10 col2\" >0.7995</td>\n",
       "      <td id=\"T_7d99a_row10_col3\" class=\"data row10 col3\" >0.7176</td>\n",
       "      <td id=\"T_7d99a_row10_col4\" class=\"data row10 col4\" >0.7562</td>\n",
       "      <td id=\"T_7d99a_row10_col5\" class=\"data row10 col5\" >0.5811</td>\n",
       "      <td id=\"T_7d99a_row10_col6\" class=\"data row10 col6\" >0.5837</td>\n",
       "    </tr>\n",
       "    <tr>\n",
       "      <th id=\"T_7d99a_level0_row11\" class=\"row_heading level0 row11\" >SD</th>\n",
       "      <td id=\"T_7d99a_row11_col0\" class=\"data row11 col0\" >0.0044</td>\n",
       "      <td id=\"T_7d99a_row11_col1\" class=\"data row11 col1\" >0.0034</td>\n",
       "      <td id=\"T_7d99a_row11_col2\" class=\"data row11 col2\" >0.0102</td>\n",
       "      <td id=\"T_7d99a_row11_col3\" class=\"data row11 col3\" >0.0096</td>\n",
       "      <td id=\"T_7d99a_row11_col4\" class=\"data row11 col4\" >0.0073</td>\n",
       "      <td id=\"T_7d99a_row11_col5\" class=\"data row11 col5\" >0.0098</td>\n",
       "      <td id=\"T_7d99a_row11_col6\" class=\"data row11 col6\" >0.0099</td>\n",
       "    </tr>\n",
       "  </tbody>\n",
       "</table>\n"
      ],
      "text/plain": [
       "<pandas.io.formats.style.Styler at 0x2d198f3fd30>"
      ]
     },
     "metadata": {},
     "output_type": "display_data"
    }
   ],
   "source": [
    "tuned_rf = tune_model(rf) # Tuning doesn't improve the model"
   ]
  },
  {
   "cell_type": "code",
   "execution_count": 55,
   "metadata": {},
   "outputs": [
    {
     "data": {
      "image/png": "[encoded data removed]",
      "text/plain": [
       "<Figure size 576x396 with 1 Axes>"
      ]
     },
     "metadata": {},
     "output_type": "display_data"
    }
   ],
   "source": [
    "plot_model(rf, plot = 'confusion_matrix')"
   ]
  },
  {
   "cell_type": "code",
   "execution_count": 56,
   "metadata": {},
   "outputs": [
    {
     "data": {
      "image/png": "[encoded data removed]",
      "text/plain": [
       "<Figure size 800x500 with 1 Axes>"
      ]
     },
     "metadata": {},
     "output_type": "display_data"
    }
   ],
   "source": [
    "plot_model(rf, plot = 'feature')"
   ]
  },
  {
   "cell_type": "markdown",
   "metadata": {
    "tags": []
   },
   "source": [
    "## Create the random forest model"
   ]
  },
  {
   "cell_type": "code",
   "execution_count": 57,
   "metadata": {},
   "outputs": [],
   "source": [
    "classifier = RandomForestClassifier(n_estimators=100)"
   ]
  },
  {
   "cell_type": "code",
   "execution_count": 58,
   "metadata": {},
   "outputs": [
    {
     "data": {
      "text/plain": [
       "RandomForestClassifier(bootstrap=True, ccp_alpha=0.0, class_weight=None,\n",
       "                       criterion='gini', max_depth=None, max_features='auto',\n",
       "                       max_leaf_nodes=None, max_samples=None,\n",
       "                       min_impurity_decrease=0.0, min_impurity_split=None,\n",
       "                       min_samples_leaf=1, min_samples_split=2,\n",
       "                       min_weight_fraction_leaf=0.0, n_estimators=100,\n",
       "                       n_jobs=None, oob_score=False, random_state=None,\n",
       "                       verbose=0, warm_start=False)"
      ]
     },
     "execution_count": 58,
     "metadata": {},
     "output_type": "execute_result"
    }
   ],
   "source": [
    "classifier.fit(X_train, y_train)"
   ]
  },
  {
   "cell_type": "code",
   "execution_count": 59,
   "metadata": {},
   "outputs": [],
   "source": [
    "y_pred = classifier.predict(X_test)"
   ]
  },
  {
   "cell_type": "code",
   "execution_count": 87,
   "metadata": {},
   "outputs": [
    {
     "name": "stdout",
     "output_type": "stream",
     "text": [
      "The scikit-learn RandomForests model metrics:\n",
      "Accuracy: 0.8105013410356922\n",
      "Recall: 0.7595914299950174\n",
      "Precision: 0.777607753124203\n",
      "f1-score: 0.7684940138626339\n"
     ]
    }
   ],
   "source": [
    "def print_scores(y_test, y_pred):\n",
    "    acc = accuracy_score(y_test, y_pred)\n",
    "    rec = recall_score(y_test, y_pred)\n",
    "    f1 = f1_score(y_test, y_pred)\n",
    "    precision = precision_score(y_test, y_pred)\n",
    "    \n",
    "    print(\"The scikit-learn RandomForests model metrics:\")\n",
    "    print(f\"Accuracy: {acc}\")\n",
    "    print(f\"Recall: {rec}\")\n",
    "    print(f\"Precision: {precision}\")\n",
    "    print(f\"f1-score: {f1}\")\n",
    "    return acc, rec, precision, f1\n",
    "\n",
    "print_scores(y_test, y_pred);"
   ]
  },
  {
   "cell_type": "code",
   "execution_count": 67,
   "metadata": {},
   "outputs": [
    {
     "data": {
      "image/png": "[encoded data removed]",
      "text/plain": [
       "<Figure size 576x396 with 2 Axes>"
      ]
     },
     "metadata": {},
     "output_type": "display_data"
    }
   ],
   "source": [
    "cf_matrix = confusion_matrix(y_test, y_pred)\n",
    "cf_plot = sns.heatmap(cf_matrix, annot=True, cmap='Blues', fmt=\"d\")\n",
    "cf_plot.set(title=\"Confusion matrix\", xlabel=\"Predicted class\", ylabel=\"True class\");"
   ]
  },
  {
   "cell_type": "markdown",
   "metadata": {},
   "source": [
    "## Created the tuned model"
   ]
  },
  {
   "cell_type": "code",
   "execution_count": 147,
   "metadata": {},
   "outputs": [],
   "source": [
    "# According to the different sources on the internet A RandomizedSearchCV would be the best approach.\n",
    "# Number of trees in random forest\n",
    "n_estimators = [int(x) for x in np.linspace(start = 200, stop = 2000, num = 10)]\n",
    "# Number of features to consider at every split\n",
    "max_features = ['auto', 'sqrt']\n",
    "# Maximum number of levels in tree\n",
    "max_depth = [int(x) for x in np.linspace(10, 110, num = 11)]\n",
    "max_depth.append(None)\n",
    "# Minimum number of samples required to split a node\n",
    "min_samples_split = [2, 5, 10]\n",
    "# Minimum number of samples required at each leaf node\n",
    "min_samples_leaf = [1, 2, 4]\n",
    "# Method of selecting samples for training each tree\n",
    "bootstrap = [True, False]\n",
    "\n",
    "# Create the random grid\n",
    "random_grid = {'n_estimators': n_estimators,\n",
    "               'max_features': max_features,\n",
    "               'max_depth': max_depth,\n",
    "               'min_samples_split': min_samples_split,\n",
    "               'min_samples_leaf': min_samples_leaf,\n",
    "               'bootstrap': bootstrap}"
   ]
  },
  {
   "cell_type": "code",
   "execution_count": 148,
   "metadata": {},
   "outputs": [
    {
     "name": "stdout",
     "output_type": "stream",
     "text": [
      "{'bootstrap': [True, False],\n",
      " 'max_depth': [10, 20, 30, 40, 50, 60, 70, 80, 90, 100, 110, None],\n",
      " 'max_features': ['auto', 'sqrt'],\n",
      " 'min_samples_leaf': [1, 2, 4],\n",
      " 'min_samples_split': [2, 5, 10],\n",
      " 'n_estimators': [200, 400, 600, 800, 1000, 1200, 1400, 1600, 1800, 2000]}\n"
     ]
    }
   ],
   "source": [
    "pprint(random_grid)"
   ]
  },
  {
   "cell_type": "code",
   "execution_count": 71,
   "metadata": {},
   "outputs": [],
   "source": [
    "rf_random = RandomizedSearchCV(estimator = rf, param_distributions = random_grid, n_iter = 100, cv = 3, verbose=2, random_state=42, n_jobs = -1)"
   ]
  },
  {
   "cell_type": "code",
   "execution_count": 72,
   "metadata": {},
   "outputs": [
    {
     "name": "stdout",
     "output_type": "stream",
     "text": [
      "Fitting 3 folds for each of 100 candidates, totalling 300 fits\n"
     ]
    },
    {
     "name": "stderr",
     "output_type": "stream",
     "text": [
      "[Parallel(n_jobs=-1)]: Using backend LokyBackend with 12 concurrent workers.\n",
      "[Parallel(n_jobs=-1)]: Done  17 tasks      | elapsed:  2.6min\n",
      "[Parallel(n_jobs=-1)]: Done 138 tasks      | elapsed: 16.0min\n",
      "[Parallel(n_jobs=-1)]: Done 300 out of 300 | elapsed: 33.7min finished\n"
     ]
    },
    {
     "data": {
      "text/plain": [
       "RandomizedSearchCV(cv=3, error_score=nan,\n",
       "                   estimator=RandomForestClassifier(bootstrap=True,\n",
       "                                                    ccp_alpha=0.0,\n",
       "                                                    class_weight=None,\n",
       "                                                    criterion='gini',\n",
       "                                                    max_depth=None,\n",
       "                                                    max_features='auto',\n",
       "                                                    max_leaf_nodes=None,\n",
       "                                                    max_samples=None,\n",
       "                                                    min_impurity_decrease=0.0,\n",
       "                                                    min_impurity_split=None,\n",
       "                                                    min_samples_leaf=1,\n",
       "                                                    min_samples_split=2,\n",
       "                                                    min_weight_fraction_leaf=0.0,\n",
       "                                                    n_estimators=100, n_jobs...\n",
       "                   param_distributions={'bootstrap': [True, False],\n",
       "                                        'max_depth': [10, 20, 30, 40, 50, 60,\n",
       "                                                      70, 80, 90, 100, 110,\n",
       "                                                      None],\n",
       "                                        'max_features': ['auto', 'sqrt'],\n",
       "                                        'min_samples_leaf': [1, 2, 4],\n",
       "                                        'min_samples_split': [2, 5, 10],\n",
       "                                        'n_estimators': [200, 400, 600, 800,\n",
       "                                                         1000, 1200, 1400, 1600,\n",
       "                                                         1800, 2000]},\n",
       "                   pre_dispatch='2*n_jobs', random_state=42, refit=True,\n",
       "                   return_train_score=False, scoring=None, verbose=2)"
      ]
     },
     "execution_count": 72,
     "metadata": {},
     "output_type": "execute_result"
    }
   ],
   "source": [
    "rf_random.fit(X_train, y_train)"
   ]
  },
  {
   "cell_type": "code",
   "execution_count": 74,
   "metadata": {},
   "outputs": [],
   "source": [
    "from functions import save_pickle\n",
    "save_pickle(rf_random, \"model/rf_tuned.pkl\")"
   ]
  },
  {
   "cell_type": "code",
   "execution_count": 77,
   "metadata": {},
   "outputs": [],
   "source": [
    "y_pred_tuned = rf_random.predict(X_test)"
   ]
  },
  {
   "cell_type": "code",
   "execution_count": 81,
   "metadata": {},
   "outputs": [
    {
     "name": "stdout",
     "output_type": "stream",
     "text": [
      "The scikit-learn RandomForests model metrics:\n",
      "Accuracy: 0.818238085413658\n",
      "Recall: 0.7700548081714002\n",
      "f1-score: 0.778197381671702\n"
     ]
    }
   ],
   "source": [
    "print_scores(y_test, y_pred_tuned);"
   ]
  },
  {
   "cell_type": "code",
   "execution_count": 79,
   "metadata": {},
   "outputs": [
    {
     "data": {
      "image/png": "[encoded data removed]",
      "text/plain": [
       "<Figure size 576x396 with 2 Axes>"
      ]
     },
     "metadata": {},
     "output_type": "display_data"
    }
   ],
   "source": [
    "cf_matrix = confusion_matrix(y_test, y_pred_tuned)\n",
    "cf_plot = sns.heatmap(cf_matrix, annot=True, cmap='Blues', fmt=\"d\")\n",
    "cf_plot.set(title=\"Confusion matrix\", xlabel=\"Predicted class\", ylabel=\"True class\");"
   ]
  },
  {
   "cell_type": "code",
   "execution_count": 88,
   "metadata": {},
   "outputs": [
    {
     "name": "stdout",
     "output_type": "stream",
     "text": [
      "The scikit-learn RandomForests model metrics:\n",
      "Accuracy: 0.8105013410356922\n",
      "Recall: 0.7595914299950174\n",
      "Precision: 0.777607753124203\n",
      "f1-score: 0.7684940138626339\n",
      "The scikit-learn RandomForests model metrics:\n",
      "Accuracy: 0.818238085413658\n",
      "Recall: 0.7700548081714002\n",
      "Precision: 0.7865139949109414\n",
      "f1-score: 0.778197381671702\n"
     ]
    }
   ],
   "source": [
    "acc, rec, precision, f1 = print_scores(y_test, y_pred)\n",
    "acc_tuned, rec_tuned, precision_tuned, f1_tuned = print_scores(y_test, y_pred_tuned)"
   ]
  },
  {
   "cell_type": "markdown",
   "metadata": {},
   "source": [
    "## Results"
   ]
  },
  {
   "cell_type": "code",
   "execution_count": 94,
   "metadata": {},
   "outputs": [
    {
     "data": {
      "text/html": [
       "<div>\n",
       "<style scoped>\n",
       "    .dataframe tbody tr th:only-of-type {\n",
       "        vertical-align: middle;\n",
       "    }\n",
       "\n",
       "    .dataframe tbody tr th {\n",
       "        vertical-align: top;\n",
       "    }\n",
       "\n",
       "    .dataframe thead th {\n",
       "        text-align: right;\n",
       "    }\n",
       "</style>\n",
       "<table border=\"1\" class=\"dataframe\">\n",
       "  <thead>\n",
       "    <tr style=\"text-align: right;\">\n",
       "      <th></th>\n",
       "      <th>Accuracy</th>\n",
       "      <th>Recall</th>\n",
       "      <th>Precision</th>\n",
       "      <th>F1-Score</th>\n",
       "    </tr>\n",
       "  </thead>\n",
       "  <tbody>\n",
       "    <tr>\n",
       "      <th>PyCaret</th>\n",
       "      <td>0.820400</td>\n",
       "      <td>0.774200</td>\n",
       "      <td>0.773300</td>\n",
       "      <td>0.773700</td>\n",
       "    </tr>\n",
       "    <tr>\n",
       "      <th>RandomForest</th>\n",
       "      <td>0.810501</td>\n",
       "      <td>0.759591</td>\n",
       "      <td>0.777608</td>\n",
       "      <td>0.768494</td>\n",
       "    </tr>\n",
       "    <tr>\n",
       "      <th>Tuned RandomForest</th>\n",
       "      <td>0.818238</td>\n",
       "      <td>0.770055</td>\n",
       "      <td>0.786514</td>\n",
       "      <td>0.778197</td>\n",
       "    </tr>\n",
       "  </tbody>\n",
       "</table>\n",
       "</div>"
      ],
      "text/plain": [
       "                    Accuracy    Recall  Precision  F1-Score\n",
       "PyCaret             0.820400  0.774200   0.773300  0.773700\n",
       "RandomForest        0.810501  0.759591   0.777608  0.768494\n",
       "Tuned RandomForest  0.818238  0.770055   0.786514  0.778197"
      ]
     },
     "execution_count": 94,
     "metadata": {},
     "output_type": "execute_result"
    }
   ],
   "source": [
    "# Create the comparison chart\n",
    "pd.DataFrame([[0.8204, 0.7742, 0.7733, 0.7737],[acc, rec, precision, f1], [acc_tuned, rec_tuned, precision_tuned, f1_tuned]], index=[\"PyCaret\", \"RandomForest\", \"Tuned RandomForest\"], columns = [\"Accuracy\", \"Recall\", \"Precision\", \"F1-Score\"])"
   ]
  },
  {
   "cell_type": "markdown",
   "metadata": {},
   "source": [
    "### Sources & Inspiration\n",
    "\n",
    "#### Preprocessing:\n",
    "https://www.statology.org/one-hot-encoding-in-python/\n",
    "https://stackoverflow.com/questions/56338847/how-to-give-column-names-after-one-hot-encoding-with-sklearn\n",
    "https://medium.com/nerd-for-tech/difference-fit-transform-and-fit-transform-method-in-scikit-learn-b0a4efcab804\n",
    "\n",
    "#### RandomForests\n",
    "https://scikit-learn.org/stable/modules/generated/sklearn.ensemble.RandomForestClassifier.html"
   ]
  }
 ],
 "metadata": {
  "kernelspec": {
   "display_name": "Python 3 (ipykernel)",
   "language": "python",
   "name": "python3"
  },
  "language_info": {
   "codemirror_mode": {
    "name": "ipython",
    "version": 3
   },
   "file_extension": ".py",
   "mimetype": "text/x-python",
   "name": "python",
   "nbconvert_exporter": "python",
   "pygments_lexer": "ipython3",
   "version": "3.8.12"
  }
 },
 "nbformat": 4,
 "nbformat_minor": 4
}
