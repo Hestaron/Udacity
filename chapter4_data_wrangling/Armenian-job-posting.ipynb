{
 "cells": [
  {
   "cell_type": "markdown",
   "metadata": {},
   "source": [
    "# Data Wrangling Template"
   ]
  },
  {
   "cell_type": "markdown",
   "metadata": {},
   "source": [
    "## Gather"
   ]
  },
  {
   "cell_type": "code",
   "execution_count": 1,
   "metadata": {},
   "outputs": [
    {
     "name": "stdout",
     "output_type": "stream",
     "text": [
      "<zipfile.ZipFile filename='armenian-online-job-postings.zip' mode='r'>\n"
     ]
    },
    {
     "data": {
      "text/plain": [
       "<zipfile.ZipFile [closed]>"
      ]
     },
     "execution_count": 1,
     "metadata": {},
     "output_type": "execute_result"
    }
   ],
   "source": [
    "import zipfile\n",
    "import pandas as pd\n",
    "\n",
    "with zipfile.ZipFile('armenian-online-job-postings.zip','r') as myzip:\n",
    "    myzip.extractall()\n",
    "    print(myzip)\n",
    "myzip"
   ]
  },
  {
   "cell_type": "code",
   "execution_count": 3,
   "metadata": {},
   "outputs": [],
   "source": [
    "df = pd.read_csv('online-job-postings.csv')"
   ]
  },
  {
   "cell_type": "markdown",
   "metadata": {},
   "source": [
    "## Assess"
   ]
  },
  {
   "cell_type": "code",
   "execution_count": 8,
   "metadata": {},
   "outputs": [
    {
     "name": "stdout",
     "output_type": "stream",
     "text": [
      "<class 'pandas.core.frame.DataFrame'>\n",
      "RangeIndex: 19001 entries, 0 to 19000\n",
      "Data columns (total 24 columns):\n",
      " #   Column            Non-Null Count  Dtype \n",
      "---  ------            --------------  ----- \n",
      " 0   jobpost           19001 non-null  object\n",
      " 1   date              19001 non-null  object\n",
      " 2   Title             18973 non-null  object\n",
      " 3   Company           18994 non-null  object\n",
      " 4   AnnouncementCode  1208 non-null   object\n",
      " 5   Term              7676 non-null   object\n",
      " 6   Eligibility       4930 non-null   object\n",
      " 7   Audience          640 non-null    object\n",
      " 8   StartDate         9675 non-null   object\n",
      " 9   Duration          10798 non-null  object\n",
      " 10  Location          18969 non-null  object\n",
      " 11  JobDescription    15109 non-null  object\n",
      " 12  JobRequirment     16479 non-null  object\n",
      " 13  RequiredQual      18517 non-null  object\n",
      " 14  Salary            9622 non-null   object\n",
      " 15  ApplicationP      18941 non-null  object\n",
      " 16  OpeningDate       18295 non-null  object\n",
      " 17  Deadline          18936 non-null  object\n",
      " 18  Notes             2211 non-null   object\n",
      " 19  AboutC            12470 non-null  object\n",
      " 20  Attach            1559 non-null   object\n",
      " 21  Year              19001 non-null  int64 \n",
      " 22  Month             19001 non-null  int64 \n",
      " 23  IT                19001 non-null  bool  \n",
      "dtypes: bool(1), int64(2), object(21)\n",
      "memory usage: 3.4+ MB\n"
     ]
    }
   ],
   "source": [
    "df.info()"
   ]
  },
  {
   "cell_type": "markdown",
   "metadata": {},
   "source": [
    "## Clean"
   ]
  },
  {
   "cell_type": "markdown",
   "metadata": {},
   "source": [
    "#### Define"
   ]
  },
  {
   "cell_type": "markdown",
   "metadata": {},
   "source": [
    "#### Code"
   ]
  },
  {
   "cell_type": "code",
   "execution_count": 4,
   "metadata": {},
   "outputs": [],
   "source": [
    "df_clean = df.copy()"
   ]
  },
  {
   "cell_type": "code",
   "execution_count": 5,
   "metadata": {},
   "outputs": [],
   "source": [
    "df_clean = df_clean.rename(columns={'ApplicationP': 'ApplicationProcedure',\n",
    "                                    'AboutC': 'AboutCompany',\n",
    "                                    'RequiredQual': 'RequiredQualifications',\n",
    "                                    'JobRequirment': 'JobRequirements'})"
   ]
  },
  {
   "cell_type": "code",
   "execution_count": 6,
   "metadata": {},
   "outputs": [],
   "source": [
    "asap_list = ['Immediately', 'As soon as possible', 'Upon hiring',\n",
    "             'Immediate', 'Immediate employment', 'As soon as possible.', 'Immediate job opportunity',\n",
    "             '\"Immediate employment, after passing the interview.\"',\n",
    "             'ASAP preferred', 'Employment contract signature date',\n",
    "             'Immediate employment opportunity', 'Immidiately', 'ASA',\n",
    "             'Asap', '\"The position is open immediately but has a flexible start date depending on the candidates earliest availability.\"',\n",
    "             'Immediately upon agreement', '20 November 2014 or ASAP',\n",
    "             'immediately', 'Immediatelly',\n",
    "             '\"Immediately upon selection or no later than November 15, 2009.\"',\n",
    "             'Immediate job opening', 'Immediate hiring', 'Upon selection',\n",
    "             'As soon as practical', 'Immadiate', 'As soon as posible',\n",
    "             'Immediately with 2 months probation period',\n",
    "             '12 November 2012 or ASAP', 'Immediate employment after passing the interview',\n",
    "             'Immediately/ upon agreement', '01 September 2014 or ASAP',\n",
    "             'Immediately or as per agreement', 'as soon as possible',\n",
    "             'As soon as Possible', 'in the nearest future', 'immediate',\n",
    "             '01 April 2014 or ASAP', 'Immidiatly', 'Urgent',\n",
    "             'Immediate or earliest possible', 'Immediate hire',\n",
    "             'Earliest  possible', 'ASAP with 3 months probation period.',\n",
    "             'Immediate employment opportunity.', 'Immediate employment.',\n",
    "             'Immidietly', 'Imminent', 'September 2014 or ASAP', 'Imediately']\n",
    "\n",
    "for t in asap_list:\n",
    "    df_clean.StartDate.replace(t, 'ASAP' , inplace=True)"
   ]
  },
  {
   "cell_type": "code",
   "execution_count": 7,
   "metadata": {},
   "outputs": [
    {
     "data": {
      "text/plain": [
       "ASAP                 6856\n",
       "01 September 2012      31\n",
       "March 2006             27\n",
       "November 2006          22\n",
       "January 2010           19\n",
       "                     ... \n",
       "01 Autust 2004          1\n",
       "20 August 20006         1\n",
       "Mid. August             1\n",
       "19 July 2004            1\n",
       "10 February 2007        1\n",
       "Name: StartDate, Length: 1140, dtype: int64"
      ]
     },
     "execution_count": 7,
     "metadata": {},
     "output_type": "execute_result"
    }
   ],
   "source": [
    "df_clean.StartDate.value_counts()"
   ]
  },
  {
   "cell_type": "markdown",
   "metadata": {},
   "source": [
    "#### Test"
   ]
  },
  {
   "cell_type": "code",
   "execution_count": 9,
   "metadata": {},
   "outputs": [],
   "source": [
    "for phrase in asap_list:\n",
    "    assert phrase not in df_clean.StartDate"
   ]
  },
  {
   "cell_type": "code",
   "execution_count": null,
   "metadata": {},
   "outputs": [],
   "source": []
  }
 ],
 "metadata": {
  "kernelspec": {
   "display_name": "Python 3",
   "language": "python",
   "name": "python3"
  },
  "language_info": {
   "codemirror_mode": {
    "name": "ipython",
    "version": 3
   },
   "file_extension": ".py",
   "mimetype": "text/x-python",
   "name": "python",
   "nbconvert_exporter": "python",
   "pygments_lexer": "ipython3",
   "version": "3.9.2"
  }
 },
 "nbformat": 4,
 "nbformat_minor": 4
}
