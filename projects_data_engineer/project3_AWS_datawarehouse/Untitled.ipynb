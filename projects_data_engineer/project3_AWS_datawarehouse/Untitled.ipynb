{
 "cells": [
  {
   "cell_type": "code",
   "execution_count": 26,
   "id": "5b22cccf-8634-4025-a3c9-803837baf1af",
   "metadata": {},
   "outputs": [
    {
     "name": "stdout",
     "output_type": "stream",
     "text": [
      "['\\n', '\\n']\n"
     ]
    },
    {
     "ename": "ProgrammingError",
     "evalue": "can't execute an empty query",
     "output_type": "error",
     "traceback": [
      "\u001b[1;31m---------------------------------------------------------------------------\u001b[0m",
      "\u001b[1;31mProgrammingError\u001b[0m                          Traceback (most recent call last)",
      "Input \u001b[1;32mIn [26]\u001b[0m, in \u001b[0;36m<cell line: 9>\u001b[1;34m()\u001b[0m\n\u001b[0;32m      9\u001b[0m \u001b[38;5;28;01mfor\u001b[39;00m query \u001b[38;5;129;01min\u001b[39;00m copy_table_queries:\n\u001b[0;32m     10\u001b[0m     \u001b[38;5;28mprint\u001b[39m(copy_table_queries)\n\u001b[1;32m---> 11\u001b[0m     \u001b[43mcur\u001b[49m\u001b[38;5;241;43m.\u001b[39;49m\u001b[43mexecute\u001b[49m\u001b[43m(\u001b[49m\u001b[43mquery\u001b[49m\u001b[43m)\u001b[49m\n\u001b[0;32m     12\u001b[0m     conn\u001b[38;5;241m.\u001b[39mcommit()\n\u001b[0;32m     14\u001b[0m insert_tables(cur, conn)\n",
      "\u001b[1;31mProgrammingError\u001b[0m: can't execute an empty query"
     ]
    }
   ],
   "source": [
    "from sql_queries import *\n",
    "\n",
    "config = configparser.ConfigParser()\n",
    "config.read('dwh.cfg')\n",
    "\n",
    "conn = psycopg2.connect(\"host={} dbname={} user={} password={} port={}\".format(*config['CLUSTER'].values()))\n",
    "cur = conn.cursor()\n",
    "\n",
    "for query in copy_table_queries:\n",
    "    print(copy_table_queries)\n",
    "    cur.execute(query)\n",
    "    conn.commit()\n",
    "\n",
    "insert_tables(cur, conn)"
   ]
  },
  {
   "cell_type": "code",
   "execution_count": 1,
   "id": "bf0bffa2-0690-4fbf-b695-d1f2329796b9",
   "metadata": {},
   "outputs": [
    {
     "data": {
      "text/plain": [
       "\"\\n    copy staging_events from udacity-dend/log_data\\n    credentials 'aws_iam_role=redshiftRole'\\n    gzip region 'us-west-2';\\n    \""
      ]
     },
     "execution_count": 1,
     "metadata": {},
     "output_type": "execute_result"
    }
   ],
   "source": [
    "from sql_queries import copy_table_queries, staging_events_copy\n",
    "staging_events_copy"
   ]
  },
  {
   "cell_type": "code",
   "execution_count": 22,
   "id": "565ac446-27ce-49d4-9863-9d8ec908a0f2",
   "metadata": {},
   "outputs": [
    {
     "data": {
      "text/plain": [
       "'\"arn:aws:iam::988332130976:role/dwhRole\"'"
      ]
     },
     "execution_count": 22,
     "metadata": {},
     "output_type": "execute_result"
    }
   ],
   "source": [
    "config['IAM_ROLE'].get('ARN')"
   ]
  },
  {
   "cell_type": "code",
   "execution_count": 32,
   "id": "6f8d1e5e-69a9-4cc4-8b2e-f2df8231809f",
   "metadata": {},
   "outputs": [],
   "source": [
    "staging_events_copy = (\"\"\"\n",
    "    copy staging_events from {}\n",
    "    credentials 'aws_iam_role={}'\n",
    "    gzip region 'us-west-2';\n",
    "    \"\"\").format(config.get(\"S3\",\"LOG_DATA\"), config.get(\"DWH\", \"DWH_IAM_ROLE_NAME\").strip(\"'\"))"
   ]
  },
  {
   "cell_type": "code",
   "execution_count": 33,
   "id": "00b454ed-6922-46e4-8cdc-2d39db383b6a",
   "metadata": {},
   "outputs": [
    {
     "data": {
      "text/plain": [
       "\"\\n    copy staging_events from udacity-dend/log_data\\n    credentials 'aws_iam_role=redshiftRole'\\n    gzip region 'us-west-2';\\n    \""
      ]
     },
     "execution_count": 33,
     "metadata": {},
     "output_type": "execute_result"
    }
   ],
   "source": [
    "staging_events_copy"
   ]
  },
  {
   "cell_type": "code",
   "execution_count": 2,
   "id": "255a7bd2-f1d5-4d13-992e-7de732528f4a",
   "metadata": {},
   "outputs": [
    {
     "ename": "SyntaxError",
     "evalue": "syntax error at or near \"udacity\"\nLINE 2:     copy staging_events from udacity-dend/log_data\n                                     ^\n",
     "output_type": "error",
     "traceback": [
      "\u001b[1;31m---------------------------------------------------------------------------\u001b[0m",
      "\u001b[1;31mSyntaxError\u001b[0m                               Traceback (most recent call last)",
      "Input \u001b[1;32mIn [2]\u001b[0m, in \u001b[0;36m<cell line: 3>\u001b[1;34m()\u001b[0m\n\u001b[0;32m      1\u001b[0m \u001b[38;5;28;01mfrom\u001b[39;00m \u001b[38;5;21;01metl\u001b[39;00m \u001b[38;5;28;01mimport\u001b[39;00m \u001b[38;5;241m*\u001b[39m\n\u001b[1;32m----> 3\u001b[0m \u001b[43mmain\u001b[49m\u001b[43m(\u001b[49m\u001b[43m)\u001b[49m\n",
      "File \u001b[1;32mD:\\OneDrive - Watson + Holmes\\WerkbestandenYannick\\Werkmap_Python\\Projecten\\Studie\\Udacity\\Nano_data_engineer\\2_AWS_project\\etl.py:25\u001b[0m, in \u001b[0;36mmain\u001b[1;34m()\u001b[0m\n\u001b[0;32m     22\u001b[0m conn \u001b[38;5;241m=\u001b[39m psycopg2\u001b[38;5;241m.\u001b[39mconnect(\u001b[38;5;124m\"\u001b[39m\u001b[38;5;124mhost=\u001b[39m\u001b[38;5;132;01m{}\u001b[39;00m\u001b[38;5;124m dbname=\u001b[39m\u001b[38;5;132;01m{}\u001b[39;00m\u001b[38;5;124m user=\u001b[39m\u001b[38;5;132;01m{}\u001b[39;00m\u001b[38;5;124m password=\u001b[39m\u001b[38;5;132;01m{}\u001b[39;00m\u001b[38;5;124m port=\u001b[39m\u001b[38;5;132;01m{}\u001b[39;00m\u001b[38;5;124m\"\u001b[39m\u001b[38;5;241m.\u001b[39mformat(\u001b[38;5;241m*\u001b[39mconfig[\u001b[38;5;124m'\u001b[39m\u001b[38;5;124mCLUSTER\u001b[39m\u001b[38;5;124m'\u001b[39m]\u001b[38;5;241m.\u001b[39mvalues()))\n\u001b[0;32m     23\u001b[0m cur \u001b[38;5;241m=\u001b[39m conn\u001b[38;5;241m.\u001b[39mcursor()\n\u001b[1;32m---> 25\u001b[0m \u001b[43mload_staging_tables\u001b[49m\u001b[43m(\u001b[49m\u001b[43mcur\u001b[49m\u001b[43m,\u001b[49m\u001b[43m \u001b[49m\u001b[43mconn\u001b[49m\u001b[43m)\u001b[49m\n\u001b[0;32m     26\u001b[0m insert_tables(cur, conn)\n\u001b[0;32m     28\u001b[0m conn\u001b[38;5;241m.\u001b[39mclose()\n",
      "File \u001b[1;32mD:\\OneDrive - Watson + Holmes\\WerkbestandenYannick\\Werkmap_Python\\Projecten\\Studie\\Udacity\\Nano_data_engineer\\2_AWS_project\\etl.py:8\u001b[0m, in \u001b[0;36mload_staging_tables\u001b[1;34m(cur, conn)\u001b[0m\n\u001b[0;32m      6\u001b[0m \u001b[38;5;28;01mdef\u001b[39;00m \u001b[38;5;21mload_staging_tables\u001b[39m(cur, conn):\n\u001b[0;32m      7\u001b[0m     \u001b[38;5;28;01mfor\u001b[39;00m query \u001b[38;5;129;01min\u001b[39;00m copy_table_queries:\n\u001b[1;32m----> 8\u001b[0m         \u001b[43mcur\u001b[49m\u001b[38;5;241;43m.\u001b[39;49m\u001b[43mexecute\u001b[49m\u001b[43m(\u001b[49m\u001b[43mquery\u001b[49m\u001b[43m)\u001b[49m\n\u001b[0;32m      9\u001b[0m         conn\u001b[38;5;241m.\u001b[39mcommit()\n",
      "\u001b[1;31mSyntaxError\u001b[0m: syntax error at or near \"udacity\"\nLINE 2:     copy staging_events from udacity-dend/log_data\n                                     ^\n"
     ]
    }
   ],
   "source": [
    "from etl import *\n",
    "\n",
    "main()"
   ]
  },
  {
   "cell_type": "code",
   "execution_count": null,
   "id": "5ecfee17-f916-4769-9a53-88285c001b1e",
   "metadata": {},
   "outputs": [],
   "source": []
  }
 ],
 "metadata": {
  "kernelspec": {
   "display_name": "Python 3 (ipykernel)",
   "language": "python",
   "name": "python3"
  },
  "language_info": {
   "codemirror_mode": {
    "name": "ipython",
    "version": 3
   },
   "file_extension": ".py",
   "mimetype": "text/x-python",
   "name": "python",
   "nbconvert_exporter": "python",
   "pygments_lexer": "ipython3",
   "version": "3.10.4"
  }
 },
 "nbformat": 4,
 "nbformat_minor": 5
}
