{
 "cells": [
  {
   "cell_type": "code",
   "execution_count": 1,
   "id": "abce2ff6-117a-4ffd-8062-5d0f41a975fb",
   "metadata": {},
   "outputs": [],
   "source": [
    "import configparser\n",
    "from datetime import datetime\n",
    "import os\n",
    "from pyspark.sql import SparkSession\n",
    "from pyspark.sql.functions import udf, col\n",
    "from pyspark.sql.functions import year, month, dayofmonth, hour, weekofyear, date_format\n",
    "\n",
    "\n",
    "# Connect to AWS\n",
    "config = configparser.ConfigParser()\n",
    "config.read('dl_prod.cfg')\n",
    "\n",
    "os.environ['AWS_ACCESS_KEY_ID']=config.get(\"CREDENTIALS\", 'AWS_ACCESS_KEY_ID')\n",
    "os.environ['AWS_SECRET_ACCESS_KEY']=config.get(\"CREDENTIALS\", 'AWS_SECRET_ACCESS_KEY')\n",
    "\n",
    "def create_spark_session():\n",
    "    spark = SparkSession \\\n",
    "        .builder \\\n",
    "        .config(\"spark.jars.packages\", \"org.apache.hadoop:hadoop-aws:2.7.0\") \\\n",
    "        .getOrCreate()\n",
    "    return spark"
   ]
  },
  {
   "cell_type": "code",
   "execution_count": null,
   "id": "2d6493d7-2cb4-4558-b07d-a3f1d052508d",
   "metadata": {},
   "outputs": [],
   "source": [
    "spark = create_spark_session()\n",
    "input_data = \"s3a://udacity-dend/\"\n",
    "output_data = \"\"\n",
    "\n",
    "# process_song_data(spark, input_data, output_data)"
   ]
  },
  {
   "cell_type": "code",
   "execution_count": null,
   "id": "18cfcec2-047a-43f1-ab1b-853c0cf3d591",
   "metadata": {},
   "outputs": [
    {
     "ename": "SyntaxError",
     "evalue": "invalid syntax (1981187336.py, line 2)",
     "output_type": "error",
     "traceback": [
      "\u001b[1;36m  File \u001b[1;32m\"C:\\Users\\ylc.mariman.MVGM\\AppData\\Local\\Temp\\ipykernel_27024\\1981187336.py\"\u001b[1;36m, line \u001b[1;32m2\u001b[0m\n\u001b[1;33m    song_data =\u001b[0m\n\u001b[1;37m                ^\u001b[0m\n\u001b[1;31mSyntaxError\u001b[0m\u001b[1;31m:\u001b[0m invalid syntax\n"
     ]
    }
   ],
   "source": [
    "# get filepath to song data file\n",
    "song_data = \n",
    "\n",
    "# # read song data file\n",
    "# df = \n",
    "\n",
    "# # extract columns to create songs table\n",
    "# songs_table = \n",
    "\n",
    "# # write songs table to parquet files partitioned by year and artist\n",
    "# songs_table\n",
    "\n",
    "# # extract columns to create artists table\n",
    "# artists_table = \n",
    "\n",
    "# # write artists table to parquet files\n",
    "# artists_table"
   ]
  }
 ],
 "metadata": {
  "kernelspec": {
   "display_name": "Python 3 (ipykernel)",
   "language": "python",
   "name": "python3"
  },
  "language_info": {
   "codemirror_mode": {
    "name": "ipython",
    "version": 3
   },
   "file_extension": ".py",
   "mimetype": "text/x-python",
   "name": "python",
   "nbconvert_exporter": "python",
   "pygments_lexer": "ipython3",
   "version": "3.7.12"
  }
 },
 "nbformat": 4,
 "nbformat_minor": 5
}
